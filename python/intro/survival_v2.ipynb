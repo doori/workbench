{
 "cells": [
  {
   "cell_type": "code",
   "execution_count": 13,
   "id": "future-dealer",
   "metadata": {},
   "outputs": [],
   "source": [
    "%config Completer.use_jedi = False"
   ]
  },
  {
   "cell_type": "code",
   "execution_count": 14,
   "id": "married-democracy",
   "metadata": {},
   "outputs": [
    {
     "name": "stdout",
     "output_type": "stream",
     "text": [
      "SwaggerClient(https://www.cbioportal.org/api)\n"
     ]
    }
   ],
   "source": [
    "from bravado.client import SwaggerClient\n",
    "\n",
    "cbioportal = SwaggerClient.from_url('https://www.cbioportal.org/api/api-docs',\n",
    "                                config={\"validate_requests\":False,\"validate_responses\":False})\n",
    "print(cbioportal)"
   ]
  },
  {
   "cell_type": "code",
   "execution_count": 15,
   "id": "identical-branch",
   "metadata": {},
   "outputs": [],
   "source": [
    "import pandas as pd"
   ]
  },
  {
   "cell_type": "code",
   "execution_count": 16,
   "id": "stable-trademark",
   "metadata": {},
   "outputs": [],
   "source": [
    "study_id='skcm_tcga_pan_can_atlas_2018'"
   ]
  },
  {
   "cell_type": "code",
   "execution_count": 17,
   "id": "organized-truck",
   "metadata": {},
   "outputs": [],
   "source": [
    "def get_pandas_df(list):\n",
    "    return pd.DataFrame.from_dict([\n",
    "            dict(\n",
    "                {k:getattr(m,k) for k in m})\n",
    "                    for m in list\n",
    "                    ])"
   ]
  },
  {
   "cell_type": "code",
   "execution_count": 18,
   "id": "terminal-cherry",
   "metadata": {},
   "outputs": [
    {
     "data": {
      "text/html": [
       "<div>\n",
       "<style scoped>\n",
       "    .dataframe tbody tr th:only-of-type {\n",
       "        vertical-align: middle;\n",
       "    }\n",
       "\n",
       "    .dataframe tbody tr th {\n",
       "        vertical-align: top;\n",
       "    }\n",
       "\n",
       "    .dataframe thead th {\n",
       "        text-align: right;\n",
       "    }\n",
       "</style>\n",
       "<table border=\"1\" class=\"dataframe\">\n",
       "  <thead>\n",
       "    <tr style=\"text-align: right;\">\n",
       "      <th></th>\n",
       "      <th>datatype</th>\n",
       "      <th>description</th>\n",
       "      <th>genericAssayType</th>\n",
       "      <th>molecularAlterationType</th>\n",
       "      <th>molecularProfileId</th>\n",
       "      <th>name</th>\n",
       "      <th>pivotThreshold</th>\n",
       "      <th>showProfileInAnalysisTab</th>\n",
       "      <th>sortOrder</th>\n",
       "      <th>study</th>\n",
       "      <th>studyId</th>\n",
       "    </tr>\n",
       "  </thead>\n",
       "  <tbody>\n",
       "    <tr>\n",
       "      <th>0</th>\n",
       "      <td>LOG2-VALUE</td>\n",
       "      <td>Protein expression measured by reverse-phase p...</td>\n",
       "      <td>None</td>\n",
       "      <td>PROTEIN_LEVEL</td>\n",
       "      <td>skcm_tcga_pan_can_atlas_2018_rppa</td>\n",
       "      <td>Protein expression (RPPA)</td>\n",
       "      <td>NaN</td>\n",
       "      <td>False</td>\n",
       "      <td>None</td>\n",
       "      <td>None</td>\n",
       "      <td>skcm_tcga_pan_can_atlas_2018</td>\n",
       "    </tr>\n",
       "    <tr>\n",
       "      <th>1</th>\n",
       "      <td>Z-SCORE</td>\n",
       "      <td>Protein expression, measured by reverse-phase ...</td>\n",
       "      <td>None</td>\n",
       "      <td>PROTEIN_LEVEL</td>\n",
       "      <td>skcm_tcga_pan_can_atlas_2018_rppa_Zscores</td>\n",
       "      <td>Protein expression z-scores (RPPA)</td>\n",
       "      <td>NaN</td>\n",
       "      <td>True</td>\n",
       "      <td>None</td>\n",
       "      <td>None</td>\n",
       "      <td>skcm_tcga_pan_can_atlas_2018</td>\n",
       "    </tr>\n",
       "    <tr>\n",
       "      <th>2</th>\n",
       "      <td>DISCRETE</td>\n",
       "      <td>Putative copy-number from GISTIC 2.0. Values: ...</td>\n",
       "      <td>None</td>\n",
       "      <td>COPY_NUMBER_ALTERATION</td>\n",
       "      <td>skcm_tcga_pan_can_atlas_2018_gistic</td>\n",
       "      <td>Putative copy-number alterations from GISTIC</td>\n",
       "      <td>NaN</td>\n",
       "      <td>True</td>\n",
       "      <td>None</td>\n",
       "      <td>None</td>\n",
       "      <td>skcm_tcga_pan_can_atlas_2018</td>\n",
       "    </tr>\n",
       "    <tr>\n",
       "      <th>3</th>\n",
       "      <td>CONTINUOUS</td>\n",
       "      <td>mRNA Expression, RSEM (Batch normalized from I...</td>\n",
       "      <td>None</td>\n",
       "      <td>MRNA_EXPRESSION</td>\n",
       "      <td>skcm_tcga_pan_can_atlas_2018_rna_seq_v2_mrna</td>\n",
       "      <td>mRNA Expression, RSEM (Batch normalized from I...</td>\n",
       "      <td>NaN</td>\n",
       "      <td>False</td>\n",
       "      <td>None</td>\n",
       "      <td>None</td>\n",
       "      <td>skcm_tcga_pan_can_atlas_2018</td>\n",
       "    </tr>\n",
       "    <tr>\n",
       "      <th>4</th>\n",
       "      <td>Z-SCORE</td>\n",
       "      <td>mRNA expression z-scores (RNA Seq V2 RSEM) com...</td>\n",
       "      <td>None</td>\n",
       "      <td>MRNA_EXPRESSION</td>\n",
       "      <td>skcm_tcga_pan_can_atlas_2018_rna_seq_v2_mrna_m...</td>\n",
       "      <td>mRNA expression z-scores relative to diploid s...</td>\n",
       "      <td>NaN</td>\n",
       "      <td>True</td>\n",
       "      <td>None</td>\n",
       "      <td>None</td>\n",
       "      <td>skcm_tcga_pan_can_atlas_2018</td>\n",
       "    </tr>\n",
       "  </tbody>\n",
       "</table>\n",
       "</div>"
      ],
      "text/plain": [
       "     datatype                                        description  \\\n",
       "0  LOG2-VALUE  Protein expression measured by reverse-phase p...   \n",
       "1     Z-SCORE  Protein expression, measured by reverse-phase ...   \n",
       "2    DISCRETE  Putative copy-number from GISTIC 2.0. Values: ...   \n",
       "3  CONTINUOUS  mRNA Expression, RSEM (Batch normalized from I...   \n",
       "4     Z-SCORE  mRNA expression z-scores (RNA Seq V2 RSEM) com...   \n",
       "\n",
       "  genericAssayType molecularAlterationType  \\\n",
       "0             None           PROTEIN_LEVEL   \n",
       "1             None           PROTEIN_LEVEL   \n",
       "2             None  COPY_NUMBER_ALTERATION   \n",
       "3             None         MRNA_EXPRESSION   \n",
       "4             None         MRNA_EXPRESSION   \n",
       "\n",
       "                                  molecularProfileId  \\\n",
       "0                  skcm_tcga_pan_can_atlas_2018_rppa   \n",
       "1          skcm_tcga_pan_can_atlas_2018_rppa_Zscores   \n",
       "2                skcm_tcga_pan_can_atlas_2018_gistic   \n",
       "3       skcm_tcga_pan_can_atlas_2018_rna_seq_v2_mrna   \n",
       "4  skcm_tcga_pan_can_atlas_2018_rna_seq_v2_mrna_m...   \n",
       "\n",
       "                                                name  pivotThreshold  \\\n",
       "0                          Protein expression (RPPA)             NaN   \n",
       "1                 Protein expression z-scores (RPPA)             NaN   \n",
       "2       Putative copy-number alterations from GISTIC             NaN   \n",
       "3  mRNA Expression, RSEM (Batch normalized from I...             NaN   \n",
       "4  mRNA expression z-scores relative to diploid s...             NaN   \n",
       "\n",
       "   showProfileInAnalysisTab sortOrder study                       studyId  \n",
       "0                     False      None  None  skcm_tcga_pan_can_atlas_2018  \n",
       "1                      True      None  None  skcm_tcga_pan_can_atlas_2018  \n",
       "2                      True      None  None  skcm_tcga_pan_can_atlas_2018  \n",
       "3                     False      None  None  skcm_tcga_pan_can_atlas_2018  \n",
       "4                      True      None  None  skcm_tcga_pan_can_atlas_2018  "
      ]
     },
     "execution_count": 18,
     "metadata": {},
     "output_type": "execute_result"
    }
   ],
   "source": [
    "mol_profiles=cbioportal.Molecular_Profiles.getAllMolecularProfilesInStudyUsingGET(studyId=study_id).result()\n",
    "mpdf = get_pandas_df(mol_profiles)\n",
    "mpdf.head()"
   ]
  },
  {
   "cell_type": "code",
   "execution_count": 19,
   "id": "relative-russia",
   "metadata": {},
   "outputs": [
    {
     "data": {
      "text/plain": [
       "'skcm_tcga_pan_can_atlas_2018_mutations'"
      ]
     },
     "execution_count": 19,
     "metadata": {},
     "output_type": "execute_result"
    }
   ],
   "source": [
    "mol_profile_id = mpdf.loc[mpdf['name'] == 'Mutations']['molecularProfileId'].item()\n",
    "mol_profile_id"
   ]
  },
  {
   "cell_type": "code",
   "execution_count": 20,
   "id": "worst-indonesian",
   "metadata": {},
   "outputs": [
    {
     "data": {
      "text/html": [
       "<div>\n",
       "<style scoped>\n",
       "    .dataframe tbody tr th:only-of-type {\n",
       "        vertical-align: middle;\n",
       "    }\n",
       "\n",
       "    .dataframe tbody tr th {\n",
       "        vertical-align: top;\n",
       "    }\n",
       "\n",
       "    .dataframe thead th {\n",
       "        text-align: right;\n",
       "    }\n",
       "</style>\n",
       "<table border=\"1\" class=\"dataframe\">\n",
       "  <thead>\n",
       "    <tr style=\"text-align: right;\">\n",
       "      <th></th>\n",
       "      <th>entrezGeneId</th>\n",
       "      <th>geneticEntityId</th>\n",
       "      <th>hugoGeneSymbol</th>\n",
       "      <th>type</th>\n",
       "    </tr>\n",
       "  </thead>\n",
       "  <tbody>\n",
       "    <tr>\n",
       "      <th>0</th>\n",
       "      <td>673</td>\n",
       "      <td>None</td>\n",
       "      <td>BRAF</td>\n",
       "      <td>protein-coding</td>\n",
       "    </tr>\n",
       "    <tr>\n",
       "      <th>1</th>\n",
       "      <td>286494</td>\n",
       "      <td>None</td>\n",
       "      <td>BRAFP1</td>\n",
       "      <td>pseudo</td>\n",
       "    </tr>\n",
       "    <tr>\n",
       "      <th>2</th>\n",
       "      <td>-11087</td>\n",
       "      <td>None</td>\n",
       "      <td>BRAF_PS147</td>\n",
       "      <td>phosphoprotein</td>\n",
       "    </tr>\n",
       "    <tr>\n",
       "      <th>3</th>\n",
       "      <td>-11088</td>\n",
       "      <td>None</td>\n",
       "      <td>BRAF_PS151</td>\n",
       "      <td>phosphoprotein</td>\n",
       "    </tr>\n",
       "    <tr>\n",
       "      <th>4</th>\n",
       "      <td>-59030</td>\n",
       "      <td>None</td>\n",
       "      <td>BRAF_PS314</td>\n",
       "      <td>phosphoprotein</td>\n",
       "    </tr>\n",
       "  </tbody>\n",
       "</table>\n",
       "</div>"
      ],
      "text/plain": [
       "   entrezGeneId geneticEntityId hugoGeneSymbol            type\n",
       "0           673            None           BRAF  protein-coding\n",
       "1        286494            None         BRAFP1          pseudo\n",
       "2        -11087            None     BRAF_PS147  phosphoprotein\n",
       "3        -11088            None     BRAF_PS151  phosphoprotein\n",
       "4        -59030            None     BRAF_PS314  phosphoprotein"
      ]
     },
     "execution_count": 20,
     "metadata": {},
     "output_type": "execute_result"
    }
   ],
   "source": [
    "genes = cbioportal.Genes.getAllGenesUsingGET(keyword='BRAF').result()\n",
    "gdf = get_pandas_df(genes)\n",
    "gdf.head()"
   ]
  },
  {
   "cell_type": "code",
   "execution_count": 21,
   "id": "solved-setup",
   "metadata": {},
   "outputs": [
    {
     "data": {
      "text/plain": [
       "673"
      ]
     },
     "execution_count": 21,
     "metadata": {},
     "output_type": "execute_result"
    }
   ],
   "source": [
    "entrez_gene_id = gdf.loc[gdf['hugoGeneSymbol'] == 'BRAF']['entrezGeneId'].item()\n",
    "entrez_gene_id"
   ]
  },
  {
   "cell_type": "code",
   "execution_count": 22,
   "id": "considered-damages",
   "metadata": {},
   "outputs": [
    {
     "data": {
      "text/plain": [
       "Index(['alleleSpecificCopyNumber', 'aminoAcidChange', 'center', 'chr',\n",
       "       'driverFilter', 'driverFilterAnnotation', 'driverTiersFilter',\n",
       "       'driverTiersFilterAnnotation', 'endPosition', 'entrezGeneId',\n",
       "       'fisValue', 'functionalImpactScore', 'gene', 'keyword', 'linkMsa',\n",
       "       'linkPdb', 'linkXvar', 'molecularProfileId', 'mutationStatus',\n",
       "       'mutationType', 'ncbiBuild', 'normalAltCount', 'normalRefCount',\n",
       "       'patientId', 'proteinChange', 'proteinPosEnd', 'proteinPosStart',\n",
       "       'referenceAllele', 'refseqMrnaId', 'sampleId', 'startPosition',\n",
       "       'studyId', 'tumorAltCount', 'tumorRefCount', 'uniquePatientKey',\n",
       "       'uniqueSampleKey', 'validationStatus', 'variantAllele', 'variantType'],\n",
       "      dtype='object')"
      ]
     },
     "execution_count": 22,
     "metadata": {},
     "output_type": "execute_result"
    }
   ],
   "source": [
    "mutations = cbioportal.Mutations.getMutationsInMolecularProfileBySampleListIdUsingGET(\n",
    "    sampleListId='skcm_tcga_pan_can_atlas_2018_cnaseq', \n",
    "    molecularProfileId=mol_profile_id,\n",
    "    entrezGeneId=entrez_gene_id).result()\n",
    "\n",
    "mdf = get_pandas_df(mutations)\n",
    "mdf.columns"
   ]
  },
  {
   "cell_type": "code",
   "execution_count": 23,
   "id": "bearing-intro",
   "metadata": {},
   "outputs": [
    {
     "data": {
      "text/plain": [
       "191"
      ]
     },
     "execution_count": 23,
     "metadata": {},
     "output_type": "execute_result"
    }
   ],
   "source": [
    "all_patients = mdf['patientId'].tolist()\n",
    "len(set(all_patients))"
   ]
  },
  {
   "cell_type": "code",
   "execution_count": 24,
   "id": "seasonal-renewal",
   "metadata": {},
   "outputs": [
    {
     "data": {
      "text/html": [
       "<div>\n",
       "<style scoped>\n",
       "    .dataframe tbody tr th:only-of-type {\n",
       "        vertical-align: middle;\n",
       "    }\n",
       "\n",
       "    .dataframe tbody tr th {\n",
       "        vertical-align: top;\n",
       "    }\n",
       "\n",
       "    .dataframe thead th {\n",
       "        text-align: right;\n",
       "    }\n",
       "</style>\n",
       "<table border=\"1\" class=\"dataframe\">\n",
       "  <thead>\n",
       "    <tr style=\"text-align: right;\">\n",
       "      <th></th>\n",
       "      <th>alleleSpecificCopyNumber</th>\n",
       "      <th>aminoAcidChange</th>\n",
       "      <th>center</th>\n",
       "      <th>chr</th>\n",
       "      <th>driverFilter</th>\n",
       "      <th>driverFilterAnnotation</th>\n",
       "      <th>driverTiersFilter</th>\n",
       "      <th>driverTiersFilterAnnotation</th>\n",
       "      <th>endPosition</th>\n",
       "      <th>entrezGeneId</th>\n",
       "      <th>...</th>\n",
       "      <th>sampleId</th>\n",
       "      <th>startPosition</th>\n",
       "      <th>studyId</th>\n",
       "      <th>tumorAltCount</th>\n",
       "      <th>tumorRefCount</th>\n",
       "      <th>uniquePatientKey</th>\n",
       "      <th>uniqueSampleKey</th>\n",
       "      <th>validationStatus</th>\n",
       "      <th>variantAllele</th>\n",
       "      <th>variantType</th>\n",
       "    </tr>\n",
       "  </thead>\n",
       "  <tbody>\n",
       "    <tr>\n",
       "      <th>8</th>\n",
       "      <td>None</td>\n",
       "      <td>None</td>\n",
       "      <td>.</td>\n",
       "      <td>7</td>\n",
       "      <td>None</td>\n",
       "      <td>None</td>\n",
       "      <td>None</td>\n",
       "      <td>None</td>\n",
       "      <td>140453136</td>\n",
       "      <td>673</td>\n",
       "      <td>...</td>\n",
       "      <td>TCGA-BF-AAP0-06</td>\n",
       "      <td>140453136</td>\n",
       "      <td>skcm_tcga_pan_can_atlas_2018</td>\n",
       "      <td>54</td>\n",
       "      <td>64</td>\n",
       "      <td>VENHQS1CRi1BQVAwOnNrY21fdGNnYV9wYW5fY2FuX2F0bG...</td>\n",
       "      <td>VENHQS1CRi1BQVAwLTA2OnNrY21fdGNnYV9wYW5fY2FuX2...</td>\n",
       "      <td>.</td>\n",
       "      <td>T</td>\n",
       "      <td>SNP</td>\n",
       "    </tr>\n",
       "    <tr>\n",
       "      <th>9</th>\n",
       "      <td>None</td>\n",
       "      <td>None</td>\n",
       "      <td>.</td>\n",
       "      <td>7</td>\n",
       "      <td>None</td>\n",
       "      <td>None</td>\n",
       "      <td>None</td>\n",
       "      <td>None</td>\n",
       "      <td>140453136</td>\n",
       "      <td>673</td>\n",
       "      <td>...</td>\n",
       "      <td>TCGA-D3-A1Q4-06</td>\n",
       "      <td>140453136</td>\n",
       "      <td>skcm_tcga_pan_can_atlas_2018</td>\n",
       "      <td>26</td>\n",
       "      <td>29</td>\n",
       "      <td>VENHQS1EMy1BMVE0OnNrY21fdGNnYV9wYW5fY2FuX2F0bG...</td>\n",
       "      <td>VENHQS1EMy1BMVE0LTA2OnNrY21fdGNnYV9wYW5fY2FuX2...</td>\n",
       "      <td>.</td>\n",
       "      <td>T</td>\n",
       "      <td>SNP</td>\n",
       "    </tr>\n",
       "    <tr>\n",
       "      <th>10</th>\n",
       "      <td>None</td>\n",
       "      <td>None</td>\n",
       "      <td>.</td>\n",
       "      <td>7</td>\n",
       "      <td>None</td>\n",
       "      <td>None</td>\n",
       "      <td>None</td>\n",
       "      <td>None</td>\n",
       "      <td>140453136</td>\n",
       "      <td>673</td>\n",
       "      <td>...</td>\n",
       "      <td>TCGA-D3-A1Q5-06</td>\n",
       "      <td>140453136</td>\n",
       "      <td>skcm_tcga_pan_can_atlas_2018</td>\n",
       "      <td>33</td>\n",
       "      <td>17</td>\n",
       "      <td>VENHQS1EMy1BMVE1OnNrY21fdGNnYV9wYW5fY2FuX2F0bG...</td>\n",
       "      <td>VENHQS1EMy1BMVE1LTA2OnNrY21fdGNnYV9wYW5fY2FuX2...</td>\n",
       "      <td>.</td>\n",
       "      <td>T</td>\n",
       "      <td>SNP</td>\n",
       "    </tr>\n",
       "    <tr>\n",
       "      <th>11</th>\n",
       "      <td>None</td>\n",
       "      <td>None</td>\n",
       "      <td>.</td>\n",
       "      <td>7</td>\n",
       "      <td>None</td>\n",
       "      <td>None</td>\n",
       "      <td>None</td>\n",
       "      <td>None</td>\n",
       "      <td>140453136</td>\n",
       "      <td>673</td>\n",
       "      <td>...</td>\n",
       "      <td>TCGA-D3-A1Q6-06</td>\n",
       "      <td>140453136</td>\n",
       "      <td>skcm_tcga_pan_can_atlas_2018</td>\n",
       "      <td>17</td>\n",
       "      <td>36</td>\n",
       "      <td>VENHQS1EMy1BMVE2OnNrY21fdGNnYV9wYW5fY2FuX2F0bG...</td>\n",
       "      <td>VENHQS1EMy1BMVE2LTA2OnNrY21fdGNnYV9wYW5fY2FuX2...</td>\n",
       "      <td>.</td>\n",
       "      <td>T</td>\n",
       "      <td>SNP</td>\n",
       "    </tr>\n",
       "    <tr>\n",
       "      <th>12</th>\n",
       "      <td>None</td>\n",
       "      <td>None</td>\n",
       "      <td>.</td>\n",
       "      <td>7</td>\n",
       "      <td>None</td>\n",
       "      <td>None</td>\n",
       "      <td>None</td>\n",
       "      <td>None</td>\n",
       "      <td>140453136</td>\n",
       "      <td>673</td>\n",
       "      <td>...</td>\n",
       "      <td>TCGA-D3-A1Q7-06</td>\n",
       "      <td>140453136</td>\n",
       "      <td>skcm_tcga_pan_can_atlas_2018</td>\n",
       "      <td>4</td>\n",
       "      <td>33</td>\n",
       "      <td>VENHQS1EMy1BMVE3OnNrY21fdGNnYV9wYW5fY2FuX2F0bG...</td>\n",
       "      <td>VENHQS1EMy1BMVE3LTA2OnNrY21fdGNnYV9wYW5fY2FuX2...</td>\n",
       "      <td>.</td>\n",
       "      <td>T</td>\n",
       "      <td>SNP</td>\n",
       "    </tr>\n",
       "  </tbody>\n",
       "</table>\n",
       "<p>5 rows × 39 columns</p>\n",
       "</div>"
      ],
      "text/plain": [
       "   alleleSpecificCopyNumber aminoAcidChange center chr driverFilter  \\\n",
       "8                      None            None      .   7         None   \n",
       "9                      None            None      .   7         None   \n",
       "10                     None            None      .   7         None   \n",
       "11                     None            None      .   7         None   \n",
       "12                     None            None      .   7         None   \n",
       "\n",
       "   driverFilterAnnotation driverTiersFilter driverTiersFilterAnnotation  \\\n",
       "8                    None              None                        None   \n",
       "9                    None              None                        None   \n",
       "10                   None              None                        None   \n",
       "11                   None              None                        None   \n",
       "12                   None              None                        None   \n",
       "\n",
       "    endPosition  entrezGeneId  ...         sampleId startPosition  \\\n",
       "8     140453136           673  ...  TCGA-BF-AAP0-06     140453136   \n",
       "9     140453136           673  ...  TCGA-D3-A1Q4-06     140453136   \n",
       "10    140453136           673  ...  TCGA-D3-A1Q5-06     140453136   \n",
       "11    140453136           673  ...  TCGA-D3-A1Q6-06     140453136   \n",
       "12    140453136           673  ...  TCGA-D3-A1Q7-06     140453136   \n",
       "\n",
       "                         studyId tumorAltCount tumorRefCount  \\\n",
       "8   skcm_tcga_pan_can_atlas_2018            54            64   \n",
       "9   skcm_tcga_pan_can_atlas_2018            26            29   \n",
       "10  skcm_tcga_pan_can_atlas_2018            33            17   \n",
       "11  skcm_tcga_pan_can_atlas_2018            17            36   \n",
       "12  skcm_tcga_pan_can_atlas_2018             4            33   \n",
       "\n",
       "                                     uniquePatientKey  \\\n",
       "8   VENHQS1CRi1BQVAwOnNrY21fdGNnYV9wYW5fY2FuX2F0bG...   \n",
       "9   VENHQS1EMy1BMVE0OnNrY21fdGNnYV9wYW5fY2FuX2F0bG...   \n",
       "10  VENHQS1EMy1BMVE1OnNrY21fdGNnYV9wYW5fY2FuX2F0bG...   \n",
       "11  VENHQS1EMy1BMVE2OnNrY21fdGNnYV9wYW5fY2FuX2F0bG...   \n",
       "12  VENHQS1EMy1BMVE3OnNrY21fdGNnYV9wYW5fY2FuX2F0bG...   \n",
       "\n",
       "                                      uniqueSampleKey validationStatus  \\\n",
       "8   VENHQS1CRi1BQVAwLTA2OnNrY21fdGNnYV9wYW5fY2FuX2...                .   \n",
       "9   VENHQS1EMy1BMVE0LTA2OnNrY21fdGNnYV9wYW5fY2FuX2...                .   \n",
       "10  VENHQS1EMy1BMVE1LTA2OnNrY21fdGNnYV9wYW5fY2FuX2...                .   \n",
       "11  VENHQS1EMy1BMVE2LTA2OnNrY21fdGNnYV9wYW5fY2FuX2...                .   \n",
       "12  VENHQS1EMy1BMVE3LTA2OnNrY21fdGNnYV9wYW5fY2FuX2...                .   \n",
       "\n",
       "   variantAllele variantType  \n",
       "8              T         SNP  \n",
       "9              T         SNP  \n",
       "10             T         SNP  \n",
       "11             T         SNP  \n",
       "12             T         SNP  \n",
       "\n",
       "[5 rows x 39 columns]"
      ]
     },
     "execution_count": 24,
     "metadata": {},
     "output_type": "execute_result"
    }
   ],
   "source": [
    "altered_mdf = mdf[mdf['proteinChange']=='V600E']\n",
    "altered_mdf.head()"
   ]
  },
  {
   "cell_type": "code",
   "execution_count": 25,
   "id": "daily-tattoo",
   "metadata": {},
   "outputs": [
    {
     "data": {
      "text/plain": [
       "152"
      ]
     },
     "execution_count": 25,
     "metadata": {},
     "output_type": "execute_result"
    }
   ],
   "source": [
    "altered_patients = altered_mdf['patientId'].tolist()\n",
    "len(set(altered_patients))"
   ]
  },
  {
   "cell_type": "code",
   "execution_count": 26,
   "id": "increased-essay",
   "metadata": {},
   "outputs": [
    {
     "data": {
      "text/plain": [
       "39"
      ]
     },
     "execution_count": 26,
     "metadata": {},
     "output_type": "execute_result"
    }
   ],
   "source": [
    "unaltered_patients = list(set(all_patients) - set(altered_patients))\n",
    "len(unaltered_patients)"
   ]
  },
  {
   "cell_type": "code",
   "execution_count": 27,
   "id": "split-fever",
   "metadata": {},
   "outputs": [
    {
     "data": {
      "text/html": [
       "<div>\n",
       "<style scoped>\n",
       "    .dataframe tbody tr th:only-of-type {\n",
       "        vertical-align: middle;\n",
       "    }\n",
       "\n",
       "    .dataframe tbody tr th {\n",
       "        vertical-align: top;\n",
       "    }\n",
       "\n",
       "    .dataframe thead th {\n",
       "        text-align: right;\n",
       "    }\n",
       "</style>\n",
       "<table border=\"1\" class=\"dataframe\">\n",
       "  <thead>\n",
       "    <tr style=\"text-align: right;\">\n",
       "      <th></th>\n",
       "      <th>clinicalAttribute</th>\n",
       "      <th>clinicalAttributeId</th>\n",
       "      <th>patientId</th>\n",
       "      <th>sampleId</th>\n",
       "      <th>studyId</th>\n",
       "      <th>uniquePatientKey</th>\n",
       "      <th>uniqueSampleKey</th>\n",
       "      <th>value</th>\n",
       "    </tr>\n",
       "  </thead>\n",
       "  <tbody>\n",
       "    <tr>\n",
       "      <th>0</th>\n",
       "      <td>None</td>\n",
       "      <td>DSS_MONTHS</td>\n",
       "      <td>TCGA-BF-AAP0</td>\n",
       "      <td>None</td>\n",
       "      <td>skcm_tcga_pan_can_atlas_2018</td>\n",
       "      <td>VENHQS1CRi1BQVAwOnNrY21fdGNnYV9wYW5fY2FuX2F0bG...</td>\n",
       "      <td>None</td>\n",
       "      <td>14.925863825999999</td>\n",
       "    </tr>\n",
       "    <tr>\n",
       "      <th>1</th>\n",
       "      <td>None</td>\n",
       "      <td>DSS_STATUS</td>\n",
       "      <td>TCGA-BF-AAP0</td>\n",
       "      <td>None</td>\n",
       "      <td>skcm_tcga_pan_can_atlas_2018</td>\n",
       "      <td>VENHQS1CRi1BQVAwOnNrY21fdGNnYV9wYW5fY2FuX2F0bG...</td>\n",
       "      <td>None</td>\n",
       "      <td>0:ALIVE OR DEAD TUMOR FREE</td>\n",
       "    </tr>\n",
       "    <tr>\n",
       "      <th>2</th>\n",
       "      <td>None</td>\n",
       "      <td>OS_MONTHS</td>\n",
       "      <td>TCGA-BF-AAP0</td>\n",
       "      <td>None</td>\n",
       "      <td>skcm_tcga_pan_can_atlas_2018</td>\n",
       "      <td>VENHQS1CRi1BQVAwOnNrY21fdGNnYV9wYW5fY2FuX2F0bG...</td>\n",
       "      <td>None</td>\n",
       "      <td>14.925863825999999</td>\n",
       "    </tr>\n",
       "    <tr>\n",
       "      <th>3</th>\n",
       "      <td>None</td>\n",
       "      <td>OS_STATUS</td>\n",
       "      <td>TCGA-BF-AAP0</td>\n",
       "      <td>None</td>\n",
       "      <td>skcm_tcga_pan_can_atlas_2018</td>\n",
       "      <td>VENHQS1CRi1BQVAwOnNrY21fdGNnYV9wYW5fY2FuX2F0bG...</td>\n",
       "      <td>None</td>\n",
       "      <td>0:LIVING</td>\n",
       "    </tr>\n",
       "    <tr>\n",
       "      <th>4</th>\n",
       "      <td>None</td>\n",
       "      <td>PFS_MONTHS</td>\n",
       "      <td>TCGA-BF-AAP0</td>\n",
       "      <td>None</td>\n",
       "      <td>skcm_tcga_pan_can_atlas_2018</td>\n",
       "      <td>VENHQS1CRi1BQVAwOnNrY21fdGNnYV9wYW5fY2FuX2F0bG...</td>\n",
       "      <td>None</td>\n",
       "      <td>14.925863825999999</td>\n",
       "    </tr>\n",
       "  </tbody>\n",
       "</table>\n",
       "</div>"
      ],
      "text/plain": [
       "  clinicalAttribute clinicalAttributeId     patientId sampleId  \\\n",
       "0              None          DSS_MONTHS  TCGA-BF-AAP0     None   \n",
       "1              None          DSS_STATUS  TCGA-BF-AAP0     None   \n",
       "2              None           OS_MONTHS  TCGA-BF-AAP0     None   \n",
       "3              None           OS_STATUS  TCGA-BF-AAP0     None   \n",
       "4              None          PFS_MONTHS  TCGA-BF-AAP0     None   \n",
       "\n",
       "                        studyId  \\\n",
       "0  skcm_tcga_pan_can_atlas_2018   \n",
       "1  skcm_tcga_pan_can_atlas_2018   \n",
       "2  skcm_tcga_pan_can_atlas_2018   \n",
       "3  skcm_tcga_pan_can_atlas_2018   \n",
       "4  skcm_tcga_pan_can_atlas_2018   \n",
       "\n",
       "                                    uniquePatientKey uniqueSampleKey  \\\n",
       "0  VENHQS1CRi1BQVAwOnNrY21fdGNnYV9wYW5fY2FuX2F0bG...            None   \n",
       "1  VENHQS1CRi1BQVAwOnNrY21fdGNnYV9wYW5fY2FuX2F0bG...            None   \n",
       "2  VENHQS1CRi1BQVAwOnNrY21fdGNnYV9wYW5fY2FuX2F0bG...            None   \n",
       "3  VENHQS1CRi1BQVAwOnNrY21fdGNnYV9wYW5fY2FuX2F0bG...            None   \n",
       "4  VENHQS1CRi1BQVAwOnNrY21fdGNnYV9wYW5fY2FuX2F0bG...            None   \n",
       "\n",
       "                        value  \n",
       "0          14.925863825999999  \n",
       "1  0:ALIVE OR DEAD TUMOR FREE  \n",
       "2          14.925863825999999  \n",
       "3                    0:LIVING  \n",
       "4          14.925863825999999  "
      ]
     },
     "execution_count": 27,
     "metadata": {},
     "output_type": "execute_result"
    }
   ],
   "source": [
    "attribute_ids = [\"OS_STATUS\",\"OS_MONTHS\",\"DFS_STATUS\",\"DFS_MONTHS\",\"DSS_STATUS\",\"DSS_MONTHS\",\"PFS_STATUS\",\"PFS_MONTHS\"]\n",
    "\n",
    "clinical_data_single_study_filter = {\n",
    "  'attributeIds': attribute_ids,\n",
    "  'ids': altered_patients\n",
    "}\n",
    "\n",
    "altered_clinical = cbioportal.Clinical_Data.fetchAllClinicalDataInStudyUsingPOST(studyId = study_id, \n",
    "                                                              clinicalDataType='PATIENT',\n",
    "                                                              clinicalDataSingleStudyFilter=clinical_data_single_study_filter).result()\n",
    "altered_clinical_df = get_pandas_df(altered_clinical)\n",
    "altered_clinical_df.head()"
   ]
  },
  {
   "cell_type": "code",
   "execution_count": 28,
   "id": "blind-bicycle",
   "metadata": {},
   "outputs": [
    {
     "data": {
      "text/html": [
       "<div>\n",
       "<style scoped>\n",
       "    .dataframe tbody tr th:only-of-type {\n",
       "        vertical-align: middle;\n",
       "    }\n",
       "\n",
       "    .dataframe tbody tr th {\n",
       "        vertical-align: top;\n",
       "    }\n",
       "\n",
       "    .dataframe thead th {\n",
       "        text-align: right;\n",
       "    }\n",
       "</style>\n",
       "<table border=\"1\" class=\"dataframe\">\n",
       "  <thead>\n",
       "    <tr style=\"text-align: right;\">\n",
       "      <th></th>\n",
       "      <th>clinicalAttribute</th>\n",
       "      <th>clinicalAttributeId</th>\n",
       "      <th>patientId</th>\n",
       "      <th>sampleId</th>\n",
       "      <th>studyId</th>\n",
       "      <th>uniquePatientKey</th>\n",
       "      <th>uniqueSampleKey</th>\n",
       "      <th>value</th>\n",
       "    </tr>\n",
       "  </thead>\n",
       "  <tbody>\n",
       "    <tr>\n",
       "      <th>2</th>\n",
       "      <td>None</td>\n",
       "      <td>OS_MONTHS</td>\n",
       "      <td>TCGA-BF-AAP0</td>\n",
       "      <td>None</td>\n",
       "      <td>skcm_tcga_pan_can_atlas_2018</td>\n",
       "      <td>VENHQS1CRi1BQVAwOnNrY21fdGNnYV9wYW5fY2FuX2F0bG...</td>\n",
       "      <td>None</td>\n",
       "      <td>14.925863825999999</td>\n",
       "    </tr>\n",
       "    <tr>\n",
       "      <th>3</th>\n",
       "      <td>None</td>\n",
       "      <td>OS_STATUS</td>\n",
       "      <td>TCGA-BF-AAP0</td>\n",
       "      <td>None</td>\n",
       "      <td>skcm_tcga_pan_can_atlas_2018</td>\n",
       "      <td>VENHQS1CRi1BQVAwOnNrY21fdGNnYV9wYW5fY2FuX2F0bG...</td>\n",
       "      <td>None</td>\n",
       "      <td>0:LIVING</td>\n",
       "    </tr>\n",
       "    <tr>\n",
       "      <th>8</th>\n",
       "      <td>None</td>\n",
       "      <td>OS_MONTHS</td>\n",
       "      <td>TCGA-D3-A1Q4</td>\n",
       "      <td>None</td>\n",
       "      <td>skcm_tcga_pan_can_atlas_2018</td>\n",
       "      <td>VENHQS1EMy1BMVE0OnNrY21fdGNnYV9wYW5fY2FuX2F0bG...</td>\n",
       "      <td>None</td>\n",
       "      <td>112.04260775</td>\n",
       "    </tr>\n",
       "    <tr>\n",
       "      <th>9</th>\n",
       "      <td>None</td>\n",
       "      <td>OS_STATUS</td>\n",
       "      <td>TCGA-D3-A1Q4</td>\n",
       "      <td>None</td>\n",
       "      <td>skcm_tcga_pan_can_atlas_2018</td>\n",
       "      <td>VENHQS1EMy1BMVE0OnNrY21fdGNnYV9wYW5fY2FuX2F0bG...</td>\n",
       "      <td>None</td>\n",
       "      <td>0:LIVING</td>\n",
       "    </tr>\n",
       "    <tr>\n",
       "      <th>13</th>\n",
       "      <td>None</td>\n",
       "      <td>OS_MONTHS</td>\n",
       "      <td>TCGA-D3-A1Q5</td>\n",
       "      <td>None</td>\n",
       "      <td>skcm_tcga_pan_can_atlas_2018</td>\n",
       "      <td>VENHQS1EMy1BMVE1OnNrY21fdGNnYV9wYW5fY2FuX2F0bG...</td>\n",
       "      <td>None</td>\n",
       "      <td>112.56862938</td>\n",
       "    </tr>\n",
       "    <tr>\n",
       "      <th>...</th>\n",
       "      <td>...</td>\n",
       "      <td>...</td>\n",
       "      <td>...</td>\n",
       "      <td>...</td>\n",
       "      <td>...</td>\n",
       "      <td>...</td>\n",
       "      <td>...</td>\n",
       "      <td>...</td>\n",
       "    </tr>\n",
       "    <tr>\n",
       "      <th>870</th>\n",
       "      <td>None</td>\n",
       "      <td>OS_STATUS</td>\n",
       "      <td>TCGA-YD-A9TB</td>\n",
       "      <td>None</td>\n",
       "      <td>skcm_tcga_pan_can_atlas_2018</td>\n",
       "      <td>VENHQS1ZRC1BOVRCOnNrY21fdGNnYV9wYW5fY2FuX2F0bG...</td>\n",
       "      <td>None</td>\n",
       "      <td>0:LIVING</td>\n",
       "    </tr>\n",
       "    <tr>\n",
       "      <th>874</th>\n",
       "      <td>None</td>\n",
       "      <td>OS_MONTHS</td>\n",
       "      <td>TCGA-Z2-A8RT</td>\n",
       "      <td>None</td>\n",
       "      <td>skcm_tcga_pan_can_atlas_2018</td>\n",
       "      <td>VENHQS1aMi1BOFJUOnNrY21fdGNnYV9wYW5fY2FuX2F0bG...</td>\n",
       "      <td>None</td>\n",
       "      <td>27.583259362</td>\n",
       "    </tr>\n",
       "    <tr>\n",
       "      <th>875</th>\n",
       "      <td>None</td>\n",
       "      <td>OS_STATUS</td>\n",
       "      <td>TCGA-Z2-A8RT</td>\n",
       "      <td>None</td>\n",
       "      <td>skcm_tcga_pan_can_atlas_2018</td>\n",
       "      <td>VENHQS1aMi1BOFJUOnNrY21fdGNnYV9wYW5fY2FuX2F0bG...</td>\n",
       "      <td>None</td>\n",
       "      <td>0:LIVING</td>\n",
       "    </tr>\n",
       "    <tr>\n",
       "      <th>880</th>\n",
       "      <td>None</td>\n",
       "      <td>OS_MONTHS</td>\n",
       "      <td>TCGA-Z2-AA3V</td>\n",
       "      <td>None</td>\n",
       "      <td>skcm_tcga_pan_can_atlas_2018</td>\n",
       "      <td>VENHQS1aMi1BQTNWOnNrY21fdGNnYV9wYW5fY2FuX2F0bG...</td>\n",
       "      <td>None</td>\n",
       "      <td>15.977907090999999</td>\n",
       "    </tr>\n",
       "    <tr>\n",
       "      <th>881</th>\n",
       "      <td>None</td>\n",
       "      <td>OS_STATUS</td>\n",
       "      <td>TCGA-Z2-AA3V</td>\n",
       "      <td>None</td>\n",
       "      <td>skcm_tcga_pan_can_atlas_2018</td>\n",
       "      <td>VENHQS1aMi1BQTNWOnNrY21fdGNnYV9wYW5fY2FuX2F0bG...</td>\n",
       "      <td>None</td>\n",
       "      <td>0:LIVING</td>\n",
       "    </tr>\n",
       "  </tbody>\n",
       "</table>\n",
       "<p>295 rows × 8 columns</p>\n",
       "</div>"
      ],
      "text/plain": [
       "    clinicalAttribute clinicalAttributeId     patientId sampleId  \\\n",
       "2                None           OS_MONTHS  TCGA-BF-AAP0     None   \n",
       "3                None           OS_STATUS  TCGA-BF-AAP0     None   \n",
       "8                None           OS_MONTHS  TCGA-D3-A1Q4     None   \n",
       "9                None           OS_STATUS  TCGA-D3-A1Q4     None   \n",
       "13               None           OS_MONTHS  TCGA-D3-A1Q5     None   \n",
       "..                ...                 ...           ...      ...   \n",
       "870              None           OS_STATUS  TCGA-YD-A9TB     None   \n",
       "874              None           OS_MONTHS  TCGA-Z2-A8RT     None   \n",
       "875              None           OS_STATUS  TCGA-Z2-A8RT     None   \n",
       "880              None           OS_MONTHS  TCGA-Z2-AA3V     None   \n",
       "881              None           OS_STATUS  TCGA-Z2-AA3V     None   \n",
       "\n",
       "                          studyId  \\\n",
       "2    skcm_tcga_pan_can_atlas_2018   \n",
       "3    skcm_tcga_pan_can_atlas_2018   \n",
       "8    skcm_tcga_pan_can_atlas_2018   \n",
       "9    skcm_tcga_pan_can_atlas_2018   \n",
       "13   skcm_tcga_pan_can_atlas_2018   \n",
       "..                            ...   \n",
       "870  skcm_tcga_pan_can_atlas_2018   \n",
       "874  skcm_tcga_pan_can_atlas_2018   \n",
       "875  skcm_tcga_pan_can_atlas_2018   \n",
       "880  skcm_tcga_pan_can_atlas_2018   \n",
       "881  skcm_tcga_pan_can_atlas_2018   \n",
       "\n",
       "                                      uniquePatientKey uniqueSampleKey  \\\n",
       "2    VENHQS1CRi1BQVAwOnNrY21fdGNnYV9wYW5fY2FuX2F0bG...            None   \n",
       "3    VENHQS1CRi1BQVAwOnNrY21fdGNnYV9wYW5fY2FuX2F0bG...            None   \n",
       "8    VENHQS1EMy1BMVE0OnNrY21fdGNnYV9wYW5fY2FuX2F0bG...            None   \n",
       "9    VENHQS1EMy1BMVE0OnNrY21fdGNnYV9wYW5fY2FuX2F0bG...            None   \n",
       "13   VENHQS1EMy1BMVE1OnNrY21fdGNnYV9wYW5fY2FuX2F0bG...            None   \n",
       "..                                                 ...             ...   \n",
       "870  VENHQS1ZRC1BOVRCOnNrY21fdGNnYV9wYW5fY2FuX2F0bG...            None   \n",
       "874  VENHQS1aMi1BOFJUOnNrY21fdGNnYV9wYW5fY2FuX2F0bG...            None   \n",
       "875  VENHQS1aMi1BOFJUOnNrY21fdGNnYV9wYW5fY2FuX2F0bG...            None   \n",
       "880  VENHQS1aMi1BQTNWOnNrY21fdGNnYV9wYW5fY2FuX2F0bG...            None   \n",
       "881  VENHQS1aMi1BQTNWOnNrY21fdGNnYV9wYW5fY2FuX2F0bG...            None   \n",
       "\n",
       "                  value  \n",
       "2    14.925863825999999  \n",
       "3              0:LIVING  \n",
       "8          112.04260775  \n",
       "9              0:LIVING  \n",
       "13         112.56862938  \n",
       "..                  ...  \n",
       "870            0:LIVING  \n",
       "874        27.583259362  \n",
       "875            0:LIVING  \n",
       "880  15.977907090999999  \n",
       "881            0:LIVING  \n",
       "\n",
       "[295 rows x 8 columns]"
      ]
     },
     "execution_count": 28,
     "metadata": {},
     "output_type": "execute_result"
    }
   ],
   "source": [
    "#altered_clinical_df\n",
    "altered_os = altered_clinical_df.loc[(altered_clinical_df.clinicalAttributeId == \"OS_MONTHS\") | (altered_clinical_df.clinicalAttributeId == \"OS_STATUS\")]\n",
    "altered_os"
   ]
  },
  {
   "cell_type": "code",
   "execution_count": 29,
   "id": "alpha-character",
   "metadata": {},
   "outputs": [
    {
     "data": {
      "text/html": [
       "<div>\n",
       "<style scoped>\n",
       "    .dataframe tbody tr th:only-of-type {\n",
       "        vertical-align: middle;\n",
       "    }\n",
       "\n",
       "    .dataframe tbody tr th {\n",
       "        vertical-align: top;\n",
       "    }\n",
       "\n",
       "    .dataframe thead th {\n",
       "        text-align: right;\n",
       "    }\n",
       "</style>\n",
       "<table border=\"1\" class=\"dataframe\">\n",
       "  <thead>\n",
       "    <tr style=\"text-align: right;\">\n",
       "      <th></th>\n",
       "      <th>clinicalAttribute</th>\n",
       "      <th>clinicalAttributeId</th>\n",
       "      <th>patientId</th>\n",
       "      <th>sampleId</th>\n",
       "      <th>studyId</th>\n",
       "      <th>uniquePatientKey</th>\n",
       "      <th>uniqueSampleKey</th>\n",
       "      <th>value</th>\n",
       "    </tr>\n",
       "  </thead>\n",
       "  <tbody>\n",
       "    <tr>\n",
       "      <th>0</th>\n",
       "      <td>None</td>\n",
       "      <td>DSS_MONTHS</td>\n",
       "      <td>TCGA-3N-A9WB</td>\n",
       "      <td>None</td>\n",
       "      <td>skcm_tcga_pan_can_atlas_2018</td>\n",
       "      <td>VENHQS0zTi1BOVdCOnNrY21fdGNnYV9wYW5fY2FuX2F0bG...</td>\n",
       "      <td>None</td>\n",
       "      <td>17.029950357</td>\n",
       "    </tr>\n",
       "    <tr>\n",
       "      <th>1</th>\n",
       "      <td>None</td>\n",
       "      <td>DSS_STATUS</td>\n",
       "      <td>TCGA-3N-A9WB</td>\n",
       "      <td>None</td>\n",
       "      <td>skcm_tcga_pan_can_atlas_2018</td>\n",
       "      <td>VENHQS0zTi1BOVdCOnNrY21fdGNnYV9wYW5fY2FuX2F0bG...</td>\n",
       "      <td>None</td>\n",
       "      <td>1:DEAD WITH TUMOR</td>\n",
       "    </tr>\n",
       "    <tr>\n",
       "      <th>2</th>\n",
       "      <td>None</td>\n",
       "      <td>OS_MONTHS</td>\n",
       "      <td>TCGA-3N-A9WB</td>\n",
       "      <td>None</td>\n",
       "      <td>skcm_tcga_pan_can_atlas_2018</td>\n",
       "      <td>VENHQS0zTi1BOVdCOnNrY21fdGNnYV9wYW5fY2FuX2F0bG...</td>\n",
       "      <td>None</td>\n",
       "      <td>17.029950357</td>\n",
       "    </tr>\n",
       "    <tr>\n",
       "      <th>3</th>\n",
       "      <td>None</td>\n",
       "      <td>OS_STATUS</td>\n",
       "      <td>TCGA-3N-A9WB</td>\n",
       "      <td>None</td>\n",
       "      <td>skcm_tcga_pan_can_atlas_2018</td>\n",
       "      <td>VENHQS0zTi1BOVdCOnNrY21fdGNnYV9wYW5fY2FuX2F0bG...</td>\n",
       "      <td>None</td>\n",
       "      <td>1:DECEASED</td>\n",
       "    </tr>\n",
       "    <tr>\n",
       "      <th>4</th>\n",
       "      <td>None</td>\n",
       "      <td>PFS_MONTHS</td>\n",
       "      <td>TCGA-3N-A9WB</td>\n",
       "      <td>None</td>\n",
       "      <td>skcm_tcga_pan_can_atlas_2018</td>\n",
       "      <td>VENHQS0zTi1BOVdCOnNrY21fdGNnYV9wYW5fY2FuX2F0bG...</td>\n",
       "      <td>None</td>\n",
       "      <td>14.005325969000001</td>\n",
       "    </tr>\n",
       "  </tbody>\n",
       "</table>\n",
       "</div>"
      ],
      "text/plain": [
       "  clinicalAttribute clinicalAttributeId     patientId sampleId  \\\n",
       "0              None          DSS_MONTHS  TCGA-3N-A9WB     None   \n",
       "1              None          DSS_STATUS  TCGA-3N-A9WB     None   \n",
       "2              None           OS_MONTHS  TCGA-3N-A9WB     None   \n",
       "3              None           OS_STATUS  TCGA-3N-A9WB     None   \n",
       "4              None          PFS_MONTHS  TCGA-3N-A9WB     None   \n",
       "\n",
       "                        studyId  \\\n",
       "0  skcm_tcga_pan_can_atlas_2018   \n",
       "1  skcm_tcga_pan_can_atlas_2018   \n",
       "2  skcm_tcga_pan_can_atlas_2018   \n",
       "3  skcm_tcga_pan_can_atlas_2018   \n",
       "4  skcm_tcga_pan_can_atlas_2018   \n",
       "\n",
       "                                    uniquePatientKey uniqueSampleKey  \\\n",
       "0  VENHQS0zTi1BOVdCOnNrY21fdGNnYV9wYW5fY2FuX2F0bG...            None   \n",
       "1  VENHQS0zTi1BOVdCOnNrY21fdGNnYV9wYW5fY2FuX2F0bG...            None   \n",
       "2  VENHQS0zTi1BOVdCOnNrY21fdGNnYV9wYW5fY2FuX2F0bG...            None   \n",
       "3  VENHQS0zTi1BOVdCOnNrY21fdGNnYV9wYW5fY2FuX2F0bG...            None   \n",
       "4  VENHQS0zTi1BOVdCOnNrY21fdGNnYV9wYW5fY2FuX2F0bG...            None   \n",
       "\n",
       "                value  \n",
       "0        17.029950357  \n",
       "1   1:DEAD WITH TUMOR  \n",
       "2        17.029950357  \n",
       "3          1:DECEASED  \n",
       "4  14.005325969000001  "
      ]
     },
     "execution_count": 29,
     "metadata": {},
     "output_type": "execute_result"
    }
   ],
   "source": [
    "clinical_data_single_study_filter = {\n",
    "  'attributeIds': attribute_ids,\n",
    "  'ids': unaltered_patients\n",
    "}\n",
    "\n",
    "unaltered_clinical = cbioportal.Clinical_Data.fetchAllClinicalDataInStudyUsingPOST(studyId = study_id, \n",
    "                                                              clinicalDataType='PATIENT',\n",
    "                                                              clinicalDataSingleStudyFilter=clinical_data_single_study_filter).result()\n",
    "unaltered_clinical_df = get_pandas_df(unaltered_clinical)\n",
    "unaltered_clinical_df.head()"
   ]
  },
  {
   "cell_type": "markdown",
   "id": "unnecessary-relay",
   "metadata": {},
   "source": [
    "### Overal Survival analysis"
   ]
  },
  {
   "cell_type": "code",
   "execution_count": 69,
   "id": "transsexual-seeking",
   "metadata": {},
   "outputs": [
    {
     "name": "stdout",
     "output_type": "stream",
     "text": [
      "295\n",
      "293\n",
      "296\n"
     ]
    }
   ],
   "source": [
    "#altered_clinical_df\n",
    "altered_os = altered_clinical_df.loc[(altered_clinical_df.clinicalAttributeId == \"OS_MONTHS\") | (altered_clinical_df.clinicalAttributeId == \"OS_STATUS\")]\n",
    "print(len(altered_os))\n",
    "altered_dss = altered_clinical_df.loc[(altered_clinical_df.clinicalAttributeId == \"DSS_MONTHS\") | (altered_clinical_df.clinicalAttributeId == \"DSS_STATUS\")]\n",
    "print(len(altered_dss))\n",
    "altered_pfs = altered_clinical_df.loc[(altered_clinical_df.clinicalAttributeId == \"PFS_MONTHS\") | (altered_clinical_df.clinicalAttributeId == \"PFS_STATUS\")]\n",
    "print(len(altered_pfs))\n"
   ]
  },
  {
   "cell_type": "code",
   "execution_count": 72,
   "id": "infectious-bishop",
   "metadata": {
    "scrolled": true
   },
   "outputs": [
    {
     "name": "stdout",
     "output_type": "stream",
     "text": [
      "75\n",
      "75\n",
      "75\n"
     ]
    }
   ],
   "source": [
    "#unaltered_clinical_df\n",
    "unaltered_os = unaltered_clinical_df.loc[(unaltered_clinical_df.clinicalAttributeId == \"OS_MONTHS\") | (unaltered_clinical_df.clinicalAttributeId == \"OS_STATUS\")]\n",
    "print(len(unaltered_os))\n",
    "unaltered_dss = unaltered_clinical_df.loc[(unaltered_clinical_df.clinicalAttributeId == \"DSS_MONTHS\") | (unaltered_clinical_df.clinicalAttributeId == \"DSS_STATUS\")]\n",
    "print(len(unaltered_dss))\n",
    "unaltered_pfs = unaltered_clinical_df.loc[(unaltered_clinical_df.clinicalAttributeId == \"PFS_MONTHS\") | (unaltered_clinical_df.clinicalAttributeId == \"PFS_STATUS\")]\n",
    "print(len(unaltered_pfs))\n"
   ]
  },
  {
   "cell_type": "markdown",
   "id": "corrected-salem",
   "metadata": {},
   "source": [
    "#### Prep survival data"
   ]
  },
  {
   "cell_type": "code",
   "execution_count": 73,
   "id": "cooperative-approval",
   "metadata": {
    "scrolled": true
   },
   "outputs": [],
   "source": [
    "def prep_months_status(df):\n",
    "    months = df.loc[df.clinicalAttributeId.str.contains(\"MONTH\")][['patientId', 'value']]\n",
    "    status = df.loc[df.clinicalAttributeId.str.contains(\"STATUS\")][['patientId', 'value']]\n",
    "    # 0:LIVING, 1:DECEASED\n",
    "    status['value'] = status['value'].apply(lambda x: x.split(\":\")[0])\n",
    "\n",
    "    # merge months/status and sort by numeric month values\n",
    "    return months.merge(status, on='patientId', suffixes=['_month','_status']) \\\n",
    "                .astype({'value_status': 'float32', 'value_month': 'float32'}) \\\n",
    "                .sort_values('value_month', ascending=False)\n",
    "\n",
    "\n",
    "uos = prep_months_status(unaltered_os)\n",
    "udss = prep_months_status(unaltered_dss)\n",
    "upfs = prep_months_status(unaltered_pfs)\n",
    "aos = prep_months_status(altered_os)\n",
    "adss = prep_months_status(altered_dss)\n",
    "apfs = prep_months_status(altered_pfs)\n"
   ]
  },
  {
   "cell_type": "markdown",
   "id": "ranging-latino",
   "metadata": {},
   "source": [
    "#### Get KaplanMeier cumulative density data"
   ]
  },
  {
   "cell_type": "code",
   "execution_count": 74,
   "id": "electrical-caribbean",
   "metadata": {},
   "outputs": [],
   "source": [
    "from lifelines import KaplanMeierFitter\n",
    "\n",
    "def get_km_cd(df):\n",
    "    kmf = KaplanMeierFitter() \n",
    "    kmf.fit(df['value_month'], df['value_status'], label='Kaplan Meier Estimate')\n",
    "\n",
    "    # get cdf from KMF\n",
    "    return kmf.cumulative_density_.reset_index()\n",
    "\n",
    "uos_km = get_km_cd(uos)\n",
    "udss_km = get_km_cd(udss)\n",
    "upfs_km = get_km_cd(upfs)\n",
    "aos_km = get_km_cd(aos)\n",
    "adss_km = get_km_cd(adss)\n",
    "apfs_km = get_km_cd(apfs)"
   ]
  },
  {
   "cell_type": "markdown",
   "id": "acoustic-comparison",
   "metadata": {},
   "source": [
    "### Kaplan-Meier curves with Plotly"
   ]
  },
  {
   "cell_type": "code",
   "execution_count": 76,
   "id": "municipal-piano",
   "metadata": {},
   "outputs": [
    {
     "data": {
      "application/vnd.plotly.v1+json": {
       "config": {
        "plotlyServerURL": "https://plot.ly"
       },
       "data": [
        {
         "mode": "lines+markers",
         "name": "unaltered",
         "text": [
          "TCGA-DA-A1I1",
          "TCGA-EE-A3JH",
          "TCGA-EE-A2GO",
          "TCGA-EE-A3AA",
          "TCGA-EE-A2GJ",
          "TCGA-D3-A8GM",
          "TCGA-D3-A1QA",
          "TCGA-D3-A2JC",
          "TCGA-D9-A6EC",
          "TCGA-EE-A2GM",
          "TCGA-EE-A2GC",
          "TCGA-3N-A9WC",
          "TCGA-DA-A1IA",
          "TCGA-W3-A825",
          "TCGA-YD-A9TA",
          "TCGA-FS-A1ZB",
          "TCGA-EE-A2A0",
          "TCGA-EE-A2MQ",
          "TCGA-W3-AA1V",
          "TCGA-D3-A2JH",
          "TCGA-YG-AA3O",
          "TCGA-FW-A3R5",
          "TCGA-EE-A181",
          "TCGA-ER-A193",
          "TCGA-EE-A3JD",
          "TCGA-DA-A1IB",
          "TCGA-FS-A1ZZ",
          "TCGA-D3-A51T",
          "TCGA-FS-A1ZU",
          "TCGA-ER-A19F",
          "TCGA-EE-A29N",
          "TCGA-D9-A4Z6",
          "TCGA-3N-A9WB",
          "TCGA-DA-A95Y",
          "TCGA-DA-A95Z",
          "TCGA-W3-AA1O",
          "TCGA-D9-A1JW"
         ],
         "type": "scatter",
         "x": [
          222.5071563720703,
          134.33277893066406,
          126.80409240722656,
          124.30548858642578,
          107.3741683959961,
          107.14402770996094,
          90.90311431884766,
          86.76069641113281,
          77.55531311035156,
          75.4841079711914,
          67.42939758300781,
          66.47598266601562,
          65.91708374023438,
          63.02396774291992,
          49.183021545410156,
          48.8542594909668,
          46.81592559814453,
          43.23240280151367,
          42.081729888916016,
          42.081729888916016,
          37.93931198120117,
          36.95301818847656,
          33.731136322021484,
          31.396915435791016,
          27.353124618530273,
          27.122989654541016,
          27.02436065673828,
          26.89285659790039,
          26.5640926361084,
          26.36683464050293,
          18.608015060424805,
          18.443634033203125,
          17.029951095581055,
          14.136831283569336,
          13.019035339355469,
          4.0109148025512695,
          3.649275064468384
         ],
         "y": [
          0,
          0,
          0.0277777777777779,
          0.0277777777777779,
          0.05637254901960809,
          0.08496732026143816,
          0.11356209150326813,
          0.1421568627450982,
          0.17075163398692816,
          0.19934640522875846,
          0.19934640522875846,
          0.22900024207213776,
          0.22900024207213776,
          0.259840232389252,
          0.2906802227063666,
          0.321520213023481,
          0.321520213023481,
          0.35382877430807724,
          0.3861373355926734,
          0.4202408169486358,
          0.45434429830459855,
          0.4884477796605611,
          0.4884477796605611,
          0.5249872239705209,
          0.5615266682804808,
          0.5615266682804808,
          0.5615266682804808,
          0.5615266682804808,
          0.5615266682804808,
          0.5615266682804808,
          0.5615266682804808,
          0.6346055569004007,
          0.7076844455203205,
          0.7076844455203205,
          0.7076844455203205,
          0.7076844455203205,
          0.7076844455203205
         ]
        },
        {
         "mode": "lines+markers",
         "name": "altered",
         "text": [
          "TCGA-EE-A29T",
          "TCGA-LH-A9QB",
          "TCGA-FS-A1ZC",
          "TCGA-ER-A19G",
          "TCGA-OD-A75X",
          "TCGA-EE-A2MP",
          "TCGA-D3-A8GJ",
          "TCGA-FS-A1YY",
          "TCGA-DA-A3F5",
          "TCGA-FR-A729",
          "TCGA-EE-A2GH",
          "TCGA-W3-AA1W",
          "TCGA-EE-A3JB",
          "TCGA-EE-A2MK",
          "TCGA-D3-A5GR",
          "TCGA-DA-A1I2",
          "TCGA-FS-A4F8",
          "TCGA-FR-A44A",
          "TCGA-EE-A2GE",
          "TCGA-EE-A3J3",
          "TCGA-EE-A20H",
          "TCGA-D3-A8GV",
          "TCGA-D3-A3CB",
          "TCGA-ER-A19P",
          "TCGA-D3-A8GN",
          "TCGA-ER-A19H",
          "TCGA-D9-A148",
          "TCGA-ER-A42L",
          "TCGA-FS-A1ZS",
          "TCGA-D3-A51J",
          "TCGA-DA-A1HY",
          "TCGA-GN-A262",
          "TCGA-EE-A3AH",
          "TCGA-D3-A5GN",
          "TCGA-DA-A1I5",
          "TCGA-EE-A20B",
          "TCGA-D3-A1Q7",
          "TCGA-EE-A2M6",
          "TCGA-EE-A3J4",
          "TCGA-D3-A5GU",
          "TCGA-EE-A3AB",
          "TCGA-D3-A8GS",
          "TCGA-D3-A2JA",
          "TCGA-D3-A2JG",
          "TCGA-D3-A1Q5",
          "TCGA-D3-A1Q4",
          "TCGA-W3-AA1R",
          "TCGA-W3-AA21",
          "TCGA-FR-A8YE",
          "TCGA-D3-A3MR",
          "TCGA-EE-A2ME",
          "TCGA-EE-A2MG",
          "TCGA-D3-A2J7",
          "TCGA-FS-A1ZM",
          "TCGA-ER-A19B",
          "TCGA-GN-A265",
          "TCGA-EE-A20F",
          "TCGA-DA-A1I7",
          "TCGA-EE-A2A6",
          "TCGA-EE-A2GS",
          "TCGA-EE-A29C",
          "TCGA-D3-A1Q6",
          "TCGA-W3-AA1Q",
          "TCGA-D3-A2JN",
          "TCGA-HR-A2OH",
          "TCGA-EE-A29H",
          "TCGA-EE-A29E",
          "TCGA-EE-A29A",
          "TCGA-WE-A8ZQ",
          "TCGA-WE-A8K5",
          "TCGA-ER-A19M",
          "TCGA-D3-A3CE",
          "TCGA-D3-A2JP",
          "TCGA-GN-A9SD",
          "TCGA-EE-A2GB",
          "TCGA-EB-A5UN",
          "TCGA-D3-A3C6",
          "TCGA-EE-A29M",
          "TCGA-EE-A29P",
          "TCGA-DA-A1I8",
          "TCGA-FS-A1ZD",
          "TCGA-EE-A3JE",
          "TCGA-ER-A19Q",
          "TCGA-ER-A198",
          "TCGA-ER-A19S",
          "TCGA-ER-A2NG",
          "TCGA-GN-A4U8",
          "TCGA-ER-A19C",
          "TCGA-FS-A1YX",
          "TCGA-D3-A3C7",
          "TCGA-EE-A2GT",
          "TCGA-ER-A2NC",
          "TCGA-DA-A3F8",
          "TCGA-EE-A3AG",
          "TCGA-WE-AAA0",
          "TCGA-D3-A3MU",
          "TCGA-FR-A7UA",
          "TCGA-DA-A95W",
          "TCGA-DA-A1I4",
          "TCGA-WE-A8ZX",
          "TCGA-ER-A3PL",
          "TCGA-FS-A1ZH",
          "TCGA-GN-A26A",
          "TCGA-D3-A1Q9",
          "TCGA-D3-A8GB",
          "TCGA-EE-A2M7",
          "TCGA-EE-A3AD",
          "TCGA-D3-A2JE",
          "TCGA-Z2-A8RT",
          "TCGA-EE-A17Y",
          "TCGA-DA-A1HW",
          "TCGA-FS-A4FB",
          "TCGA-WE-AAA4",
          "TCGA-D3-A8GD",
          "TCGA-ER-A2ND",
          "TCGA-D9-A6EG",
          "TCGA-D3-A51N",
          "TCGA-D9-A3Z3",
          "TCGA-EE-A2M5",
          "TCGA-DA-A1I0",
          "TCGA-EE-A2M8",
          "TCGA-GF-A4EO",
          "TCGA-D3-A5GS",
          "TCGA-WE-A8K6",
          "TCGA-EE-A2MH",
          "TCGA-Z2-AA3V",
          "TCGA-GF-A6C9",
          "TCGA-FS-A1ZF",
          "TCGA-BF-AAP0",
          "TCGA-EE-A3AF",
          "TCGA-FW-A3TV",
          "TCGA-ER-A19E",
          "TCGA-ER-A42K",
          "TCGA-D3-A2JK",
          "TCGA-D3-A2JD",
          "TCGA-WE-A8ZT",
          "TCGA-FS-A1ZR",
          "TCGA-GN-A4U7",
          "TCGA-D9-A6E9",
          "TCGA-D3-A3MO",
          "TCGA-FS-A1Z7",
          "TCGA-QB-A6FS",
          "TCGA-D9-A1JX",
          "TCGA-ER-A19J",
          "TCGA-GF-A6C8"
         ],
         "type": "scatter",
         "x": [
          369.9247131347656,
          368.7740478515625,
          357.3659362792969,
          302.06793212890625,
          297.89263916015625,
          248.6438446044922,
          241.378173828125,
          228.5892791748047,
          225.95916748046875,
          220.79757690429688,
          220.23867797851562,
          219.1537628173828,
          201.7950439453125,
          180.39254760742188,
          178.3213348388672,
          176.54600524902344,
          174.83644104003906,
          174.2117919921875,
          173.78439331054688,
          172.1734619140625,
          168.26116943359375,
          167.7022705078125,
          166.5187225341797,
          162.08041381835938,
          160.99549865722656,
          152.34901428222656,
          151.527099609375,
          149.02850341796875,
          148.79837036132812,
          145.1162109375,
          144.88607788085938,
          139.88888549804688,
          138.803955078125,
          135.7464599609375,
          135.02317810058594,
          133.80674743652344,
          133.2478485107422,
          129.2698211669922,
          127.1986083984375,
          125.19314575195312,
          122.72742462158203,
          117.17131805419922,
          115.52750396728516,
          113.52204132080078,
          112.5686264038086,
          112.04261016845703,
          111.08919525146484,
          105.03994750976562,
          104.41529083251953,
          103.5933837890625,
          103.2646255493164,
          103.19886779785156,
          103.1002426147461,
          101.25916290283203,
          98.39891815185547,
          96.91948699951172,
          91.56063842773438,
          88.86477661132812,
          86.13603973388672,
          81.20458984375,
          78.968994140625,
          71.80195617675781,
          69.0732192993164,
          66.47598266601562,
          65.88420867919922,
          64.6349105834961,
          63.78012466430664,
          63.35272979736328,
          63.22122573852539,
          61.1500129699707,
          61.05138397216797,
          60.22947692871094,
          59.57194900512695,
          59.407569885253906,
          59.27606201171875,
          58.91442108154297,
          58.05963897705078,
          56.84321212768555,
          56.41582107543945,
          53.91721725463867,
          53.522701263427734,
          51.35286331176758,
          50.89259338378906,
          50.76108932495117,
          49.47890853881836,
          48.98576354980469,
          48.88713455200195,
          48.88713455200195,
          48.59124755859375,
          46.980308532714844,
          44.876220703125,
          43.82417678833008,
          43.36390686035156,
          41.588584899902344,
          40.40503692626953,
          39.74750900268555,
          38.26807403564453,
          37.3475341796875,
          35.93385314941406,
          35.80234909057617,
          33.205116271972656,
          32.74484634399414,
          32.481834411621094,
          31.594173431396484,
          30.8380184173584,
          28.832561492919922,
          28.766807556152344,
          27.649011611938477,
          27.58325958251953,
          27.22161865234375,
          26.958608627319336,
          26.728473663330078,
          24.986026763916016,
          23.605220794677734,
          23.34221076965332,
          22.94769287109375,
          22.61893081665039,
          22.2901668548584,
          21.665515899658203,
          20.383338928222656,
          19.75868797302246,
          19.42992401123047,
          18.180622100830078,
          17.950489044189453,
          16.964197158813477,
          15.977907180786133,
          15.780649185180664,
          15.451885223388672,
          14.925864219665527,
          13.80806827545166,
          13.51218032836914,
          13.019035339355469,
          12.953282356262207,
          12.09849739074707,
          11.868363380432129,
          11.802610397338867,
          11.40809440612793,
          10.42180347442627,
          9.895781517028809,
          9.336883544921875,
          7.791695594787598,
          7.232797622680664,
          7.101292133331299,
          6.443765163421631,
          2.0383338928222656
         ],
         "y": [
          0,
          0,
          0.006944444444444864,
          0.01388888888888884,
          0.01388888888888884,
          0.020882584712372476,
          0.027876280535855336,
          0.027876280535855336,
          0.03492065531458133,
          0.041965030093306765,
          0.041965030093306765,
          0.049061585425949406,
          0.05615814075859138,
          0.06325469609123369,
          0.070351251423876,
          0.070351251423876,
          0.07750239564369232,
          0.07750239564369232,
          0.08470940817772576,
          0.08470940817772576,
          0.08470940817772576,
          0.09203173291230415,
          0.09203173291230415,
          0.09203173291230415,
          0.09203173291230415,
          0.09953560288823582,
          0.10703947286416682,
          0.11454334284009815,
          0.11454334284009815,
          0.11454334284009815,
          0.1221765898845798,
          0.12980983692906167,
          0.12980983692906167,
          0.12980983692906167,
          0.1375793919564806,
          0.1375793919564806,
          0.1454195793023313,
          0.1454195793023313,
          0.15333236097545833,
          0.1612451426485848,
          0.1691579243217114,
          0.17707070599483787,
          0.18498348766796424,
          0.19289626934109116,
          0.2008090510142172,
          0.2008090510142172,
          0.2008090510142172,
          0.20888168686255804,
          0.20888168686255804,
          0.20888168686255804,
          0.20888168686255804,
          0.20888168686255804,
          0.21729783912997735,
          0.21729783912997735,
          0.2258054713133475,
          0.2258054713133475,
          0.2258054713133475,
          0.2345042862424106,
          0.24320310117147437,
          0.2520030651113405,
          0.2520030651113405,
          0.2609077905266812,
          0.2698125159420225,
          0.2698125159420225,
          0.2788271762390351,
          0.2878418365360469,
          0.2878418365360469,
          0.2878418365360469,
          0.2970906438537608,
          0.2970906438537608,
          0.2970906438537608,
          0.30658941893681846,
          0.30658941893681846,
          0.31622012145158485,
          0.3258508239663511,
          0.3354815264811175,
          0.3354815264811175,
          0.34525385697404265,
          0.34525385697404265,
          0.34525385697404265,
          0.3553268745590574,
          0.365399892144072,
          0.37547290972908653,
          0.3855459273141013,
          0.3956189448991163,
          0.40569196248413075,
          0.40569196248413075,
          0.40569196248413075,
          0.40569196248413075,
          0.40569196248413075,
          0.41649756316623743,
          0.41649756316623743,
          0.4275070431064971,
          0.4385165230467569,
          0.4495260029870166,
          0.4495260029870166,
          0.4495260029870166,
          0.4609942112581207,
          0.4724624195292243,
          0.4724624195292243,
          0.4841854768730194,
          0.49590853421681436,
          0.49590853421681436,
          0.5079107119735569,
          0.5079107119735569,
          0.5079107119735569,
          0.5205283860255169,
          0.5205283860255169,
          0.5205283860255169,
          0.5205283860255169,
          0.5205283860255169,
          0.5205283860255169,
          0.5350578288732285,
          0.5350578288732285,
          0.5350578288732285,
          0.5350578288732285,
          0.5350578288732285,
          0.5350578288732285,
          0.5350578288732285,
          0.5529402200704121,
          0.5529402200704121,
          0.5715677109008117,
          0.5715677109008117,
          0.5910419058598657,
          0.6105161008189199,
          0.6299902957779739,
          0.6299902957779739,
          0.6299902957779739,
          0.6517555724969166,
          0.6735208492158593,
          0.6735208492158593,
          0.6735208492158593,
          0.6735208492158593,
          0.6735208492158593,
          0.6735208492158593,
          0.6735208492158593,
          0.7097963104140973,
          0.7460717716123351,
          0.7460717716123351,
          0.7460717716123351,
          0.7968574172898681,
          0.7968574172898681,
          0.8645716115265787,
          0.8645716115265787,
          0.8645716115265787
         ]
        }
       ],
       "layout": {
        "template": {
         "data": {
          "bar": [
           {
            "error_x": {
             "color": "#2a3f5f"
            },
            "error_y": {
             "color": "#2a3f5f"
            },
            "marker": {
             "line": {
              "color": "#E5ECF6",
              "width": 0.5
             }
            },
            "type": "bar"
           }
          ],
          "barpolar": [
           {
            "marker": {
             "line": {
              "color": "#E5ECF6",
              "width": 0.5
             }
            },
            "type": "barpolar"
           }
          ],
          "carpet": [
           {
            "aaxis": {
             "endlinecolor": "#2a3f5f",
             "gridcolor": "white",
             "linecolor": "white",
             "minorgridcolor": "white",
             "startlinecolor": "#2a3f5f"
            },
            "baxis": {
             "endlinecolor": "#2a3f5f",
             "gridcolor": "white",
             "linecolor": "white",
             "minorgridcolor": "white",
             "startlinecolor": "#2a3f5f"
            },
            "type": "carpet"
           }
          ],
          "choropleth": [
           {
            "colorbar": {
             "outlinewidth": 0,
             "ticks": ""
            },
            "type": "choropleth"
           }
          ],
          "contour": [
           {
            "colorbar": {
             "outlinewidth": 0,
             "ticks": ""
            },
            "colorscale": [
             [
              0,
              "#0d0887"
             ],
             [
              0.1111111111111111,
              "#46039f"
             ],
             [
              0.2222222222222222,
              "#7201a8"
             ],
             [
              0.3333333333333333,
              "#9c179e"
             ],
             [
              0.4444444444444444,
              "#bd3786"
             ],
             [
              0.5555555555555556,
              "#d8576b"
             ],
             [
              0.6666666666666666,
              "#ed7953"
             ],
             [
              0.7777777777777778,
              "#fb9f3a"
             ],
             [
              0.8888888888888888,
              "#fdca26"
             ],
             [
              1,
              "#f0f921"
             ]
            ],
            "type": "contour"
           }
          ],
          "contourcarpet": [
           {
            "colorbar": {
             "outlinewidth": 0,
             "ticks": ""
            },
            "type": "contourcarpet"
           }
          ],
          "heatmap": [
           {
            "colorbar": {
             "outlinewidth": 0,
             "ticks": ""
            },
            "colorscale": [
             [
              0,
              "#0d0887"
             ],
             [
              0.1111111111111111,
              "#46039f"
             ],
             [
              0.2222222222222222,
              "#7201a8"
             ],
             [
              0.3333333333333333,
              "#9c179e"
             ],
             [
              0.4444444444444444,
              "#bd3786"
             ],
             [
              0.5555555555555556,
              "#d8576b"
             ],
             [
              0.6666666666666666,
              "#ed7953"
             ],
             [
              0.7777777777777778,
              "#fb9f3a"
             ],
             [
              0.8888888888888888,
              "#fdca26"
             ],
             [
              1,
              "#f0f921"
             ]
            ],
            "type": "heatmap"
           }
          ],
          "heatmapgl": [
           {
            "colorbar": {
             "outlinewidth": 0,
             "ticks": ""
            },
            "colorscale": [
             [
              0,
              "#0d0887"
             ],
             [
              0.1111111111111111,
              "#46039f"
             ],
             [
              0.2222222222222222,
              "#7201a8"
             ],
             [
              0.3333333333333333,
              "#9c179e"
             ],
             [
              0.4444444444444444,
              "#bd3786"
             ],
             [
              0.5555555555555556,
              "#d8576b"
             ],
             [
              0.6666666666666666,
              "#ed7953"
             ],
             [
              0.7777777777777778,
              "#fb9f3a"
             ],
             [
              0.8888888888888888,
              "#fdca26"
             ],
             [
              1,
              "#f0f921"
             ]
            ],
            "type": "heatmapgl"
           }
          ],
          "histogram": [
           {
            "marker": {
             "colorbar": {
              "outlinewidth": 0,
              "ticks": ""
             }
            },
            "type": "histogram"
           }
          ],
          "histogram2d": [
           {
            "colorbar": {
             "outlinewidth": 0,
             "ticks": ""
            },
            "colorscale": [
             [
              0,
              "#0d0887"
             ],
             [
              0.1111111111111111,
              "#46039f"
             ],
             [
              0.2222222222222222,
              "#7201a8"
             ],
             [
              0.3333333333333333,
              "#9c179e"
             ],
             [
              0.4444444444444444,
              "#bd3786"
             ],
             [
              0.5555555555555556,
              "#d8576b"
             ],
             [
              0.6666666666666666,
              "#ed7953"
             ],
             [
              0.7777777777777778,
              "#fb9f3a"
             ],
             [
              0.8888888888888888,
              "#fdca26"
             ],
             [
              1,
              "#f0f921"
             ]
            ],
            "type": "histogram2d"
           }
          ],
          "histogram2dcontour": [
           {
            "colorbar": {
             "outlinewidth": 0,
             "ticks": ""
            },
            "colorscale": [
             [
              0,
              "#0d0887"
             ],
             [
              0.1111111111111111,
              "#46039f"
             ],
             [
              0.2222222222222222,
              "#7201a8"
             ],
             [
              0.3333333333333333,
              "#9c179e"
             ],
             [
              0.4444444444444444,
              "#bd3786"
             ],
             [
              0.5555555555555556,
              "#d8576b"
             ],
             [
              0.6666666666666666,
              "#ed7953"
             ],
             [
              0.7777777777777778,
              "#fb9f3a"
             ],
             [
              0.8888888888888888,
              "#fdca26"
             ],
             [
              1,
              "#f0f921"
             ]
            ],
            "type": "histogram2dcontour"
           }
          ],
          "mesh3d": [
           {
            "colorbar": {
             "outlinewidth": 0,
             "ticks": ""
            },
            "type": "mesh3d"
           }
          ],
          "parcoords": [
           {
            "line": {
             "colorbar": {
              "outlinewidth": 0,
              "ticks": ""
             }
            },
            "type": "parcoords"
           }
          ],
          "pie": [
           {
            "automargin": true,
            "type": "pie"
           }
          ],
          "scatter": [
           {
            "marker": {
             "colorbar": {
              "outlinewidth": 0,
              "ticks": ""
             }
            },
            "type": "scatter"
           }
          ],
          "scatter3d": [
           {
            "line": {
             "colorbar": {
              "outlinewidth": 0,
              "ticks": ""
             }
            },
            "marker": {
             "colorbar": {
              "outlinewidth": 0,
              "ticks": ""
             }
            },
            "type": "scatter3d"
           }
          ],
          "scattercarpet": [
           {
            "marker": {
             "colorbar": {
              "outlinewidth": 0,
              "ticks": ""
             }
            },
            "type": "scattercarpet"
           }
          ],
          "scattergeo": [
           {
            "marker": {
             "colorbar": {
              "outlinewidth": 0,
              "ticks": ""
             }
            },
            "type": "scattergeo"
           }
          ],
          "scattergl": [
           {
            "marker": {
             "colorbar": {
              "outlinewidth": 0,
              "ticks": ""
             }
            },
            "type": "scattergl"
           }
          ],
          "scattermapbox": [
           {
            "marker": {
             "colorbar": {
              "outlinewidth": 0,
              "ticks": ""
             }
            },
            "type": "scattermapbox"
           }
          ],
          "scatterpolar": [
           {
            "marker": {
             "colorbar": {
              "outlinewidth": 0,
              "ticks": ""
             }
            },
            "type": "scatterpolar"
           }
          ],
          "scatterpolargl": [
           {
            "marker": {
             "colorbar": {
              "outlinewidth": 0,
              "ticks": ""
             }
            },
            "type": "scatterpolargl"
           }
          ],
          "scatterternary": [
           {
            "marker": {
             "colorbar": {
              "outlinewidth": 0,
              "ticks": ""
             }
            },
            "type": "scatterternary"
           }
          ],
          "surface": [
           {
            "colorbar": {
             "outlinewidth": 0,
             "ticks": ""
            },
            "colorscale": [
             [
              0,
              "#0d0887"
             ],
             [
              0.1111111111111111,
              "#46039f"
             ],
             [
              0.2222222222222222,
              "#7201a8"
             ],
             [
              0.3333333333333333,
              "#9c179e"
             ],
             [
              0.4444444444444444,
              "#bd3786"
             ],
             [
              0.5555555555555556,
              "#d8576b"
             ],
             [
              0.6666666666666666,
              "#ed7953"
             ],
             [
              0.7777777777777778,
              "#fb9f3a"
             ],
             [
              0.8888888888888888,
              "#fdca26"
             ],
             [
              1,
              "#f0f921"
             ]
            ],
            "type": "surface"
           }
          ],
          "table": [
           {
            "cells": {
             "fill": {
              "color": "#EBF0F8"
             },
             "line": {
              "color": "white"
             }
            },
            "header": {
             "fill": {
              "color": "#C8D4E3"
             },
             "line": {
              "color": "white"
             }
            },
            "type": "table"
           }
          ]
         },
         "layout": {
          "annotationdefaults": {
           "arrowcolor": "#2a3f5f",
           "arrowhead": 0,
           "arrowwidth": 1
          },
          "autotypenumbers": "strict",
          "coloraxis": {
           "colorbar": {
            "outlinewidth": 0,
            "ticks": ""
           }
          },
          "colorscale": {
           "diverging": [
            [
             0,
             "#8e0152"
            ],
            [
             0.1,
             "#c51b7d"
            ],
            [
             0.2,
             "#de77ae"
            ],
            [
             0.3,
             "#f1b6da"
            ],
            [
             0.4,
             "#fde0ef"
            ],
            [
             0.5,
             "#f7f7f7"
            ],
            [
             0.6,
             "#e6f5d0"
            ],
            [
             0.7,
             "#b8e186"
            ],
            [
             0.8,
             "#7fbc41"
            ],
            [
             0.9,
             "#4d9221"
            ],
            [
             1,
             "#276419"
            ]
           ],
           "sequential": [
            [
             0,
             "#0d0887"
            ],
            [
             0.1111111111111111,
             "#46039f"
            ],
            [
             0.2222222222222222,
             "#7201a8"
            ],
            [
             0.3333333333333333,
             "#9c179e"
            ],
            [
             0.4444444444444444,
             "#bd3786"
            ],
            [
             0.5555555555555556,
             "#d8576b"
            ],
            [
             0.6666666666666666,
             "#ed7953"
            ],
            [
             0.7777777777777778,
             "#fb9f3a"
            ],
            [
             0.8888888888888888,
             "#fdca26"
            ],
            [
             1,
             "#f0f921"
            ]
           ],
           "sequentialminus": [
            [
             0,
             "#0d0887"
            ],
            [
             0.1111111111111111,
             "#46039f"
            ],
            [
             0.2222222222222222,
             "#7201a8"
            ],
            [
             0.3333333333333333,
             "#9c179e"
            ],
            [
             0.4444444444444444,
             "#bd3786"
            ],
            [
             0.5555555555555556,
             "#d8576b"
            ],
            [
             0.6666666666666666,
             "#ed7953"
            ],
            [
             0.7777777777777778,
             "#fb9f3a"
            ],
            [
             0.8888888888888888,
             "#fdca26"
            ],
            [
             1,
             "#f0f921"
            ]
           ]
          },
          "colorway": [
           "#636efa",
           "#EF553B",
           "#00cc96",
           "#ab63fa",
           "#FFA15A",
           "#19d3f3",
           "#FF6692",
           "#B6E880",
           "#FF97FF",
           "#FECB52"
          ],
          "font": {
           "color": "#2a3f5f"
          },
          "geo": {
           "bgcolor": "white",
           "lakecolor": "white",
           "landcolor": "#E5ECF6",
           "showlakes": true,
           "showland": true,
           "subunitcolor": "white"
          },
          "hoverlabel": {
           "align": "left"
          },
          "hovermode": "closest",
          "mapbox": {
           "style": "light"
          },
          "paper_bgcolor": "white",
          "plot_bgcolor": "#E5ECF6",
          "polar": {
           "angularaxis": {
            "gridcolor": "white",
            "linecolor": "white",
            "ticks": ""
           },
           "bgcolor": "#E5ECF6",
           "radialaxis": {
            "gridcolor": "white",
            "linecolor": "white",
            "ticks": ""
           }
          },
          "scene": {
           "xaxis": {
            "backgroundcolor": "#E5ECF6",
            "gridcolor": "white",
            "gridwidth": 2,
            "linecolor": "white",
            "showbackground": true,
            "ticks": "",
            "zerolinecolor": "white"
           },
           "yaxis": {
            "backgroundcolor": "#E5ECF6",
            "gridcolor": "white",
            "gridwidth": 2,
            "linecolor": "white",
            "showbackground": true,
            "ticks": "",
            "zerolinecolor": "white"
           },
           "zaxis": {
            "backgroundcolor": "#E5ECF6",
            "gridcolor": "white",
            "gridwidth": 2,
            "linecolor": "white",
            "showbackground": true,
            "ticks": "",
            "zerolinecolor": "white"
           }
          },
          "shapedefaults": {
           "line": {
            "color": "#2a3f5f"
           }
          },
          "ternary": {
           "aaxis": {
            "gridcolor": "white",
            "linecolor": "white",
            "ticks": ""
           },
           "baxis": {
            "gridcolor": "white",
            "linecolor": "white",
            "ticks": ""
           },
           "bgcolor": "#E5ECF6",
           "caxis": {
            "gridcolor": "white",
            "linecolor": "white",
            "ticks": ""
           }
          },
          "title": {
           "x": 0.05
          },
          "xaxis": {
           "automargin": true,
           "gridcolor": "white",
           "linecolor": "white",
           "ticks": "",
           "title": {
            "standoff": 15
           },
           "zerolinecolor": "white",
           "zerolinewidth": 2
          },
          "yaxis": {
           "automargin": true,
           "gridcolor": "white",
           "linecolor": "white",
           "ticks": "",
           "title": {
            "standoff": 15
           },
           "zerolinecolor": "white",
           "zerolinewidth": 2
          }
         }
        },
        "title": {
         "text": "Overall Survival"
        }
       }
      },
      "text/html": [
       "<div>                            <div id=\"52317c29-6b11-4df2-887c-c8a864d8656b\" class=\"plotly-graph-div\" style=\"height:525px; width:100%;\"></div>            <script type=\"text/javascript\">                require([\"plotly\"], function(Plotly) {                    window.PLOTLYENV=window.PLOTLYENV || {};                                    if (document.getElementById(\"52317c29-6b11-4df2-887c-c8a864d8656b\")) {                    Plotly.newPlot(                        \"52317c29-6b11-4df2-887c-c8a864d8656b\",                        [{\"mode\": \"lines+markers\", \"name\": \"unaltered\", \"text\": [\"TCGA-DA-A1I1\", \"TCGA-EE-A3JH\", \"TCGA-EE-A2GO\", \"TCGA-EE-A3AA\", \"TCGA-EE-A2GJ\", \"TCGA-D3-A8GM\", \"TCGA-D3-A1QA\", \"TCGA-D3-A2JC\", \"TCGA-D9-A6EC\", \"TCGA-EE-A2GM\", \"TCGA-EE-A2GC\", \"TCGA-3N-A9WC\", \"TCGA-DA-A1IA\", \"TCGA-W3-A825\", \"TCGA-YD-A9TA\", \"TCGA-FS-A1ZB\", \"TCGA-EE-A2A0\", \"TCGA-EE-A2MQ\", \"TCGA-W3-AA1V\", \"TCGA-D3-A2JH\", \"TCGA-YG-AA3O\", \"TCGA-FW-A3R5\", \"TCGA-EE-A181\", \"TCGA-ER-A193\", \"TCGA-EE-A3JD\", \"TCGA-DA-A1IB\", \"TCGA-FS-A1ZZ\", \"TCGA-D3-A51T\", \"TCGA-FS-A1ZU\", \"TCGA-ER-A19F\", \"TCGA-EE-A29N\", \"TCGA-D9-A4Z6\", \"TCGA-3N-A9WB\", \"TCGA-DA-A95Y\", \"TCGA-DA-A95Z\", \"TCGA-W3-AA1O\", \"TCGA-D9-A1JW\"], \"type\": \"scatter\", \"x\": [222.5071563720703, 134.33277893066406, 126.80409240722656, 124.30548858642578, 107.3741683959961, 107.14402770996094, 90.90311431884766, 86.76069641113281, 77.55531311035156, 75.4841079711914, 67.42939758300781, 66.47598266601562, 65.91708374023438, 63.02396774291992, 49.183021545410156, 48.8542594909668, 46.81592559814453, 43.23240280151367, 42.081729888916016, 42.081729888916016, 37.93931198120117, 36.95301818847656, 33.731136322021484, 31.396915435791016, 27.353124618530273, 27.122989654541016, 27.02436065673828, 26.89285659790039, 26.5640926361084, 26.36683464050293, 18.608015060424805, 18.443634033203125, 17.029951095581055, 14.136831283569336, 13.019035339355469, 4.0109148025512695, 3.649275064468384], \"y\": [0.0, 0.0, 0.0277777777777779, 0.0277777777777779, 0.05637254901960809, 0.08496732026143816, 0.11356209150326813, 0.1421568627450982, 0.17075163398692816, 0.19934640522875846, 0.19934640522875846, 0.22900024207213776, 0.22900024207213776, 0.259840232389252, 0.2906802227063666, 0.321520213023481, 0.321520213023481, 0.35382877430807724, 0.3861373355926734, 0.4202408169486358, 0.45434429830459855, 0.4884477796605611, 0.4884477796605611, 0.5249872239705209, 0.5615266682804808, 0.5615266682804808, 0.5615266682804808, 0.5615266682804808, 0.5615266682804808, 0.5615266682804808, 0.5615266682804808, 0.6346055569004007, 0.7076844455203205, 0.7076844455203205, 0.7076844455203205, 0.7076844455203205, 0.7076844455203205]}, {\"mode\": \"lines+markers\", \"name\": \"altered\", \"text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type\": \"scatter\", \"x\": [369.9247131347656, 368.7740478515625, 357.3659362792969, 302.06793212890625, 297.89263916015625, 248.6438446044922, 241.378173828125, 228.5892791748047, 225.95916748046875, 220.79757690429688, 220.23867797851562, 219.1537628173828, 201.7950439453125, 180.39254760742188, 178.3213348388672, 176.54600524902344, 174.83644104003906, 174.2117919921875, 173.78439331054688, 172.1734619140625, 168.26116943359375, 167.7022705078125, 166.5187225341797, 162.08041381835938, 160.99549865722656, 152.34901428222656, 151.527099609375, 149.02850341796875, 148.79837036132812, 145.1162109375, 144.88607788085938, 139.88888549804688, 138.803955078125, 135.7464599609375, 135.02317810058594, 133.80674743652344, 133.2478485107422, 129.2698211669922, 127.1986083984375, 125.19314575195312, 122.72742462158203, 117.17131805419922, 115.52750396728516, 113.52204132080078, 112.5686264038086, 112.04261016845703, 111.08919525146484, 105.03994750976562, 104.41529083251953, 103.5933837890625, 103.2646255493164, 103.19886779785156, 103.1002426147461, 101.25916290283203, 98.39891815185547, 96.91948699951172, 91.56063842773438, 88.86477661132812, 86.13603973388672, 81.20458984375, 78.968994140625, 71.80195617675781, 69.0732192993164, 66.47598266601562, 65.88420867919922, 64.6349105834961, 63.78012466430664, 63.35272979736328, 63.22122573852539, 61.1500129699707, 61.05138397216797, 60.22947692871094, 59.57194900512695, 59.407569885253906, 59.27606201171875, 58.91442108154297, 58.05963897705078, 56.84321212768555, 56.41582107543945, 53.91721725463867, 53.522701263427734, 51.35286331176758, 50.89259338378906, 50.76108932495117, 49.47890853881836, 48.98576354980469, 48.88713455200195, 48.88713455200195, 48.59124755859375, 46.980308532714844, 44.876220703125, 43.82417678833008, 43.36390686035156, 41.588584899902344, 40.40503692626953, 39.74750900268555, 38.26807403564453, 37.3475341796875, 35.93385314941406, 35.80234909057617, 33.205116271972656, 32.74484634399414, 32.481834411621094, 31.594173431396484, 30.8380184173584, 28.832561492919922, 28.766807556152344, 27.649011611938477, 27.58325958251953, 27.22161865234375, 26.958608627319336, 26.728473663330078, 24.986026763916016, 23.605220794677734, 23.34221076965332, 22.94769287109375, 22.61893081665039, 22.2901668548584, 21.665515899658203, 20.383338928222656, 19.75868797302246, 19.42992401123047, 18.180622100830078, 17.950489044189453, 16.964197158813477, 15.977907180786133, 15.780649185180664, 15.451885223388672, 14.925864219665527, 13.80806827545166, 13.51218032836914, 13.019035339355469, 12.953282356262207, 12.09849739074707, 11.868363380432129, 11.802610397338867, 11.40809440612793, 10.42180347442627, 9.895781517028809, 9.336883544921875, 7.791695594787598, 7.232797622680664, 7.101292133331299, 6.443765163421631, 2.0383338928222656], \"y\": [0.0, 0.0, 0.006944444444444864, 0.01388888888888884, 0.01388888888888884, 0.020882584712372476, 0.027876280535855336, 0.027876280535855336, 0.03492065531458133, 0.041965030093306765, 0.041965030093306765, 0.049061585425949406, 0.05615814075859138, 0.06325469609123369, 0.070351251423876, 0.070351251423876, 0.07750239564369232, 0.07750239564369232, 0.08470940817772576, 0.08470940817772576, 0.08470940817772576, 0.09203173291230415, 0.09203173291230415, 0.09203173291230415, 0.09203173291230415, 0.09953560288823582, 0.10703947286416682, 0.11454334284009815, 0.11454334284009815, 0.11454334284009815, 0.1221765898845798, 0.12980983692906167, 0.12980983692906167, 0.12980983692906167, 0.1375793919564806, 0.1375793919564806, 0.1454195793023313, 0.1454195793023313, 0.15333236097545833, 0.1612451426485848, 0.1691579243217114, 0.17707070599483787, 0.18498348766796424, 0.19289626934109116, 0.2008090510142172, 0.2008090510142172, 0.2008090510142172, 0.20888168686255804, 0.20888168686255804, 0.20888168686255804, 0.20888168686255804, 0.20888168686255804, 0.21729783912997735, 0.21729783912997735, 0.2258054713133475, 0.2258054713133475, 0.2258054713133475, 0.2345042862424106, 0.24320310117147437, 0.2520030651113405, 0.2520030651113405, 0.2609077905266812, 0.2698125159420225, 0.2698125159420225, 0.2788271762390351, 0.2878418365360469, 0.2878418365360469, 0.2878418365360469, 0.2970906438537608, 0.2970906438537608, 0.2970906438537608, 0.30658941893681846, 0.30658941893681846, 0.31622012145158485, 0.3258508239663511, 0.3354815264811175, 0.3354815264811175, 0.34525385697404265, 0.34525385697404265, 0.34525385697404265, 0.3553268745590574, 0.365399892144072, 0.37547290972908653, 0.3855459273141013, 0.3956189448991163, 0.40569196248413075, 0.40569196248413075, 0.40569196248413075, 0.40569196248413075, 0.40569196248413075, 0.41649756316623743, 0.41649756316623743, 0.4275070431064971, 0.4385165230467569, 0.4495260029870166, 0.4495260029870166, 0.4495260029870166, 0.4609942112581207, 0.4724624195292243, 0.4724624195292243, 0.4841854768730194, 0.49590853421681436, 0.49590853421681436, 0.5079107119735569, 0.5079107119735569, 0.5079107119735569, 0.5205283860255169, 0.5205283860255169, 0.5205283860255169, 0.5205283860255169, 0.5205283860255169, 0.5205283860255169, 0.5350578288732285, 0.5350578288732285, 0.5350578288732285, 0.5350578288732285, 0.5350578288732285, 0.5350578288732285, 0.5350578288732285, 0.5529402200704121, 0.5529402200704121, 0.5715677109008117, 0.5715677109008117, 0.5910419058598657, 0.6105161008189199, 0.6299902957779739, 0.6299902957779739, 0.6299902957779739, 0.6517555724969166, 0.6735208492158593, 0.6735208492158593, 0.6735208492158593, 0.6735208492158593, 0.6735208492158593, 0.6735208492158593, 0.6735208492158593, 0.7097963104140973, 0.7460717716123351, 0.7460717716123351, 0.7460717716123351, 0.7968574172898681, 0.7968574172898681, 0.8645716115265787, 0.8645716115265787, 0.8645716115265787]}],                        {\"template\": {\"data\": {\"bar\": [{\"error_x\": {\"color\": \"#2a3f5f\"}, \"error_y\": {\"color\": \"#2a3f5f\"}, \"marker\": {\"line\": {\"color\": \"#E5ECF6\", \"width\": 0.5}}, \"type\": \"bar\"}], \"barpolar\": [{\"marker\": {\"line\": {\"color\": \"#E5ECF6\", \"width\": 0.5}}, \"type\": \"barpolar\"}], \"carpet\": [{\"aaxis\": {\"endlinecolor\": \"#2a3f5f\", \"gridcolor\": \"white\", \"linecolor\": \"white\", \"minorgridcolor\": \"white\", \"startlinecolor\": \"#2a3f5f\"}, \"baxis\": {\"endlinecolor\": \"#2a3f5f\", \"gridcolor\": \"white\", \"linecolor\": \"white\", \"minorgridcolor\": \"white\", \"startlinecolor\": \"#2a3f5f\"}, \"type\": \"carpet\"}], \"choropleth\": [{\"colorbar\": {\"outlinewidth\": 0, \"ticks\": \"\"}, \"type\": \"choropleth\"}], \"contour\": [{\"colorbar\": {\"outlinewidth\": 0, \"ticks\": \"\"}, \"colorscale\": [[0.0, \"#0d0887\"], [0.1111111111111111, \"#46039f\"], [0.2222222222222222, \"#7201a8\"], [0.3333333333333333, \"#9c179e\"], [0.4444444444444444, \"#bd3786\"], [0.5555555555555556, \"#d8576b\"], [0.6666666666666666, \"#ed7953\"], [0.7777777777777778, \"#fb9f3a\"], [0.8888888888888888, \"#fdca26\"], [1.0, \"#f0f921\"]], \"type\": \"contour\"}], \"contourcarpet\": [{\"colorbar\": {\"outlinewidth\": 0, \"ticks\": \"\"}, \"type\": \"contourcarpet\"}], \"heatmap\": [{\"colorbar\": {\"outlinewidth\": 0, \"ticks\": \"\"}, \"colorscale\": [[0.0, \"#0d0887\"], [0.1111111111111111, \"#46039f\"], [0.2222222222222222, \"#7201a8\"], [0.3333333333333333, \"#9c179e\"], [0.4444444444444444, \"#bd3786\"], [0.5555555555555556, \"#d8576b\"], [0.6666666666666666, \"#ed7953\"], [0.7777777777777778, \"#fb9f3a\"], [0.8888888888888888, \"#fdca26\"], [1.0, \"#f0f921\"]], \"type\": \"heatmap\"}], \"heatmapgl\": [{\"colorbar\": {\"outlinewidth\": 0, \"ticks\": \"\"}, \"colorscale\": [[0.0, \"#0d0887\"], [0.1111111111111111, \"#46039f\"], [0.2222222222222222, \"#7201a8\"], [0.3333333333333333, \"#9c179e\"], [0.4444444444444444, \"#bd3786\"], [0.5555555555555556, \"#d8576b\"], [0.6666666666666666, \"#ed7953\"], [0.7777777777777778, \"#fb9f3a\"], [0.8888888888888888, \"#fdca26\"], [1.0, \"#f0f921\"]], \"type\": \"heatmapgl\"}], \"histogram\": [{\"marker\": {\"colorbar\": {\"outlinewidth\": 0, \"ticks\": \"\"}}, \"type\": \"histogram\"}], \"histogram2d\": [{\"colorbar\": {\"outlinewidth\": 0, \"ticks\": \"\"}, \"colorscale\": [[0.0, \"#0d0887\"], [0.1111111111111111, \"#46039f\"], [0.2222222222222222, \"#7201a8\"], [0.3333333333333333, \"#9c179e\"], [0.4444444444444444, \"#bd3786\"], [0.5555555555555556, \"#d8576b\"], [0.6666666666666666, \"#ed7953\"], [0.7777777777777778, \"#fb9f3a\"], [0.8888888888888888, \"#fdca26\"], [1.0, \"#f0f921\"]], \"type\": \"histogram2d\"}], \"histogram2dcontour\": [{\"colorbar\": {\"outlinewidth\": 0, \"ticks\": \"\"}, \"colorscale\": [[0.0, \"#0d0887\"], [0.1111111111111111, \"#46039f\"], [0.2222222222222222, \"#7201a8\"], [0.3333333333333333, \"#9c179e\"], [0.4444444444444444, \"#bd3786\"], [0.5555555555555556, \"#d8576b\"], [0.6666666666666666, \"#ed7953\"], [0.7777777777777778, \"#fb9f3a\"], [0.8888888888888888, \"#fdca26\"], [1.0, \"#f0f921\"]], \"type\": \"histogram2dcontour\"}], \"mesh3d\": [{\"colorbar\": {\"outlinewidth\": 0, \"ticks\": \"\"}, \"type\": \"mesh3d\"}], \"parcoords\": [{\"line\": {\"colorbar\": {\"outlinewidth\": 0, \"ticks\": \"\"}}, \"type\": \"parcoords\"}], \"pie\": [{\"automargin\": true, \"type\": \"pie\"}], \"scatter\": [{\"marker\": {\"colorbar\": {\"outlinewidth\": 0, \"ticks\": \"\"}}, \"type\": \"scatter\"}], \"scatter3d\": [{\"line\": {\"colorbar\": {\"outlinewidth\": 0, \"ticks\": \"\"}}, \"marker\": {\"colorbar\": {\"outlinewidth\": 0, \"ticks\": \"\"}}, \"type\": \"scatter3d\"}], \"scattercarpet\": [{\"marker\": {\"colorbar\": {\"outlinewidth\": 0, \"ticks\": \"\"}}, \"type\": \"scattercarpet\"}], \"scattergeo\": [{\"marker\": {\"colorbar\": {\"outlinewidth\": 0, \"ticks\": \"\"}}, \"type\": \"scattergeo\"}], \"scattergl\": [{\"marker\": {\"colorbar\": {\"outlinewidth\": 0, \"ticks\": \"\"}}, \"type\": \"scattergl\"}], \"scattermapbox\": [{\"marker\": {\"colorbar\": {\"outlinewidth\": 0, \"ticks\": \"\"}}, \"type\": \"scattermapbox\"}], \"scatterpolar\": [{\"marker\": {\"colorbar\": {\"outlinewidth\": 0, \"ticks\": \"\"}}, \"type\": \"scatterpolar\"}], \"scatterpolargl\": [{\"marker\": {\"colorbar\": {\"outlinewidth\": 0, \"ticks\": \"\"}}, \"type\": \"scatterpolargl\"}], \"scatterternary\": [{\"marker\": {\"colorbar\": {\"outlinewidth\": 0, \"ticks\": \"\"}}, \"type\": \"scatterternary\"}], \"surface\": [{\"colorbar\": {\"outlinewidth\": 0, \"ticks\": \"\"}, \"colorscale\": [[0.0, \"#0d0887\"], [0.1111111111111111, \"#46039f\"], [0.2222222222222222, \"#7201a8\"], [0.3333333333333333, \"#9c179e\"], [0.4444444444444444, \"#bd3786\"], [0.5555555555555556, \"#d8576b\"], [0.6666666666666666, \"#ed7953\"], [0.7777777777777778, \"#fb9f3a\"], [0.8888888888888888, \"#fdca26\"], [1.0, \"#f0f921\"]], \"type\": \"surface\"}], \"table\": [{\"cells\": {\"fill\": {\"color\": \"#EBF0F8\"}, \"line\": {\"color\": \"white\"}}, \"header\": {\"fill\": {\"color\": \"#C8D4E3\"}, \"line\": {\"color\": \"white\"}}, \"type\": \"table\"}]}, \"layout\": {\"annotationdefaults\": {\"arrowcolor\": \"#2a3f5f\", \"arrowhead\": 0, \"arrowwidth\": 1}, \"autotypenumbers\": \"strict\", \"coloraxis\": {\"colorbar\": {\"outlinewidth\": 0, \"ticks\": \"\"}}, \"colorscale\": {\"diverging\": [[0, \"#8e0152\"], [0.1, \"#c51b7d\"], [0.2, \"#de77ae\"], [0.3, \"#f1b6da\"], [0.4, \"#fde0ef\"], [0.5, \"#f7f7f7\"], [0.6, \"#e6f5d0\"], [0.7, \"#b8e186\"], [0.8, \"#7fbc41\"], [0.9, \"#4d9221\"], [1, \"#276419\"]], \"sequential\": [[0.0, \"#0d0887\"], [0.1111111111111111, \"#46039f\"], [0.2222222222222222, \"#7201a8\"], [0.3333333333333333, \"#9c179e\"], [0.4444444444444444, \"#bd3786\"], [0.5555555555555556, \"#d8576b\"], [0.6666666666666666, \"#ed7953\"], [0.7777777777777778, \"#fb9f3a\"], [0.8888888888888888, \"#fdca26\"], [1.0, \"#f0f921\"]], \"sequentialminus\": [[0.0, \"#0d0887\"], [0.1111111111111111, \"#46039f\"], [0.2222222222222222, \"#7201a8\"], [0.3333333333333333, \"#9c179e\"], [0.4444444444444444, \"#bd3786\"], [0.5555555555555556, \"#d8576b\"], [0.6666666666666666, \"#ed7953\"], [0.7777777777777778, \"#fb9f3a\"], [0.8888888888888888, \"#fdca26\"], [1.0, \"#f0f921\"]]}, \"colorway\": [\"#636efa\", \"#EF553B\", \"#00cc96\", \"#ab63fa\", \"#FFA15A\", \"#19d3f3\", \"#FF6692\", \"#B6E880\", \"#FF97FF\", \"#FECB52\"], \"font\": {\"color\": \"#2a3f5f\"}, \"geo\": {\"bgcolor\": \"white\", \"lakecolor\": \"white\", \"landcolor\": \"#E5ECF6\", \"showlakes\": true, \"showland\": true, \"subunitcolor\": \"white\"}, \"hoverlabel\": {\"align\": \"left\"}, \"hovermode\": \"closest\", \"mapbox\": {\"style\": \"light\"}, \"paper_bgcolor\": \"white\", \"plot_bgcolor\": \"#E5ECF6\", \"polar\": {\"angularaxis\": {\"gridcolor\": \"white\", \"linecolor\": \"white\", \"ticks\": \"\"}, \"bgcolor\": \"#E5ECF6\", \"radialaxis\": {\"gridcolor\": \"white\", \"linecolor\": \"white\", \"ticks\": \"\"}}, \"scene\": {\"xaxis\": {\"backgroundcolor\": \"#E5ECF6\", \"gridcolor\": \"white\", \"gridwidth\": 2, \"linecolor\": \"white\", \"showbackground\": true, \"ticks\": \"\", \"zerolinecolor\": \"white\"}, \"yaxis\": {\"backgroundcolor\": \"#E5ECF6\", \"gridcolor\": \"white\", \"gridwidth\": 2, \"linecolor\": \"white\", \"showbackground\": true, \"ticks\": \"\", \"zerolinecolor\": \"white\"}, \"zaxis\": {\"backgroundcolor\": \"#E5ECF6\", \"gridcolor\": \"white\", \"gridwidth\": 2, \"linecolor\": \"white\", \"showbackground\": true, \"ticks\": \"\", \"zerolinecolor\": \"white\"}}, \"shapedefaults\": {\"line\": {\"color\": \"#2a3f5f\"}}, \"ternary\": {\"aaxis\": {\"gridcolor\": \"white\", \"linecolor\": \"white\", \"ticks\": \"\"}, \"baxis\": {\"gridcolor\": \"white\", \"linecolor\": \"white\", \"ticks\": \"\"}, \"bgcolor\": \"#E5ECF6\", \"caxis\": {\"gridcolor\": \"white\", \"linecolor\": \"white\", \"ticks\": \"\"}}, \"title\": {\"x\": 0.05}, \"xaxis\": {\"automargin\": true, \"gridcolor\": \"white\", \"linecolor\": \"white\", \"ticks\": \"\", \"title\": {\"standoff\": 15}, \"zerolinecolor\": \"white\", \"zerolinewidth\": 2}, \"yaxis\": {\"automargin\": true, \"gridcolor\": \"white\", \"linecolor\": \"white\", \"ticks\": \"\", \"title\": {\"standoff\": 15}, \"zerolinecolor\": \"white\", \"zerolinewidth\": 2}}}, \"title\": {\"text\": \"Overall Survival\"}},                        {\"responsive\": true}                    ).then(function(){\n",
       "                            \n",
       "var gd = document.getElementById('52317c29-6b11-4df2-887c-c8a864d8656b');\n",
       "var x = new MutationObserver(function (mutations, observer) {{\n",
       "        var display = window.getComputedStyle(gd).display;\n",
       "        if (!display || display === 'none') {{\n",
       "            console.log([gd, 'removed!']);\n",
       "            Plotly.purge(gd);\n",
       "            observer.disconnect();\n",
       "        }}\n",
       "}});\n",
       "\n",
       "// Listen for the removal of the full notebook cells\n",
       "var notebookContainer = gd.closest('#notebook-container');\n",
       "if (notebookContainer) {{\n",
       "    x.observe(notebookContainer, {childList: true});\n",
       "}}\n",
       "\n",
       "// Listen for the clearing of the current output cell\n",
       "var outputEl = gd.closest('.output');\n",
       "if (outputEl) {{\n",
       "    x.observe(outputEl, {childList: true});\n",
       "}}\n",
       "\n",
       "                        })                };                });            </script>        </div>"
      ]
     },
     "metadata": {},
     "output_type": "display_data"
    }
   ],
   "source": [
    "import plotly.graph_objects as go\n",
    "\n",
    "fig = go.Figure()\n",
    "fig.add_trace(go.Scatter(\n",
    "    x=uos.value_month,\n",
    "    y=uos_km['Kaplan Meier Estimate'],\n",
    "    name='unaltered',\n",
    "    mode='lines+markers',\n",
    "    text=uos.patientId\n",
    "))\n",
    "\n",
    "fig.add_trace(go.Scatter(\n",
    "    x=aos.value_month,\n",
    "    y=aos_km['Kaplan Meier Estimate'],\n",
    "    name='altered',\n",
    "    mode='lines+markers',\n",
    "    text=aos.patientId\n",
    "))\n",
    "\n",
    "fig.update_layout(title_text=\"Overall Survival\")\n",
    "fig.show()\n"
   ]
  },
  {
   "cell_type": "markdown",
   "id": "selected-tutorial",
   "metadata": {},
   "source": [
    "### Dash Widgets\n",
    "\n",
    "Installation:\n",
    "\n",
    "` pip install jupyter-dash`\n"
   ]
  },
  {
   "cell_type": "code",
   "execution_count": 83,
   "id": "cardiac-korea",
   "metadata": {},
   "outputs": [
    {
     "data": {
      "text/html": [
       "\n",
       "        <iframe\n",
       "            width=\"100%\"\n",
       "            height=\"650\"\n",
       "            src=\"http://127.0.0.1:8050/\"\n",
       "            frameborder=\"0\"\n",
       "            allowfullscreen\n",
       "        ></iframe>\n",
       "        "
      ],
      "text/plain": [
       "<IPython.lib.display.IFrame at 0x1293ba908>"
      ]
     },
     "metadata": {},
     "output_type": "display_data"
    }
   ],
   "source": [
    "from jupyter_dash import JupyterDash\n",
    "\n",
    "import dash\n",
    "import dash_core_components as dcc\n",
    "import dash_html_components as html\n",
    "import pandas as pd\n",
    "\n",
    "\n",
    "external_stylesheets = ['https://codepen.io/chriddyp/pen/bWLwgP.css']\n",
    "\n",
    "app = JupyterDash(__name__, external_stylesheets=external_stylesheets)\n",
    "\n",
    "# Create server variable with Flask server object for use with gunicorn\n",
    "server = app.server\n",
    "\n",
    "app.layout = html.Div([\n",
    "    html.Div([\n",
    "\n",
    "        html.Div([\n",
    "            dcc.RadioItems(\n",
    "                id='survival-type',\n",
    "                options=[{'label': i, 'value': i} for i in ['Overall', 'Disease Specific', 'Progression Free']],\n",
    "                value='Overall',\n",
    "                labelStyle={'display': 'inline-block'}\n",
    "            )\n",
    "        ], style={'display': 'inline-block'})\n",
    "    ], style={\n",
    "        'borderBottom': 'thin lightgrey solid',\n",
    "        'backgroundColor': 'rgb(250, 250, 250)',\n",
    "        'padding': '10px 5px'\n",
    "    }),\n",
    "\n",
    "    html.Div([\n",
    "        dcc.Graph(\n",
    "            id='survival-scatter'\n",
    "        )\n",
    "    ], style={'display': 'inline-block', 'padding': '0 20'}),\n",
    "\n",
    "    html.Div(dcc.Slider(\n",
    "        id='month-slider',\n",
    "        min=0, #aos['value_month'].min(),\n",
    "        max=370, #aos['value_month'].max(),\n",
    "        value=aos['value_month'].max(),\n",
    "        marks={str(int(month)): str(int(month)) for month in aos['value_month'].unique()},\n",
    "        step=None\n",
    "    ), style={'padding': '0px 20px 20px 20px'})\n",
    "])\n",
    "\n",
    "@app.callback(\n",
    "    dash.dependencies.Output('survival-scatter', 'figure'),\n",
    "    [dash.dependencies.Input('month-slider', 'value'),\n",
    "     dash.dependencies.Input('survival-type', 'value')])\n",
    "def update_graph(max_month, survival_type):\n",
    "    # warning, hacky code\n",
    "    if survival_type == 'Overall':\n",
    "        adf = aos[aos['value_month'] <= max_month]\n",
    "        udf = uos[uos['value_month'] <= max_month]\n",
    "        akm = aos_km\n",
    "        ukm = uos_km\n",
    "        \n",
    "    if survival_type == 'Disease Specific':\n",
    "        adf = adss[adss['value_month'] <= max_month]\n",
    "        udf = udss[udss['value_month'] <= max_month]\n",
    "        akm = adss_km\n",
    "        ukm = udss_km\n",
    "        \n",
    "    if survival_type == 'Progression Free':\n",
    "        adf = apfs[apfs['value_month'] <= max_month]\n",
    "        udf = upfs[upfs['value_month'] <= max_month]\n",
    "        akm = apfs_km\n",
    "        ukm = upfs_km\n",
    "        \n",
    "    return {\n",
    "        'data': [dict(\n",
    "            x=adf['value_month'],\n",
    "            y=akm['Kaplan Meier Estimate'],\n",
    "            name='altered',\n",
    "            text=aos['patientId'],\n",
    "            mode='lines+markers',\n",
    "            ),\n",
    "            dict(\n",
    "            x=udf['value_month'],\n",
    "            y=ukm['Kaplan Meier Estimate'],\n",
    "            name='unaltered',\n",
    "            text=aos['patientId'],\n",
    "            mode='lines+markers',\n",
    "        )],\n",
    "        'layout': dict(\n",
    "            xaxis={\n",
    "                'title': 'months',\n",
    "            },\n",
    "            yaxis={\n",
    "                'title': 'survival rate',\n",
    "            },\n",
    "            margin={'l': 40, 'b': 30, 't': 10, 'r': 0},\n",
    "            height=450,\n",
    "            hovermode='closest'\n",
    "        )\n",
    "    }\n",
    "\n",
    "app.run_server(mode=\"inline\")"
   ]
  },
  {
   "cell_type": "code",
   "execution_count": null,
   "id": "sensitive-trustee",
   "metadata": {},
   "outputs": [],
   "source": []
  }
 ],
 "metadata": {
  "kernelspec": {
   "display_name": "Python 3",
   "language": "python",
   "name": "python3"
  },
  "language_info": {
   "codemirror_mode": {
    "name": "ipython",
    "version": 3
   },
   "file_extension": ".py",
   "mimetype": "text/x-python",
   "name": "python",
   "nbconvert_exporter": "python",
   "pygments_lexer": "ipython3",
   "version": "3.7.3"
  }
 },
 "nbformat": 4,
 "nbformat_minor": 5
}
