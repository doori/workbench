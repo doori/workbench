{
 "cells": [
  {
   "cell_type": "code",
   "execution_count": 2,
   "id": "future-dealer",
   "metadata": {},
   "outputs": [],
   "source": [
    "%config Completer.use_jedi = False"
   ]
  },
  {
   "cell_type": "code",
   "execution_count": 3,
   "id": "married-democracy",
   "metadata": {},
   "outputs": [
    {
     "name": "stdout",
     "output_type": "stream",
     "text": [
      "SwaggerClient(https://www.cbioportal.org/api)\n"
     ]
    }
   ],
   "source": [
    "from bravado.client import SwaggerClient\n",
    "\n",
    "cbioportal = SwaggerClient.from_url('https://www.cbioportal.org/api/api-docs',\n",
    "                                config={\"validate_requests\":False,\"validate_responses\":False})\n",
    "print(cbioportal)"
   ]
  },
  {
   "cell_type": "code",
   "execution_count": 4,
   "id": "identical-branch",
   "metadata": {},
   "outputs": [],
   "source": [
    "import pandas as pd"
   ]
  },
  {
   "cell_type": "code",
   "execution_count": 5,
   "id": "stable-trademark",
   "metadata": {},
   "outputs": [],
   "source": [
    "study_id='skcm_tcga_pan_can_atlas_2018'"
   ]
  },
  {
   "cell_type": "code",
   "execution_count": 6,
   "id": "organized-truck",
   "metadata": {},
   "outputs": [],
   "source": [
    "def get_pandas_df(list):\n",
    "    return pd.DataFrame.from_dict([\n",
    "            dict(\n",
    "                {k:getattr(m,k) for k in m})\n",
    "                    for m in list\n",
    "                    ])"
   ]
  },
  {
   "cell_type": "code",
   "execution_count": 7,
   "id": "terminal-cherry",
   "metadata": {},
   "outputs": [
    {
     "data": {
      "text/html": [
       "<div>\n",
       "<style scoped>\n",
       "    .dataframe tbody tr th:only-of-type {\n",
       "        vertical-align: middle;\n",
       "    }\n",
       "\n",
       "    .dataframe tbody tr th {\n",
       "        vertical-align: top;\n",
       "    }\n",
       "\n",
       "    .dataframe thead th {\n",
       "        text-align: right;\n",
       "    }\n",
       "</style>\n",
       "<table border=\"1\" class=\"dataframe\">\n",
       "  <thead>\n",
       "    <tr style=\"text-align: right;\">\n",
       "      <th></th>\n",
       "      <th>datatype</th>\n",
       "      <th>description</th>\n",
       "      <th>genericAssayType</th>\n",
       "      <th>molecularAlterationType</th>\n",
       "      <th>molecularProfileId</th>\n",
       "      <th>name</th>\n",
       "      <th>pivotThreshold</th>\n",
       "      <th>showProfileInAnalysisTab</th>\n",
       "      <th>sortOrder</th>\n",
       "      <th>study</th>\n",
       "      <th>studyId</th>\n",
       "    </tr>\n",
       "  </thead>\n",
       "  <tbody>\n",
       "    <tr>\n",
       "      <th>0</th>\n",
       "      <td>LOG2-VALUE</td>\n",
       "      <td>Protein expression measured by reverse-phase p...</td>\n",
       "      <td>None</td>\n",
       "      <td>PROTEIN_LEVEL</td>\n",
       "      <td>skcm_tcga_pan_can_atlas_2018_rppa</td>\n",
       "      <td>Protein expression (RPPA)</td>\n",
       "      <td>NaN</td>\n",
       "      <td>False</td>\n",
       "      <td>None</td>\n",
       "      <td>None</td>\n",
       "      <td>skcm_tcga_pan_can_atlas_2018</td>\n",
       "    </tr>\n",
       "    <tr>\n",
       "      <th>1</th>\n",
       "      <td>Z-SCORE</td>\n",
       "      <td>Protein expression, measured by reverse-phase ...</td>\n",
       "      <td>None</td>\n",
       "      <td>PROTEIN_LEVEL</td>\n",
       "      <td>skcm_tcga_pan_can_atlas_2018_rppa_Zscores</td>\n",
       "      <td>Protein expression z-scores (RPPA)</td>\n",
       "      <td>NaN</td>\n",
       "      <td>True</td>\n",
       "      <td>None</td>\n",
       "      <td>None</td>\n",
       "      <td>skcm_tcga_pan_can_atlas_2018</td>\n",
       "    </tr>\n",
       "    <tr>\n",
       "      <th>2</th>\n",
       "      <td>DISCRETE</td>\n",
       "      <td>Putative copy-number from GISTIC 2.0. Values: ...</td>\n",
       "      <td>None</td>\n",
       "      <td>COPY_NUMBER_ALTERATION</td>\n",
       "      <td>skcm_tcga_pan_can_atlas_2018_gistic</td>\n",
       "      <td>Putative copy-number alterations from GISTIC</td>\n",
       "      <td>NaN</td>\n",
       "      <td>True</td>\n",
       "      <td>None</td>\n",
       "      <td>None</td>\n",
       "      <td>skcm_tcga_pan_can_atlas_2018</td>\n",
       "    </tr>\n",
       "    <tr>\n",
       "      <th>3</th>\n",
       "      <td>CONTINUOUS</td>\n",
       "      <td>mRNA Expression, RSEM (Batch normalized from I...</td>\n",
       "      <td>None</td>\n",
       "      <td>MRNA_EXPRESSION</td>\n",
       "      <td>skcm_tcga_pan_can_atlas_2018_rna_seq_v2_mrna</td>\n",
       "      <td>mRNA Expression, RSEM (Batch normalized from I...</td>\n",
       "      <td>NaN</td>\n",
       "      <td>False</td>\n",
       "      <td>None</td>\n",
       "      <td>None</td>\n",
       "      <td>skcm_tcga_pan_can_atlas_2018</td>\n",
       "    </tr>\n",
       "    <tr>\n",
       "      <th>4</th>\n",
       "      <td>Z-SCORE</td>\n",
       "      <td>mRNA expression z-scores (RNA Seq V2 RSEM) com...</td>\n",
       "      <td>None</td>\n",
       "      <td>MRNA_EXPRESSION</td>\n",
       "      <td>skcm_tcga_pan_can_atlas_2018_rna_seq_v2_mrna_m...</td>\n",
       "      <td>mRNA expression z-scores relative to diploid s...</td>\n",
       "      <td>NaN</td>\n",
       "      <td>True</td>\n",
       "      <td>None</td>\n",
       "      <td>None</td>\n",
       "      <td>skcm_tcga_pan_can_atlas_2018</td>\n",
       "    </tr>\n",
       "  </tbody>\n",
       "</table>\n",
       "</div>"
      ],
      "text/plain": [
       "     datatype                                        description  \\\n",
       "0  LOG2-VALUE  Protein expression measured by reverse-phase p...   \n",
       "1     Z-SCORE  Protein expression, measured by reverse-phase ...   \n",
       "2    DISCRETE  Putative copy-number from GISTIC 2.0. Values: ...   \n",
       "3  CONTINUOUS  mRNA Expression, RSEM (Batch normalized from I...   \n",
       "4     Z-SCORE  mRNA expression z-scores (RNA Seq V2 RSEM) com...   \n",
       "\n",
       "  genericAssayType molecularAlterationType  \\\n",
       "0             None           PROTEIN_LEVEL   \n",
       "1             None           PROTEIN_LEVEL   \n",
       "2             None  COPY_NUMBER_ALTERATION   \n",
       "3             None         MRNA_EXPRESSION   \n",
       "4             None         MRNA_EXPRESSION   \n",
       "\n",
       "                                  molecularProfileId  \\\n",
       "0                  skcm_tcga_pan_can_atlas_2018_rppa   \n",
       "1          skcm_tcga_pan_can_atlas_2018_rppa_Zscores   \n",
       "2                skcm_tcga_pan_can_atlas_2018_gistic   \n",
       "3       skcm_tcga_pan_can_atlas_2018_rna_seq_v2_mrna   \n",
       "4  skcm_tcga_pan_can_atlas_2018_rna_seq_v2_mrna_m...   \n",
       "\n",
       "                                                name  pivotThreshold  \\\n",
       "0                          Protein expression (RPPA)             NaN   \n",
       "1                 Protein expression z-scores (RPPA)             NaN   \n",
       "2       Putative copy-number alterations from GISTIC             NaN   \n",
       "3  mRNA Expression, RSEM (Batch normalized from I...             NaN   \n",
       "4  mRNA expression z-scores relative to diploid s...             NaN   \n",
       "\n",
       "   showProfileInAnalysisTab sortOrder study                       studyId  \n",
       "0                     False      None  None  skcm_tcga_pan_can_atlas_2018  \n",
       "1                      True      None  None  skcm_tcga_pan_can_atlas_2018  \n",
       "2                      True      None  None  skcm_tcga_pan_can_atlas_2018  \n",
       "3                     False      None  None  skcm_tcga_pan_can_atlas_2018  \n",
       "4                      True      None  None  skcm_tcga_pan_can_atlas_2018  "
      ]
     },
     "execution_count": 7,
     "metadata": {},
     "output_type": "execute_result"
    }
   ],
   "source": [
    "mol_profiles=cbioportal.Molecular_Profiles.getAllMolecularProfilesInStudyUsingGET(studyId=study_id).result()\n",
    "mpdf = get_pandas_df(mol_profiles)\n",
    "mpdf.head()"
   ]
  },
  {
   "cell_type": "code",
   "execution_count": 8,
   "id": "relative-russia",
   "metadata": {},
   "outputs": [
    {
     "data": {
      "text/plain": [
       "'skcm_tcga_pan_can_atlas_2018_mutations'"
      ]
     },
     "execution_count": 8,
     "metadata": {},
     "output_type": "execute_result"
    }
   ],
   "source": [
    "mol_profile_id = mpdf.loc[mpdf['name'] == 'Mutations']['molecularProfileId'].item()\n",
    "mol_profile_id"
   ]
  },
  {
   "cell_type": "code",
   "execution_count": 9,
   "id": "worst-indonesian",
   "metadata": {},
   "outputs": [
    {
     "data": {
      "text/html": [
       "<div>\n",
       "<style scoped>\n",
       "    .dataframe tbody tr th:only-of-type {\n",
       "        vertical-align: middle;\n",
       "    }\n",
       "\n",
       "    .dataframe tbody tr th {\n",
       "        vertical-align: top;\n",
       "    }\n",
       "\n",
       "    .dataframe thead th {\n",
       "        text-align: right;\n",
       "    }\n",
       "</style>\n",
       "<table border=\"1\" class=\"dataframe\">\n",
       "  <thead>\n",
       "    <tr style=\"text-align: right;\">\n",
       "      <th></th>\n",
       "      <th>entrezGeneId</th>\n",
       "      <th>geneticEntityId</th>\n",
       "      <th>hugoGeneSymbol</th>\n",
       "      <th>type</th>\n",
       "    </tr>\n",
       "  </thead>\n",
       "  <tbody>\n",
       "    <tr>\n",
       "      <th>0</th>\n",
       "      <td>673</td>\n",
       "      <td>None</td>\n",
       "      <td>BRAF</td>\n",
       "      <td>protein-coding</td>\n",
       "    </tr>\n",
       "    <tr>\n",
       "      <th>1</th>\n",
       "      <td>286494</td>\n",
       "      <td>None</td>\n",
       "      <td>BRAFP1</td>\n",
       "      <td>pseudo</td>\n",
       "    </tr>\n",
       "    <tr>\n",
       "      <th>2</th>\n",
       "      <td>-11087</td>\n",
       "      <td>None</td>\n",
       "      <td>BRAF_PS147</td>\n",
       "      <td>phosphoprotein</td>\n",
       "    </tr>\n",
       "    <tr>\n",
       "      <th>3</th>\n",
       "      <td>-11088</td>\n",
       "      <td>None</td>\n",
       "      <td>BRAF_PS151</td>\n",
       "      <td>phosphoprotein</td>\n",
       "    </tr>\n",
       "    <tr>\n",
       "      <th>4</th>\n",
       "      <td>-59030</td>\n",
       "      <td>None</td>\n",
       "      <td>BRAF_PS314</td>\n",
       "      <td>phosphoprotein</td>\n",
       "    </tr>\n",
       "  </tbody>\n",
       "</table>\n",
       "</div>"
      ],
      "text/plain": [
       "   entrezGeneId geneticEntityId hugoGeneSymbol            type\n",
       "0           673            None           BRAF  protein-coding\n",
       "1        286494            None         BRAFP1          pseudo\n",
       "2        -11087            None     BRAF_PS147  phosphoprotein\n",
       "3        -11088            None     BRAF_PS151  phosphoprotein\n",
       "4        -59030            None     BRAF_PS314  phosphoprotein"
      ]
     },
     "execution_count": 9,
     "metadata": {},
     "output_type": "execute_result"
    }
   ],
   "source": [
    "genes = cbioportal.Genes.getAllGenesUsingGET(keyword='BRAF').result()\n",
    "gdf = get_pandas_df(genes)\n",
    "gdf.head()"
   ]
  },
  {
   "cell_type": "code",
   "execution_count": 10,
   "id": "solved-setup",
   "metadata": {},
   "outputs": [
    {
     "data": {
      "text/plain": [
       "673"
      ]
     },
     "execution_count": 10,
     "metadata": {},
     "output_type": "execute_result"
    }
   ],
   "source": [
    "entrez_gene_id = gdf.loc[gdf['hugoGeneSymbol'] == 'BRAF']['entrezGeneId'].item()\n",
    "entrez_gene_id"
   ]
  },
  {
   "cell_type": "code",
   "execution_count": 11,
   "id": "considered-damages",
   "metadata": {},
   "outputs": [
    {
     "data": {
      "text/plain": [
       "Index(['alleleSpecificCopyNumber', 'aminoAcidChange', 'center', 'chr',\n",
       "       'driverFilter', 'driverFilterAnnotation', 'driverTiersFilter',\n",
       "       'driverTiersFilterAnnotation', 'endPosition', 'entrezGeneId',\n",
       "       'fisValue', 'functionalImpactScore', 'gene', 'keyword', 'linkMsa',\n",
       "       'linkPdb', 'linkXvar', 'molecularProfileId', 'mutationStatus',\n",
       "       'mutationType', 'ncbiBuild', 'normalAltCount', 'normalRefCount',\n",
       "       'patientId', 'proteinChange', 'proteinPosEnd', 'proteinPosStart',\n",
       "       'referenceAllele', 'refseqMrnaId', 'sampleId', 'startPosition',\n",
       "       'studyId', 'tumorAltCount', 'tumorRefCount', 'uniquePatientKey',\n",
       "       'uniqueSampleKey', 'validationStatus', 'variantAllele', 'variantType'],\n",
       "      dtype='object')"
      ]
     },
     "execution_count": 11,
     "metadata": {},
     "output_type": "execute_result"
    }
   ],
   "source": [
    "mutations = cbioportal.Mutations.getMutationsInMolecularProfileBySampleListIdUsingGET(\n",
    "    sampleListId='skcm_tcga_pan_can_atlas_2018_cnaseq', \n",
    "    molecularProfileId=mol_profile_id,\n",
    "    entrezGeneId=entrez_gene_id).result()\n",
    "\n",
    "mdf = get_pandas_df(mutations)\n",
    "mdf.columns"
   ]
  },
  {
   "cell_type": "code",
   "execution_count": 12,
   "id": "bearing-intro",
   "metadata": {},
   "outputs": [
    {
     "data": {
      "text/plain": [
       "191"
      ]
     },
     "execution_count": 12,
     "metadata": {},
     "output_type": "execute_result"
    }
   ],
   "source": [
    "all_patients = mdf['patientId'].tolist()\n",
    "len(set(all_patients))"
   ]
  },
  {
   "cell_type": "code",
   "execution_count": 13,
   "id": "seasonal-renewal",
   "metadata": {},
   "outputs": [
    {
     "data": {
      "text/html": [
       "<div>\n",
       "<style scoped>\n",
       "    .dataframe tbody tr th:only-of-type {\n",
       "        vertical-align: middle;\n",
       "    }\n",
       "\n",
       "    .dataframe tbody tr th {\n",
       "        vertical-align: top;\n",
       "    }\n",
       "\n",
       "    .dataframe thead th {\n",
       "        text-align: right;\n",
       "    }\n",
       "</style>\n",
       "<table border=\"1\" class=\"dataframe\">\n",
       "  <thead>\n",
       "    <tr style=\"text-align: right;\">\n",
       "      <th></th>\n",
       "      <th>alleleSpecificCopyNumber</th>\n",
       "      <th>aminoAcidChange</th>\n",
       "      <th>center</th>\n",
       "      <th>chr</th>\n",
       "      <th>driverFilter</th>\n",
       "      <th>driverFilterAnnotation</th>\n",
       "      <th>driverTiersFilter</th>\n",
       "      <th>driverTiersFilterAnnotation</th>\n",
       "      <th>endPosition</th>\n",
       "      <th>entrezGeneId</th>\n",
       "      <th>...</th>\n",
       "      <th>sampleId</th>\n",
       "      <th>startPosition</th>\n",
       "      <th>studyId</th>\n",
       "      <th>tumorAltCount</th>\n",
       "      <th>tumorRefCount</th>\n",
       "      <th>uniquePatientKey</th>\n",
       "      <th>uniqueSampleKey</th>\n",
       "      <th>validationStatus</th>\n",
       "      <th>variantAllele</th>\n",
       "      <th>variantType</th>\n",
       "    </tr>\n",
       "  </thead>\n",
       "  <tbody>\n",
       "    <tr>\n",
       "      <th>8</th>\n",
       "      <td>None</td>\n",
       "      <td>None</td>\n",
       "      <td>.</td>\n",
       "      <td>7</td>\n",
       "      <td>None</td>\n",
       "      <td>None</td>\n",
       "      <td>None</td>\n",
       "      <td>None</td>\n",
       "      <td>140453136</td>\n",
       "      <td>673</td>\n",
       "      <td>...</td>\n",
       "      <td>TCGA-BF-AAP0-06</td>\n",
       "      <td>140453136</td>\n",
       "      <td>skcm_tcga_pan_can_atlas_2018</td>\n",
       "      <td>54</td>\n",
       "      <td>64</td>\n",
       "      <td>VENHQS1CRi1BQVAwOnNrY21fdGNnYV9wYW5fY2FuX2F0bG...</td>\n",
       "      <td>VENHQS1CRi1BQVAwLTA2OnNrY21fdGNnYV9wYW5fY2FuX2...</td>\n",
       "      <td>.</td>\n",
       "      <td>T</td>\n",
       "      <td>SNP</td>\n",
       "    </tr>\n",
       "    <tr>\n",
       "      <th>9</th>\n",
       "      <td>None</td>\n",
       "      <td>None</td>\n",
       "      <td>.</td>\n",
       "      <td>7</td>\n",
       "      <td>None</td>\n",
       "      <td>None</td>\n",
       "      <td>None</td>\n",
       "      <td>None</td>\n",
       "      <td>140453136</td>\n",
       "      <td>673</td>\n",
       "      <td>...</td>\n",
       "      <td>TCGA-D3-A1Q4-06</td>\n",
       "      <td>140453136</td>\n",
       "      <td>skcm_tcga_pan_can_atlas_2018</td>\n",
       "      <td>26</td>\n",
       "      <td>29</td>\n",
       "      <td>VENHQS1EMy1BMVE0OnNrY21fdGNnYV9wYW5fY2FuX2F0bG...</td>\n",
       "      <td>VENHQS1EMy1BMVE0LTA2OnNrY21fdGNnYV9wYW5fY2FuX2...</td>\n",
       "      <td>.</td>\n",
       "      <td>T</td>\n",
       "      <td>SNP</td>\n",
       "    </tr>\n",
       "    <tr>\n",
       "      <th>10</th>\n",
       "      <td>None</td>\n",
       "      <td>None</td>\n",
       "      <td>.</td>\n",
       "      <td>7</td>\n",
       "      <td>None</td>\n",
       "      <td>None</td>\n",
       "      <td>None</td>\n",
       "      <td>None</td>\n",
       "      <td>140453136</td>\n",
       "      <td>673</td>\n",
       "      <td>...</td>\n",
       "      <td>TCGA-D3-A1Q5-06</td>\n",
       "      <td>140453136</td>\n",
       "      <td>skcm_tcga_pan_can_atlas_2018</td>\n",
       "      <td>33</td>\n",
       "      <td>17</td>\n",
       "      <td>VENHQS1EMy1BMVE1OnNrY21fdGNnYV9wYW5fY2FuX2F0bG...</td>\n",
       "      <td>VENHQS1EMy1BMVE1LTA2OnNrY21fdGNnYV9wYW5fY2FuX2...</td>\n",
       "      <td>.</td>\n",
       "      <td>T</td>\n",
       "      <td>SNP</td>\n",
       "    </tr>\n",
       "    <tr>\n",
       "      <th>11</th>\n",
       "      <td>None</td>\n",
       "      <td>None</td>\n",
       "      <td>.</td>\n",
       "      <td>7</td>\n",
       "      <td>None</td>\n",
       "      <td>None</td>\n",
       "      <td>None</td>\n",
       "      <td>None</td>\n",
       "      <td>140453136</td>\n",
       "      <td>673</td>\n",
       "      <td>...</td>\n",
       "      <td>TCGA-D3-A1Q6-06</td>\n",
       "      <td>140453136</td>\n",
       "      <td>skcm_tcga_pan_can_atlas_2018</td>\n",
       "      <td>17</td>\n",
       "      <td>36</td>\n",
       "      <td>VENHQS1EMy1BMVE2OnNrY21fdGNnYV9wYW5fY2FuX2F0bG...</td>\n",
       "      <td>VENHQS1EMy1BMVE2LTA2OnNrY21fdGNnYV9wYW5fY2FuX2...</td>\n",
       "      <td>.</td>\n",
       "      <td>T</td>\n",
       "      <td>SNP</td>\n",
       "    </tr>\n",
       "    <tr>\n",
       "      <th>12</th>\n",
       "      <td>None</td>\n",
       "      <td>None</td>\n",
       "      <td>.</td>\n",
       "      <td>7</td>\n",
       "      <td>None</td>\n",
       "      <td>None</td>\n",
       "      <td>None</td>\n",
       "      <td>None</td>\n",
       "      <td>140453136</td>\n",
       "      <td>673</td>\n",
       "      <td>...</td>\n",
       "      <td>TCGA-D3-A1Q7-06</td>\n",
       "      <td>140453136</td>\n",
       "      <td>skcm_tcga_pan_can_atlas_2018</td>\n",
       "      <td>4</td>\n",
       "      <td>33</td>\n",
       "      <td>VENHQS1EMy1BMVE3OnNrY21fdGNnYV9wYW5fY2FuX2F0bG...</td>\n",
       "      <td>VENHQS1EMy1BMVE3LTA2OnNrY21fdGNnYV9wYW5fY2FuX2...</td>\n",
       "      <td>.</td>\n",
       "      <td>T</td>\n",
       "      <td>SNP</td>\n",
       "    </tr>\n",
       "  </tbody>\n",
       "</table>\n",
       "<p>5 rows × 39 columns</p>\n",
       "</div>"
      ],
      "text/plain": [
       "   alleleSpecificCopyNumber aminoAcidChange center chr driverFilter  \\\n",
       "8                      None            None      .   7         None   \n",
       "9                      None            None      .   7         None   \n",
       "10                     None            None      .   7         None   \n",
       "11                     None            None      .   7         None   \n",
       "12                     None            None      .   7         None   \n",
       "\n",
       "   driverFilterAnnotation driverTiersFilter driverTiersFilterAnnotation  \\\n",
       "8                    None              None                        None   \n",
       "9                    None              None                        None   \n",
       "10                   None              None                        None   \n",
       "11                   None              None                        None   \n",
       "12                   None              None                        None   \n",
       "\n",
       "    endPosition  entrezGeneId  ...         sampleId startPosition  \\\n",
       "8     140453136           673  ...  TCGA-BF-AAP0-06     140453136   \n",
       "9     140453136           673  ...  TCGA-D3-A1Q4-06     140453136   \n",
       "10    140453136           673  ...  TCGA-D3-A1Q5-06     140453136   \n",
       "11    140453136           673  ...  TCGA-D3-A1Q6-06     140453136   \n",
       "12    140453136           673  ...  TCGA-D3-A1Q7-06     140453136   \n",
       "\n",
       "                         studyId tumorAltCount tumorRefCount  \\\n",
       "8   skcm_tcga_pan_can_atlas_2018            54            64   \n",
       "9   skcm_tcga_pan_can_atlas_2018            26            29   \n",
       "10  skcm_tcga_pan_can_atlas_2018            33            17   \n",
       "11  skcm_tcga_pan_can_atlas_2018            17            36   \n",
       "12  skcm_tcga_pan_can_atlas_2018             4            33   \n",
       "\n",
       "                                     uniquePatientKey  \\\n",
       "8   VENHQS1CRi1BQVAwOnNrY21fdGNnYV9wYW5fY2FuX2F0bG...   \n",
       "9   VENHQS1EMy1BMVE0OnNrY21fdGNnYV9wYW5fY2FuX2F0bG...   \n",
       "10  VENHQS1EMy1BMVE1OnNrY21fdGNnYV9wYW5fY2FuX2F0bG...   \n",
       "11  VENHQS1EMy1BMVE2OnNrY21fdGNnYV9wYW5fY2FuX2F0bG...   \n",
       "12  VENHQS1EMy1BMVE3OnNrY21fdGNnYV9wYW5fY2FuX2F0bG...   \n",
       "\n",
       "                                      uniqueSampleKey validationStatus  \\\n",
       "8   VENHQS1CRi1BQVAwLTA2OnNrY21fdGNnYV9wYW5fY2FuX2...                .   \n",
       "9   VENHQS1EMy1BMVE0LTA2OnNrY21fdGNnYV9wYW5fY2FuX2...                .   \n",
       "10  VENHQS1EMy1BMVE1LTA2OnNrY21fdGNnYV9wYW5fY2FuX2...                .   \n",
       "11  VENHQS1EMy1BMVE2LTA2OnNrY21fdGNnYV9wYW5fY2FuX2...                .   \n",
       "12  VENHQS1EMy1BMVE3LTA2OnNrY21fdGNnYV9wYW5fY2FuX2...                .   \n",
       "\n",
       "   variantAllele variantType  \n",
       "8              T         SNP  \n",
       "9              T         SNP  \n",
       "10             T         SNP  \n",
       "11             T         SNP  \n",
       "12             T         SNP  \n",
       "\n",
       "[5 rows x 39 columns]"
      ]
     },
     "execution_count": 13,
     "metadata": {},
     "output_type": "execute_result"
    }
   ],
   "source": [
    "altered_mdf = mdf[mdf['proteinChange']=='V600E']\n",
    "altered_mdf.head()"
   ]
  },
  {
   "cell_type": "code",
   "execution_count": 14,
   "id": "daily-tattoo",
   "metadata": {},
   "outputs": [
    {
     "data": {
      "text/plain": [
       "152"
      ]
     },
     "execution_count": 14,
     "metadata": {},
     "output_type": "execute_result"
    }
   ],
   "source": [
    "altered_patients = altered_mdf['patientId'].tolist()\n",
    "len(set(altered_patients))"
   ]
  },
  {
   "cell_type": "code",
   "execution_count": 15,
   "id": "increased-essay",
   "metadata": {},
   "outputs": [
    {
     "data": {
      "text/plain": [
       "39"
      ]
     },
     "execution_count": 15,
     "metadata": {},
     "output_type": "execute_result"
    }
   ],
   "source": [
    "unaltered_patients = list(set(all_patients) - set(altered_patients))\n",
    "len(unaltered_patients)"
   ]
  },
  {
   "cell_type": "code",
   "execution_count": 18,
   "id": "split-fever",
   "metadata": {},
   "outputs": [
    {
     "data": {
      "text/html": [
       "<div>\n",
       "<style scoped>\n",
       "    .dataframe tbody tr th:only-of-type {\n",
       "        vertical-align: middle;\n",
       "    }\n",
       "\n",
       "    .dataframe tbody tr th {\n",
       "        vertical-align: top;\n",
       "    }\n",
       "\n",
       "    .dataframe thead th {\n",
       "        text-align: right;\n",
       "    }\n",
       "</style>\n",
       "<table border=\"1\" class=\"dataframe\">\n",
       "  <thead>\n",
       "    <tr style=\"text-align: right;\">\n",
       "      <th></th>\n",
       "      <th>clinicalAttribute</th>\n",
       "      <th>clinicalAttributeId</th>\n",
       "      <th>patientId</th>\n",
       "      <th>sampleId</th>\n",
       "      <th>studyId</th>\n",
       "      <th>uniquePatientKey</th>\n",
       "      <th>uniqueSampleKey</th>\n",
       "      <th>value</th>\n",
       "    </tr>\n",
       "  </thead>\n",
       "  <tbody>\n",
       "    <tr>\n",
       "      <th>0</th>\n",
       "      <td>None</td>\n",
       "      <td>DSS_MONTHS</td>\n",
       "      <td>TCGA-BF-AAP0</td>\n",
       "      <td>None</td>\n",
       "      <td>skcm_tcga_pan_can_atlas_2018</td>\n",
       "      <td>VENHQS1CRi1BQVAwOnNrY21fdGNnYV9wYW5fY2FuX2F0bG...</td>\n",
       "      <td>None</td>\n",
       "      <td>14.925863825999999</td>\n",
       "    </tr>\n",
       "    <tr>\n",
       "      <th>1</th>\n",
       "      <td>None</td>\n",
       "      <td>DSS_STATUS</td>\n",
       "      <td>TCGA-BF-AAP0</td>\n",
       "      <td>None</td>\n",
       "      <td>skcm_tcga_pan_can_atlas_2018</td>\n",
       "      <td>VENHQS1CRi1BQVAwOnNrY21fdGNnYV9wYW5fY2FuX2F0bG...</td>\n",
       "      <td>None</td>\n",
       "      <td>0:ALIVE OR DEAD TUMOR FREE</td>\n",
       "    </tr>\n",
       "    <tr>\n",
       "      <th>2</th>\n",
       "      <td>None</td>\n",
       "      <td>OS_MONTHS</td>\n",
       "      <td>TCGA-BF-AAP0</td>\n",
       "      <td>None</td>\n",
       "      <td>skcm_tcga_pan_can_atlas_2018</td>\n",
       "      <td>VENHQS1CRi1BQVAwOnNrY21fdGNnYV9wYW5fY2FuX2F0bG...</td>\n",
       "      <td>None</td>\n",
       "      <td>14.925863825999999</td>\n",
       "    </tr>\n",
       "    <tr>\n",
       "      <th>3</th>\n",
       "      <td>None</td>\n",
       "      <td>OS_STATUS</td>\n",
       "      <td>TCGA-BF-AAP0</td>\n",
       "      <td>None</td>\n",
       "      <td>skcm_tcga_pan_can_atlas_2018</td>\n",
       "      <td>VENHQS1CRi1BQVAwOnNrY21fdGNnYV9wYW5fY2FuX2F0bG...</td>\n",
       "      <td>None</td>\n",
       "      <td>0:LIVING</td>\n",
       "    </tr>\n",
       "    <tr>\n",
       "      <th>4</th>\n",
       "      <td>None</td>\n",
       "      <td>PFS_MONTHS</td>\n",
       "      <td>TCGA-BF-AAP0</td>\n",
       "      <td>None</td>\n",
       "      <td>skcm_tcga_pan_can_atlas_2018</td>\n",
       "      <td>VENHQS1CRi1BQVAwOnNrY21fdGNnYV9wYW5fY2FuX2F0bG...</td>\n",
       "      <td>None</td>\n",
       "      <td>14.925863825999999</td>\n",
       "    </tr>\n",
       "  </tbody>\n",
       "</table>\n",
       "</div>"
      ],
      "text/plain": [
       "  clinicalAttribute clinicalAttributeId     patientId sampleId  \\\n",
       "0              None          DSS_MONTHS  TCGA-BF-AAP0     None   \n",
       "1              None          DSS_STATUS  TCGA-BF-AAP0     None   \n",
       "2              None           OS_MONTHS  TCGA-BF-AAP0     None   \n",
       "3              None           OS_STATUS  TCGA-BF-AAP0     None   \n",
       "4              None          PFS_MONTHS  TCGA-BF-AAP0     None   \n",
       "\n",
       "                        studyId  \\\n",
       "0  skcm_tcga_pan_can_atlas_2018   \n",
       "1  skcm_tcga_pan_can_atlas_2018   \n",
       "2  skcm_tcga_pan_can_atlas_2018   \n",
       "3  skcm_tcga_pan_can_atlas_2018   \n",
       "4  skcm_tcga_pan_can_atlas_2018   \n",
       "\n",
       "                                    uniquePatientKey uniqueSampleKey  \\\n",
       "0  VENHQS1CRi1BQVAwOnNrY21fdGNnYV9wYW5fY2FuX2F0bG...            None   \n",
       "1  VENHQS1CRi1BQVAwOnNrY21fdGNnYV9wYW5fY2FuX2F0bG...            None   \n",
       "2  VENHQS1CRi1BQVAwOnNrY21fdGNnYV9wYW5fY2FuX2F0bG...            None   \n",
       "3  VENHQS1CRi1BQVAwOnNrY21fdGNnYV9wYW5fY2FuX2F0bG...            None   \n",
       "4  VENHQS1CRi1BQVAwOnNrY21fdGNnYV9wYW5fY2FuX2F0bG...            None   \n",
       "\n",
       "                        value  \n",
       "0          14.925863825999999  \n",
       "1  0:ALIVE OR DEAD TUMOR FREE  \n",
       "2          14.925863825999999  \n",
       "3                    0:LIVING  \n",
       "4          14.925863825999999  "
      ]
     },
     "execution_count": 18,
     "metadata": {},
     "output_type": "execute_result"
    }
   ],
   "source": [
    "attribute_ids = [\"OS_STATUS\",\"OS_MONTHS\",\"DFS_STATUS\",\"DFS_MONTHS\",\"DSS_STATUS\",\"DSS_MONTHS\",\"PFS_STATUS\",\"PFS_MONTHS\"]\n",
    "\n",
    "clinical_data_single_study_filter = {\n",
    "  'attributeIds': attribute_ids,\n",
    "  'ids': altered_patients\n",
    "}\n",
    "\n",
    "altered_clinical = cbioportal.Clinical_Data.fetchAllClinicalDataInStudyUsingPOST(studyId = study_id, \n",
    "                                                              clinicalDataType='PATIENT',\n",
    "                                                              clinicalDataSingleStudyFilter=clinical_data_single_study_filter).result()\n",
    "altered_clinical_df = get_pandas_df(altered_clinical)\n",
    "altered_clinical_df.head()"
   ]
  },
  {
   "cell_type": "code",
   "execution_count": 25,
   "id": "blind-bicycle",
   "metadata": {},
   "outputs": [
    {
     "data": {
      "text/html": [
       "<div>\n",
       "<style scoped>\n",
       "    .dataframe tbody tr th:only-of-type {\n",
       "        vertical-align: middle;\n",
       "    }\n",
       "\n",
       "    .dataframe tbody tr th {\n",
       "        vertical-align: top;\n",
       "    }\n",
       "\n",
       "    .dataframe thead th {\n",
       "        text-align: right;\n",
       "    }\n",
       "</style>\n",
       "<table border=\"1\" class=\"dataframe\">\n",
       "  <thead>\n",
       "    <tr style=\"text-align: right;\">\n",
       "      <th></th>\n",
       "      <th>clinicalAttribute</th>\n",
       "      <th>clinicalAttributeId</th>\n",
       "      <th>patientId</th>\n",
       "      <th>sampleId</th>\n",
       "      <th>studyId</th>\n",
       "      <th>uniquePatientKey</th>\n",
       "      <th>uniqueSampleKey</th>\n",
       "      <th>value</th>\n",
       "    </tr>\n",
       "  </thead>\n",
       "  <tbody>\n",
       "    <tr>\n",
       "      <th>2</th>\n",
       "      <td>None</td>\n",
       "      <td>OS_MONTHS</td>\n",
       "      <td>TCGA-BF-AAP0</td>\n",
       "      <td>None</td>\n",
       "      <td>skcm_tcga_pan_can_atlas_2018</td>\n",
       "      <td>VENHQS1CRi1BQVAwOnNrY21fdGNnYV9wYW5fY2FuX2F0bG...</td>\n",
       "      <td>None</td>\n",
       "      <td>14.925863825999999</td>\n",
       "    </tr>\n",
       "    <tr>\n",
       "      <th>3</th>\n",
       "      <td>None</td>\n",
       "      <td>OS_STATUS</td>\n",
       "      <td>TCGA-BF-AAP0</td>\n",
       "      <td>None</td>\n",
       "      <td>skcm_tcga_pan_can_atlas_2018</td>\n",
       "      <td>VENHQS1CRi1BQVAwOnNrY21fdGNnYV9wYW5fY2FuX2F0bG...</td>\n",
       "      <td>None</td>\n",
       "      <td>0:LIVING</td>\n",
       "    </tr>\n",
       "    <tr>\n",
       "      <th>8</th>\n",
       "      <td>None</td>\n",
       "      <td>OS_MONTHS</td>\n",
       "      <td>TCGA-D3-A1Q4</td>\n",
       "      <td>None</td>\n",
       "      <td>skcm_tcga_pan_can_atlas_2018</td>\n",
       "      <td>VENHQS1EMy1BMVE0OnNrY21fdGNnYV9wYW5fY2FuX2F0bG...</td>\n",
       "      <td>None</td>\n",
       "      <td>112.04260775</td>\n",
       "    </tr>\n",
       "    <tr>\n",
       "      <th>9</th>\n",
       "      <td>None</td>\n",
       "      <td>OS_STATUS</td>\n",
       "      <td>TCGA-D3-A1Q4</td>\n",
       "      <td>None</td>\n",
       "      <td>skcm_tcga_pan_can_atlas_2018</td>\n",
       "      <td>VENHQS1EMy1BMVE0OnNrY21fdGNnYV9wYW5fY2FuX2F0bG...</td>\n",
       "      <td>None</td>\n",
       "      <td>0:LIVING</td>\n",
       "    </tr>\n",
       "    <tr>\n",
       "      <th>13</th>\n",
       "      <td>None</td>\n",
       "      <td>OS_MONTHS</td>\n",
       "      <td>TCGA-D3-A1Q5</td>\n",
       "      <td>None</td>\n",
       "      <td>skcm_tcga_pan_can_atlas_2018</td>\n",
       "      <td>VENHQS1EMy1BMVE1OnNrY21fdGNnYV9wYW5fY2FuX2F0bG...</td>\n",
       "      <td>None</td>\n",
       "      <td>112.56862938</td>\n",
       "    </tr>\n",
       "    <tr>\n",
       "      <th>...</th>\n",
       "      <td>...</td>\n",
       "      <td>...</td>\n",
       "      <td>...</td>\n",
       "      <td>...</td>\n",
       "      <td>...</td>\n",
       "      <td>...</td>\n",
       "      <td>...</td>\n",
       "      <td>...</td>\n",
       "    </tr>\n",
       "    <tr>\n",
       "      <th>870</th>\n",
       "      <td>None</td>\n",
       "      <td>OS_STATUS</td>\n",
       "      <td>TCGA-YD-A9TB</td>\n",
       "      <td>None</td>\n",
       "      <td>skcm_tcga_pan_can_atlas_2018</td>\n",
       "      <td>VENHQS1ZRC1BOVRCOnNrY21fdGNnYV9wYW5fY2FuX2F0bG...</td>\n",
       "      <td>None</td>\n",
       "      <td>0:LIVING</td>\n",
       "    </tr>\n",
       "    <tr>\n",
       "      <th>874</th>\n",
       "      <td>None</td>\n",
       "      <td>OS_MONTHS</td>\n",
       "      <td>TCGA-Z2-A8RT</td>\n",
       "      <td>None</td>\n",
       "      <td>skcm_tcga_pan_can_atlas_2018</td>\n",
       "      <td>VENHQS1aMi1BOFJUOnNrY21fdGNnYV9wYW5fY2FuX2F0bG...</td>\n",
       "      <td>None</td>\n",
       "      <td>27.583259362</td>\n",
       "    </tr>\n",
       "    <tr>\n",
       "      <th>875</th>\n",
       "      <td>None</td>\n",
       "      <td>OS_STATUS</td>\n",
       "      <td>TCGA-Z2-A8RT</td>\n",
       "      <td>None</td>\n",
       "      <td>skcm_tcga_pan_can_atlas_2018</td>\n",
       "      <td>VENHQS1aMi1BOFJUOnNrY21fdGNnYV9wYW5fY2FuX2F0bG...</td>\n",
       "      <td>None</td>\n",
       "      <td>0:LIVING</td>\n",
       "    </tr>\n",
       "    <tr>\n",
       "      <th>880</th>\n",
       "      <td>None</td>\n",
       "      <td>OS_MONTHS</td>\n",
       "      <td>TCGA-Z2-AA3V</td>\n",
       "      <td>None</td>\n",
       "      <td>skcm_tcga_pan_can_atlas_2018</td>\n",
       "      <td>VENHQS1aMi1BQTNWOnNrY21fdGNnYV9wYW5fY2FuX2F0bG...</td>\n",
       "      <td>None</td>\n",
       "      <td>15.977907090999999</td>\n",
       "    </tr>\n",
       "    <tr>\n",
       "      <th>881</th>\n",
       "      <td>None</td>\n",
       "      <td>OS_STATUS</td>\n",
       "      <td>TCGA-Z2-AA3V</td>\n",
       "      <td>None</td>\n",
       "      <td>skcm_tcga_pan_can_atlas_2018</td>\n",
       "      <td>VENHQS1aMi1BQTNWOnNrY21fdGNnYV9wYW5fY2FuX2F0bG...</td>\n",
       "      <td>None</td>\n",
       "      <td>0:LIVING</td>\n",
       "    </tr>\n",
       "  </tbody>\n",
       "</table>\n",
       "<p>295 rows × 8 columns</p>\n",
       "</div>"
      ],
      "text/plain": [
       "    clinicalAttribute clinicalAttributeId     patientId sampleId  \\\n",
       "2                None           OS_MONTHS  TCGA-BF-AAP0     None   \n",
       "3                None           OS_STATUS  TCGA-BF-AAP0     None   \n",
       "8                None           OS_MONTHS  TCGA-D3-A1Q4     None   \n",
       "9                None           OS_STATUS  TCGA-D3-A1Q4     None   \n",
       "13               None           OS_MONTHS  TCGA-D3-A1Q5     None   \n",
       "..                ...                 ...           ...      ...   \n",
       "870              None           OS_STATUS  TCGA-YD-A9TB     None   \n",
       "874              None           OS_MONTHS  TCGA-Z2-A8RT     None   \n",
       "875              None           OS_STATUS  TCGA-Z2-A8RT     None   \n",
       "880              None           OS_MONTHS  TCGA-Z2-AA3V     None   \n",
       "881              None           OS_STATUS  TCGA-Z2-AA3V     None   \n",
       "\n",
       "                          studyId  \\\n",
       "2    skcm_tcga_pan_can_atlas_2018   \n",
       "3    skcm_tcga_pan_can_atlas_2018   \n",
       "8    skcm_tcga_pan_can_atlas_2018   \n",
       "9    skcm_tcga_pan_can_atlas_2018   \n",
       "13   skcm_tcga_pan_can_atlas_2018   \n",
       "..                            ...   \n",
       "870  skcm_tcga_pan_can_atlas_2018   \n",
       "874  skcm_tcga_pan_can_atlas_2018   \n",
       "875  skcm_tcga_pan_can_atlas_2018   \n",
       "880  skcm_tcga_pan_can_atlas_2018   \n",
       "881  skcm_tcga_pan_can_atlas_2018   \n",
       "\n",
       "                                      uniquePatientKey uniqueSampleKey  \\\n",
       "2    VENHQS1CRi1BQVAwOnNrY21fdGNnYV9wYW5fY2FuX2F0bG...            None   \n",
       "3    VENHQS1CRi1BQVAwOnNrY21fdGNnYV9wYW5fY2FuX2F0bG...            None   \n",
       "8    VENHQS1EMy1BMVE0OnNrY21fdGNnYV9wYW5fY2FuX2F0bG...            None   \n",
       "9    VENHQS1EMy1BMVE0OnNrY21fdGNnYV9wYW5fY2FuX2F0bG...            None   \n",
       "13   VENHQS1EMy1BMVE1OnNrY21fdGNnYV9wYW5fY2FuX2F0bG...            None   \n",
       "..                                                 ...             ...   \n",
       "870  VENHQS1ZRC1BOVRCOnNrY21fdGNnYV9wYW5fY2FuX2F0bG...            None   \n",
       "874  VENHQS1aMi1BOFJUOnNrY21fdGNnYV9wYW5fY2FuX2F0bG...            None   \n",
       "875  VENHQS1aMi1BOFJUOnNrY21fdGNnYV9wYW5fY2FuX2F0bG...            None   \n",
       "880  VENHQS1aMi1BQTNWOnNrY21fdGNnYV9wYW5fY2FuX2F0bG...            None   \n",
       "881  VENHQS1aMi1BQTNWOnNrY21fdGNnYV9wYW5fY2FuX2F0bG...            None   \n",
       "\n",
       "                  value  \n",
       "2    14.925863825999999  \n",
       "3              0:LIVING  \n",
       "8          112.04260775  \n",
       "9              0:LIVING  \n",
       "13         112.56862938  \n",
       "..                  ...  \n",
       "870            0:LIVING  \n",
       "874        27.583259362  \n",
       "875            0:LIVING  \n",
       "880  15.977907090999999  \n",
       "881            0:LIVING  \n",
       "\n",
       "[295 rows x 8 columns]"
      ]
     },
     "execution_count": 25,
     "metadata": {},
     "output_type": "execute_result"
    }
   ],
   "source": [
    "#altered_clinical_df\n",
    "altered_os = altered_clinical_df.loc[(altered_clinical_df.clinicalAttributeId == \"OS_MONTHS\") | (altered_clinical_df.clinicalAttributeId == \"OS_STATUS\")]\n",
    "altered_os"
   ]
  },
  {
   "cell_type": "code",
   "execution_count": 19,
   "id": "alpha-character",
   "metadata": {},
   "outputs": [
    {
     "data": {
      "text/html": [
       "<div>\n",
       "<style scoped>\n",
       "    .dataframe tbody tr th:only-of-type {\n",
       "        vertical-align: middle;\n",
       "    }\n",
       "\n",
       "    .dataframe tbody tr th {\n",
       "        vertical-align: top;\n",
       "    }\n",
       "\n",
       "    .dataframe thead th {\n",
       "        text-align: right;\n",
       "    }\n",
       "</style>\n",
       "<table border=\"1\" class=\"dataframe\">\n",
       "  <thead>\n",
       "    <tr style=\"text-align: right;\">\n",
       "      <th></th>\n",
       "      <th>clinicalAttribute</th>\n",
       "      <th>clinicalAttributeId</th>\n",
       "      <th>patientId</th>\n",
       "      <th>sampleId</th>\n",
       "      <th>studyId</th>\n",
       "      <th>uniquePatientKey</th>\n",
       "      <th>uniqueSampleKey</th>\n",
       "      <th>value</th>\n",
       "    </tr>\n",
       "  </thead>\n",
       "  <tbody>\n",
       "    <tr>\n",
       "      <th>0</th>\n",
       "      <td>None</td>\n",
       "      <td>DSS_MONTHS</td>\n",
       "      <td>TCGA-3N-A9WB</td>\n",
       "      <td>None</td>\n",
       "      <td>skcm_tcga_pan_can_atlas_2018</td>\n",
       "      <td>VENHQS0zTi1BOVdCOnNrY21fdGNnYV9wYW5fY2FuX2F0bG...</td>\n",
       "      <td>None</td>\n",
       "      <td>17.029950357</td>\n",
       "    </tr>\n",
       "    <tr>\n",
       "      <th>1</th>\n",
       "      <td>None</td>\n",
       "      <td>DSS_STATUS</td>\n",
       "      <td>TCGA-3N-A9WB</td>\n",
       "      <td>None</td>\n",
       "      <td>skcm_tcga_pan_can_atlas_2018</td>\n",
       "      <td>VENHQS0zTi1BOVdCOnNrY21fdGNnYV9wYW5fY2FuX2F0bG...</td>\n",
       "      <td>None</td>\n",
       "      <td>1:DEAD WITH TUMOR</td>\n",
       "    </tr>\n",
       "    <tr>\n",
       "      <th>2</th>\n",
       "      <td>None</td>\n",
       "      <td>OS_MONTHS</td>\n",
       "      <td>TCGA-3N-A9WB</td>\n",
       "      <td>None</td>\n",
       "      <td>skcm_tcga_pan_can_atlas_2018</td>\n",
       "      <td>VENHQS0zTi1BOVdCOnNrY21fdGNnYV9wYW5fY2FuX2F0bG...</td>\n",
       "      <td>None</td>\n",
       "      <td>17.029950357</td>\n",
       "    </tr>\n",
       "    <tr>\n",
       "      <th>3</th>\n",
       "      <td>None</td>\n",
       "      <td>OS_STATUS</td>\n",
       "      <td>TCGA-3N-A9WB</td>\n",
       "      <td>None</td>\n",
       "      <td>skcm_tcga_pan_can_atlas_2018</td>\n",
       "      <td>VENHQS0zTi1BOVdCOnNrY21fdGNnYV9wYW5fY2FuX2F0bG...</td>\n",
       "      <td>None</td>\n",
       "      <td>1:DECEASED</td>\n",
       "    </tr>\n",
       "    <tr>\n",
       "      <th>4</th>\n",
       "      <td>None</td>\n",
       "      <td>PFS_MONTHS</td>\n",
       "      <td>TCGA-3N-A9WB</td>\n",
       "      <td>None</td>\n",
       "      <td>skcm_tcga_pan_can_atlas_2018</td>\n",
       "      <td>VENHQS0zTi1BOVdCOnNrY21fdGNnYV9wYW5fY2FuX2F0bG...</td>\n",
       "      <td>None</td>\n",
       "      <td>14.005325969000001</td>\n",
       "    </tr>\n",
       "  </tbody>\n",
       "</table>\n",
       "</div>"
      ],
      "text/plain": [
       "  clinicalAttribute clinicalAttributeId     patientId sampleId  \\\n",
       "0              None          DSS_MONTHS  TCGA-3N-A9WB     None   \n",
       "1              None          DSS_STATUS  TCGA-3N-A9WB     None   \n",
       "2              None           OS_MONTHS  TCGA-3N-A9WB     None   \n",
       "3              None           OS_STATUS  TCGA-3N-A9WB     None   \n",
       "4              None          PFS_MONTHS  TCGA-3N-A9WB     None   \n",
       "\n",
       "                        studyId  \\\n",
       "0  skcm_tcga_pan_can_atlas_2018   \n",
       "1  skcm_tcga_pan_can_atlas_2018   \n",
       "2  skcm_tcga_pan_can_atlas_2018   \n",
       "3  skcm_tcga_pan_can_atlas_2018   \n",
       "4  skcm_tcga_pan_can_atlas_2018   \n",
       "\n",
       "                                    uniquePatientKey uniqueSampleKey  \\\n",
       "0  VENHQS0zTi1BOVdCOnNrY21fdGNnYV9wYW5fY2FuX2F0bG...            None   \n",
       "1  VENHQS0zTi1BOVdCOnNrY21fdGNnYV9wYW5fY2FuX2F0bG...            None   \n",
       "2  VENHQS0zTi1BOVdCOnNrY21fdGNnYV9wYW5fY2FuX2F0bG...            None   \n",
       "3  VENHQS0zTi1BOVdCOnNrY21fdGNnYV9wYW5fY2FuX2F0bG...            None   \n",
       "4  VENHQS0zTi1BOVdCOnNrY21fdGNnYV9wYW5fY2FuX2F0bG...            None   \n",
       "\n",
       "                value  \n",
       "0        17.029950357  \n",
       "1   1:DEAD WITH TUMOR  \n",
       "2        17.029950357  \n",
       "3          1:DECEASED  \n",
       "4  14.005325969000001  "
      ]
     },
     "execution_count": 19,
     "metadata": {},
     "output_type": "execute_result"
    }
   ],
   "source": [
    "clinical_data_single_study_filter = {\n",
    "  'attributeIds': attribute_ids,\n",
    "  'ids': unaltered_patients\n",
    "}\n",
    "\n",
    "unaltered_clinical = cbioportal.Clinical_Data.fetchAllClinicalDataInStudyUsingPOST(studyId = study_id, \n",
    "                                                              clinicalDataType='PATIENT',\n",
    "                                                              clinicalDataSingleStudyFilter=clinical_data_single_study_filter).result()\n",
    "unaltered_clinical_df = get_pandas_df(unaltered_clinical)\n",
    "unaltered_clinical_df.head()"
   ]
  },
  {
   "cell_type": "code",
   "execution_count": 27,
   "id": "transsexual-seeking",
   "metadata": {},
   "outputs": [
    {
     "data": {
      "text/html": [
       "<div>\n",
       "<style scoped>\n",
       "    .dataframe tbody tr th:only-of-type {\n",
       "        vertical-align: middle;\n",
       "    }\n",
       "\n",
       "    .dataframe tbody tr th {\n",
       "        vertical-align: top;\n",
       "    }\n",
       "\n",
       "    .dataframe thead th {\n",
       "        text-align: right;\n",
       "    }\n",
       "</style>\n",
       "<table border=\"1\" class=\"dataframe\">\n",
       "  <thead>\n",
       "    <tr style=\"text-align: right;\">\n",
       "      <th></th>\n",
       "      <th>clinicalAttribute</th>\n",
       "      <th>clinicalAttributeId</th>\n",
       "      <th>patientId</th>\n",
       "      <th>sampleId</th>\n",
       "      <th>studyId</th>\n",
       "      <th>uniquePatientKey</th>\n",
       "      <th>uniqueSampleKey</th>\n",
       "      <th>value</th>\n",
       "    </tr>\n",
       "  </thead>\n",
       "  <tbody>\n",
       "    <tr>\n",
       "      <th>2</th>\n",
       "      <td>None</td>\n",
       "      <td>OS_MONTHS</td>\n",
       "      <td>TCGA-BF-AAP0</td>\n",
       "      <td>None</td>\n",
       "      <td>skcm_tcga_pan_can_atlas_2018</td>\n",
       "      <td>VENHQS1CRi1BQVAwOnNrY21fdGNnYV9wYW5fY2FuX2F0bG...</td>\n",
       "      <td>None</td>\n",
       "      <td>14.925863825999999</td>\n",
       "    </tr>\n",
       "    <tr>\n",
       "      <th>3</th>\n",
       "      <td>None</td>\n",
       "      <td>OS_STATUS</td>\n",
       "      <td>TCGA-BF-AAP0</td>\n",
       "      <td>None</td>\n",
       "      <td>skcm_tcga_pan_can_atlas_2018</td>\n",
       "      <td>VENHQS1CRi1BQVAwOnNrY21fdGNnYV9wYW5fY2FuX2F0bG...</td>\n",
       "      <td>None</td>\n",
       "      <td>0:LIVING</td>\n",
       "    </tr>\n",
       "    <tr>\n",
       "      <th>8</th>\n",
       "      <td>None</td>\n",
       "      <td>OS_MONTHS</td>\n",
       "      <td>TCGA-D3-A1Q4</td>\n",
       "      <td>None</td>\n",
       "      <td>skcm_tcga_pan_can_atlas_2018</td>\n",
       "      <td>VENHQS1EMy1BMVE0OnNrY21fdGNnYV9wYW5fY2FuX2F0bG...</td>\n",
       "      <td>None</td>\n",
       "      <td>112.04260775</td>\n",
       "    </tr>\n",
       "    <tr>\n",
       "      <th>9</th>\n",
       "      <td>None</td>\n",
       "      <td>OS_STATUS</td>\n",
       "      <td>TCGA-D3-A1Q4</td>\n",
       "      <td>None</td>\n",
       "      <td>skcm_tcga_pan_can_atlas_2018</td>\n",
       "      <td>VENHQS1EMy1BMVE0OnNrY21fdGNnYV9wYW5fY2FuX2F0bG...</td>\n",
       "      <td>None</td>\n",
       "      <td>0:LIVING</td>\n",
       "    </tr>\n",
       "    <tr>\n",
       "      <th>13</th>\n",
       "      <td>None</td>\n",
       "      <td>OS_MONTHS</td>\n",
       "      <td>TCGA-D3-A1Q5</td>\n",
       "      <td>None</td>\n",
       "      <td>skcm_tcga_pan_can_atlas_2018</td>\n",
       "      <td>VENHQS1EMy1BMVE1OnNrY21fdGNnYV9wYW5fY2FuX2F0bG...</td>\n",
       "      <td>None</td>\n",
       "      <td>112.56862938</td>\n",
       "    </tr>\n",
       "    <tr>\n",
       "      <th>...</th>\n",
       "      <td>...</td>\n",
       "      <td>...</td>\n",
       "      <td>...</td>\n",
       "      <td>...</td>\n",
       "      <td>...</td>\n",
       "      <td>...</td>\n",
       "      <td>...</td>\n",
       "      <td>...</td>\n",
       "    </tr>\n",
       "    <tr>\n",
       "      <th>870</th>\n",
       "      <td>None</td>\n",
       "      <td>OS_STATUS</td>\n",
       "      <td>TCGA-YD-A9TB</td>\n",
       "      <td>None</td>\n",
       "      <td>skcm_tcga_pan_can_atlas_2018</td>\n",
       "      <td>VENHQS1ZRC1BOVRCOnNrY21fdGNnYV9wYW5fY2FuX2F0bG...</td>\n",
       "      <td>None</td>\n",
       "      <td>0:LIVING</td>\n",
       "    </tr>\n",
       "    <tr>\n",
       "      <th>874</th>\n",
       "      <td>None</td>\n",
       "      <td>OS_MONTHS</td>\n",
       "      <td>TCGA-Z2-A8RT</td>\n",
       "      <td>None</td>\n",
       "      <td>skcm_tcga_pan_can_atlas_2018</td>\n",
       "      <td>VENHQS1aMi1BOFJUOnNrY21fdGNnYV9wYW5fY2FuX2F0bG...</td>\n",
       "      <td>None</td>\n",
       "      <td>27.583259362</td>\n",
       "    </tr>\n",
       "    <tr>\n",
       "      <th>875</th>\n",
       "      <td>None</td>\n",
       "      <td>OS_STATUS</td>\n",
       "      <td>TCGA-Z2-A8RT</td>\n",
       "      <td>None</td>\n",
       "      <td>skcm_tcga_pan_can_atlas_2018</td>\n",
       "      <td>VENHQS1aMi1BOFJUOnNrY21fdGNnYV9wYW5fY2FuX2F0bG...</td>\n",
       "      <td>None</td>\n",
       "      <td>0:LIVING</td>\n",
       "    </tr>\n",
       "    <tr>\n",
       "      <th>880</th>\n",
       "      <td>None</td>\n",
       "      <td>OS_MONTHS</td>\n",
       "      <td>TCGA-Z2-AA3V</td>\n",
       "      <td>None</td>\n",
       "      <td>skcm_tcga_pan_can_atlas_2018</td>\n",
       "      <td>VENHQS1aMi1BQTNWOnNrY21fdGNnYV9wYW5fY2FuX2F0bG...</td>\n",
       "      <td>None</td>\n",
       "      <td>15.977907090999999</td>\n",
       "    </tr>\n",
       "    <tr>\n",
       "      <th>881</th>\n",
       "      <td>None</td>\n",
       "      <td>OS_STATUS</td>\n",
       "      <td>TCGA-Z2-AA3V</td>\n",
       "      <td>None</td>\n",
       "      <td>skcm_tcga_pan_can_atlas_2018</td>\n",
       "      <td>VENHQS1aMi1BQTNWOnNrY21fdGNnYV9wYW5fY2FuX2F0bG...</td>\n",
       "      <td>None</td>\n",
       "      <td>0:LIVING</td>\n",
       "    </tr>\n",
       "  </tbody>\n",
       "</table>\n",
       "<p>295 rows × 8 columns</p>\n",
       "</div>"
      ],
      "text/plain": [
       "    clinicalAttribute clinicalAttributeId     patientId sampleId  \\\n",
       "2                None           OS_MONTHS  TCGA-BF-AAP0     None   \n",
       "3                None           OS_STATUS  TCGA-BF-AAP0     None   \n",
       "8                None           OS_MONTHS  TCGA-D3-A1Q4     None   \n",
       "9                None           OS_STATUS  TCGA-D3-A1Q4     None   \n",
       "13               None           OS_MONTHS  TCGA-D3-A1Q5     None   \n",
       "..                ...                 ...           ...      ...   \n",
       "870              None           OS_STATUS  TCGA-YD-A9TB     None   \n",
       "874              None           OS_MONTHS  TCGA-Z2-A8RT     None   \n",
       "875              None           OS_STATUS  TCGA-Z2-A8RT     None   \n",
       "880              None           OS_MONTHS  TCGA-Z2-AA3V     None   \n",
       "881              None           OS_STATUS  TCGA-Z2-AA3V     None   \n",
       "\n",
       "                          studyId  \\\n",
       "2    skcm_tcga_pan_can_atlas_2018   \n",
       "3    skcm_tcga_pan_can_atlas_2018   \n",
       "8    skcm_tcga_pan_can_atlas_2018   \n",
       "9    skcm_tcga_pan_can_atlas_2018   \n",
       "13   skcm_tcga_pan_can_atlas_2018   \n",
       "..                            ...   \n",
       "870  skcm_tcga_pan_can_atlas_2018   \n",
       "874  skcm_tcga_pan_can_atlas_2018   \n",
       "875  skcm_tcga_pan_can_atlas_2018   \n",
       "880  skcm_tcga_pan_can_atlas_2018   \n",
       "881  skcm_tcga_pan_can_atlas_2018   \n",
       "\n",
       "                                      uniquePatientKey uniqueSampleKey  \\\n",
       "2    VENHQS1CRi1BQVAwOnNrY21fdGNnYV9wYW5fY2FuX2F0bG...            None   \n",
       "3    VENHQS1CRi1BQVAwOnNrY21fdGNnYV9wYW5fY2FuX2F0bG...            None   \n",
       "8    VENHQS1EMy1BMVE0OnNrY21fdGNnYV9wYW5fY2FuX2F0bG...            None   \n",
       "9    VENHQS1EMy1BMVE0OnNrY21fdGNnYV9wYW5fY2FuX2F0bG...            None   \n",
       "13   VENHQS1EMy1BMVE1OnNrY21fdGNnYV9wYW5fY2FuX2F0bG...            None   \n",
       "..                                                 ...             ...   \n",
       "870  VENHQS1ZRC1BOVRCOnNrY21fdGNnYV9wYW5fY2FuX2F0bG...            None   \n",
       "874  VENHQS1aMi1BOFJUOnNrY21fdGNnYV9wYW5fY2FuX2F0bG...            None   \n",
       "875  VENHQS1aMi1BOFJUOnNrY21fdGNnYV9wYW5fY2FuX2F0bG...            None   \n",
       "880  VENHQS1aMi1BQTNWOnNrY21fdGNnYV9wYW5fY2FuX2F0bG...            None   \n",
       "881  VENHQS1aMi1BQTNWOnNrY21fdGNnYV9wYW5fY2FuX2F0bG...            None   \n",
       "\n",
       "                  value  \n",
       "2    14.925863825999999  \n",
       "3              0:LIVING  \n",
       "8          112.04260775  \n",
       "9              0:LIVING  \n",
       "13         112.56862938  \n",
       "..                  ...  \n",
       "870            0:LIVING  \n",
       "874        27.583259362  \n",
       "875            0:LIVING  \n",
       "880  15.977907090999999  \n",
       "881            0:LIVING  \n",
       "\n",
       "[295 rows x 8 columns]"
      ]
     },
     "execution_count": 27,
     "metadata": {},
     "output_type": "execute_result"
    }
   ],
   "source": [
    "#altered_clinical_df\n",
    "altered_os = altered_clinical_df.loc[(altered_clinical_df.clinicalAttributeId == \"OS_MONTHS\") | (altered_clinical_df.clinicalAttributeId == \"OS_STATUS\")]\n",
    "altered_os"
   ]
  },
  {
   "cell_type": "code",
   "execution_count": 75,
   "id": "infectious-bishop",
   "metadata": {
    "scrolled": true
   },
   "outputs": [
    {
     "data": {
      "text/html": [
       "<div>\n",
       "<style scoped>\n",
       "    .dataframe tbody tr th:only-of-type {\n",
       "        vertical-align: middle;\n",
       "    }\n",
       "\n",
       "    .dataframe tbody tr th {\n",
       "        vertical-align: top;\n",
       "    }\n",
       "\n",
       "    .dataframe thead th {\n",
       "        text-align: right;\n",
       "    }\n",
       "</style>\n",
       "<table border=\"1\" class=\"dataframe\">\n",
       "  <thead>\n",
       "    <tr style=\"text-align: right;\">\n",
       "      <th></th>\n",
       "      <th>clinicalAttribute</th>\n",
       "      <th>clinicalAttributeId</th>\n",
       "      <th>patientId</th>\n",
       "      <th>sampleId</th>\n",
       "      <th>studyId</th>\n",
       "      <th>uniquePatientKey</th>\n",
       "      <th>uniqueSampleKey</th>\n",
       "      <th>value</th>\n",
       "    </tr>\n",
       "  </thead>\n",
       "  <tbody>\n",
       "    <tr>\n",
       "      <th>2</th>\n",
       "      <td>None</td>\n",
       "      <td>OS_MONTHS</td>\n",
       "      <td>TCGA-3N-A9WB</td>\n",
       "      <td>None</td>\n",
       "      <td>skcm_tcga_pan_can_atlas_2018</td>\n",
       "      <td>VENHQS0zTi1BOVdCOnNrY21fdGNnYV9wYW5fY2FuX2F0bG...</td>\n",
       "      <td>None</td>\n",
       "      <td>17.029950357</td>\n",
       "    </tr>\n",
       "    <tr>\n",
       "      <th>3</th>\n",
       "      <td>None</td>\n",
       "      <td>OS_STATUS</td>\n",
       "      <td>TCGA-3N-A9WB</td>\n",
       "      <td>None</td>\n",
       "      <td>skcm_tcga_pan_can_atlas_2018</td>\n",
       "      <td>VENHQS0zTi1BOVdCOnNrY21fdGNnYV9wYW5fY2FuX2F0bG...</td>\n",
       "      <td>None</td>\n",
       "      <td>1:DECEASED</td>\n",
       "    </tr>\n",
       "    <tr>\n",
       "      <th>8</th>\n",
       "      <td>None</td>\n",
       "      <td>OS_MONTHS</td>\n",
       "      <td>TCGA-3N-A9WC</td>\n",
       "      <td>None</td>\n",
       "      <td>skcm_tcga_pan_can_atlas_2018</td>\n",
       "      <td>VENHQS0zTi1BOVdDOnNrY21fdGNnYV9wYW5fY2FuX2F0bG...</td>\n",
       "      <td>None</td>\n",
       "      <td>66.475983825</td>\n",
       "    </tr>\n",
       "    <tr>\n",
       "      <th>9</th>\n",
       "      <td>None</td>\n",
       "      <td>OS_STATUS</td>\n",
       "      <td>TCGA-3N-A9WC</td>\n",
       "      <td>None</td>\n",
       "      <td>skcm_tcga_pan_can_atlas_2018</td>\n",
       "      <td>VENHQS0zTi1BOVdDOnNrY21fdGNnYV9wYW5fY2FuX2F0bG...</td>\n",
       "      <td>None</td>\n",
       "      <td>0:LIVING</td>\n",
       "    </tr>\n",
       "    <tr>\n",
       "      <th>14</th>\n",
       "      <td>None</td>\n",
       "      <td>OS_MONTHS</td>\n",
       "      <td>TCGA-D3-A1QA</td>\n",
       "      <td>None</td>\n",
       "      <td>skcm_tcga_pan_can_atlas_2018</td>\n",
       "      <td>VENHQS1EMy1BMVFBOnNrY21fdGNnYV9wYW5fY2FuX2F0bG...</td>\n",
       "      <td>None</td>\n",
       "      <td>90.903113391</td>\n",
       "    </tr>\n",
       "    <tr>\n",
       "      <th>...</th>\n",
       "      <td>...</td>\n",
       "      <td>...</td>\n",
       "      <td>...</td>\n",
       "      <td>...</td>\n",
       "      <td>...</td>\n",
       "      <td>...</td>\n",
       "      <td>...</td>\n",
       "      <td>...</td>\n",
       "    </tr>\n",
       "    <tr>\n",
       "      <th>210</th>\n",
       "      <td>None</td>\n",
       "      <td>OS_STATUS</td>\n",
       "      <td>TCGA-W3-AA1V</td>\n",
       "      <td>None</td>\n",
       "      <td>skcm_tcga_pan_can_atlas_2018</td>\n",
       "      <td>VENHQS1XMy1BQTFWOnNrY21fdGNnYV9wYW5fY2FuX2F0bG...</td>\n",
       "      <td>None</td>\n",
       "      <td>1:DECEASED</td>\n",
       "    </tr>\n",
       "    <tr>\n",
       "      <th>215</th>\n",
       "      <td>None</td>\n",
       "      <td>OS_MONTHS</td>\n",
       "      <td>TCGA-YD-A9TA</td>\n",
       "      <td>None</td>\n",
       "      <td>skcm_tcga_pan_can_atlas_2018</td>\n",
       "      <td>VENHQS1ZRC1BOVRBOnNrY21fdGNnYV9wYW5fY2FuX2F0bG...</td>\n",
       "      <td>None</td>\n",
       "      <td>49.183022652</td>\n",
       "    </tr>\n",
       "    <tr>\n",
       "      <th>216</th>\n",
       "      <td>None</td>\n",
       "      <td>OS_STATUS</td>\n",
       "      <td>TCGA-YD-A9TA</td>\n",
       "      <td>None</td>\n",
       "      <td>skcm_tcga_pan_can_atlas_2018</td>\n",
       "      <td>VENHQS1ZRC1BOVRBOnNrY21fdGNnYV9wYW5fY2FuX2F0bG...</td>\n",
       "      <td>None</td>\n",
       "      <td>0:LIVING</td>\n",
       "    </tr>\n",
       "    <tr>\n",
       "      <th>221</th>\n",
       "      <td>None</td>\n",
       "      <td>OS_MONTHS</td>\n",
       "      <td>TCGA-YG-AA3O</td>\n",
       "      <td>None</td>\n",
       "      <td>skcm_tcga_pan_can_atlas_2018</td>\n",
       "      <td>VENHQS1ZRy1BQTNPOnNrY21fdGNnYV9wYW5fY2FuX2F0bG...</td>\n",
       "      <td>None</td>\n",
       "      <td>37.939310254</td>\n",
       "    </tr>\n",
       "    <tr>\n",
       "      <th>222</th>\n",
       "      <td>None</td>\n",
       "      <td>OS_STATUS</td>\n",
       "      <td>TCGA-YG-AA3O</td>\n",
       "      <td>None</td>\n",
       "      <td>skcm_tcga_pan_can_atlas_2018</td>\n",
       "      <td>VENHQS1ZRy1BQTNPOnNrY21fdGNnYV9wYW5fY2FuX2F0bG...</td>\n",
       "      <td>None</td>\n",
       "      <td>1:DECEASED</td>\n",
       "    </tr>\n",
       "  </tbody>\n",
       "</table>\n",
       "<p>75 rows × 8 columns</p>\n",
       "</div>"
      ],
      "text/plain": [
       "    clinicalAttribute clinicalAttributeId     patientId sampleId  \\\n",
       "2                None           OS_MONTHS  TCGA-3N-A9WB     None   \n",
       "3                None           OS_STATUS  TCGA-3N-A9WB     None   \n",
       "8                None           OS_MONTHS  TCGA-3N-A9WC     None   \n",
       "9                None           OS_STATUS  TCGA-3N-A9WC     None   \n",
       "14               None           OS_MONTHS  TCGA-D3-A1QA     None   \n",
       "..                ...                 ...           ...      ...   \n",
       "210              None           OS_STATUS  TCGA-W3-AA1V     None   \n",
       "215              None           OS_MONTHS  TCGA-YD-A9TA     None   \n",
       "216              None           OS_STATUS  TCGA-YD-A9TA     None   \n",
       "221              None           OS_MONTHS  TCGA-YG-AA3O     None   \n",
       "222              None           OS_STATUS  TCGA-YG-AA3O     None   \n",
       "\n",
       "                          studyId  \\\n",
       "2    skcm_tcga_pan_can_atlas_2018   \n",
       "3    skcm_tcga_pan_can_atlas_2018   \n",
       "8    skcm_tcga_pan_can_atlas_2018   \n",
       "9    skcm_tcga_pan_can_atlas_2018   \n",
       "14   skcm_tcga_pan_can_atlas_2018   \n",
       "..                            ...   \n",
       "210  skcm_tcga_pan_can_atlas_2018   \n",
       "215  skcm_tcga_pan_can_atlas_2018   \n",
       "216  skcm_tcga_pan_can_atlas_2018   \n",
       "221  skcm_tcga_pan_can_atlas_2018   \n",
       "222  skcm_tcga_pan_can_atlas_2018   \n",
       "\n",
       "                                      uniquePatientKey uniqueSampleKey  \\\n",
       "2    VENHQS0zTi1BOVdCOnNrY21fdGNnYV9wYW5fY2FuX2F0bG...            None   \n",
       "3    VENHQS0zTi1BOVdCOnNrY21fdGNnYV9wYW5fY2FuX2F0bG...            None   \n",
       "8    VENHQS0zTi1BOVdDOnNrY21fdGNnYV9wYW5fY2FuX2F0bG...            None   \n",
       "9    VENHQS0zTi1BOVdDOnNrY21fdGNnYV9wYW5fY2FuX2F0bG...            None   \n",
       "14   VENHQS1EMy1BMVFBOnNrY21fdGNnYV9wYW5fY2FuX2F0bG...            None   \n",
       "..                                                 ...             ...   \n",
       "210  VENHQS1XMy1BQTFWOnNrY21fdGNnYV9wYW5fY2FuX2F0bG...            None   \n",
       "215  VENHQS1ZRC1BOVRBOnNrY21fdGNnYV9wYW5fY2FuX2F0bG...            None   \n",
       "216  VENHQS1ZRC1BOVRBOnNrY21fdGNnYV9wYW5fY2FuX2F0bG...            None   \n",
       "221  VENHQS1ZRy1BQTNPOnNrY21fdGNnYV9wYW5fY2FuX2F0bG...            None   \n",
       "222  VENHQS1ZRy1BQTNPOnNrY21fdGNnYV9wYW5fY2FuX2F0bG...            None   \n",
       "\n",
       "            value  \n",
       "2    17.029950357  \n",
       "3      1:DECEASED  \n",
       "8    66.475983825  \n",
       "9        0:LIVING  \n",
       "14   90.903113391  \n",
       "..            ...  \n",
       "210    1:DECEASED  \n",
       "215  49.183022652  \n",
       "216      0:LIVING  \n",
       "221  37.939310254  \n",
       "222    1:DECEASED  \n",
       "\n",
       "[75 rows x 8 columns]"
      ]
     },
     "execution_count": 75,
     "metadata": {},
     "output_type": "execute_result"
    }
   ],
   "source": [
    "#unaltered_clinical_df\n",
    "unaltered_os = unaltered_clinical_df.loc[(unaltered_clinical_df.clinicalAttributeId == \"OS_MONTHS\") | (unaltered_clinical_df.clinicalAttributeId == \"OS_STATUS\")]\n",
    "unaltered_os"
   ]
  },
  {
   "cell_type": "code",
   "execution_count": 125,
   "id": "cooperative-approval",
   "metadata": {
    "scrolled": true
   },
   "outputs": [],
   "source": [
    "months = unaltered_os.loc[unaltered_os.clinicalAttributeId.str.contains(\"MONTH\")][['patientId', 'value']]\n",
    "status = unaltered_os.loc[unaltered_os.clinicalAttributeId.str.contains(\"STATUS\")][['patientId', 'value']]\n",
    "# 0:LIVING, 1:DECEASED\n",
    "status['value'] = status['value'].apply(lambda x: x.split(\":\")[0])\n",
    "\n",
    "# merge months/status and sort by numeric month values\n",
    "uos = months.merge(status, on='patientId', suffixes=['_month','_status']) \\\n",
    "            .astype({'value_status': 'float32', 'value_month': 'float32'}) \\\n",
    "            .sort_values('value_month', ascending=False)\n",
    "            \n"
   ]
  },
  {
   "cell_type": "code",
   "execution_count": 126,
   "id": "electrical-caribbean",
   "metadata": {},
   "outputs": [
    {
     "data": {
      "text/plain": [
       "<lifelines.KaplanMeierFitter:\"Kaplan Meier Estimate\", fitted with 37 total observations, 17 right-censored observations>"
      ]
     },
     "execution_count": 126,
     "metadata": {},
     "output_type": "execute_result"
    }
   ],
   "source": [
    "from lifelines import KaplanMeierFitter\n",
    "\n",
    "kmf = KaplanMeierFitter() \n",
    "kmf.fit(uos['value_month'], uos['value_status'], label='Kaplan Meier Estimate')"
   ]
  },
  {
   "cell_type": "code",
   "execution_count": 128,
   "id": "measured-madrid",
   "metadata": {
    "scrolled": true
   },
   "outputs": [
    {
     "data": {
      "text/plain": [
       "0     0.000000\n",
       "1     0.000000\n",
       "2     0.027778\n",
       "3     0.027778\n",
       "4     0.056373\n",
       "5     0.084967\n",
       "6     0.113562\n",
       "7     0.142157\n",
       "8     0.170752\n",
       "9     0.199346\n",
       "10    0.199346\n",
       "11    0.229000\n",
       "12    0.229000\n",
       "13    0.259840\n",
       "14    0.290680\n",
       "15    0.321520\n",
       "16    0.321520\n",
       "17    0.353829\n",
       "18    0.386137\n",
       "19    0.420241\n",
       "20    0.454344\n",
       "21    0.488448\n",
       "22    0.488448\n",
       "23    0.524987\n",
       "24    0.561527\n",
       "25    0.561527\n",
       "26    0.561527\n",
       "27    0.561527\n",
       "28    0.561527\n",
       "29    0.561527\n",
       "30    0.561527\n",
       "31    0.634606\n",
       "32    0.707684\n",
       "33    0.707684\n",
       "34    0.707684\n",
       "35    0.707684\n",
       "36    0.707684\n",
       "Name: Kaplan Meier Estimate, dtype: float64"
      ]
     },
     "execution_count": 128,
     "metadata": {},
     "output_type": "execute_result"
    }
   ],
   "source": [
    "kme = kmf.cumulative_density_.reset_index()\n",
    "kme['Kaplan Meier Estimate']"
   ]
  },
  {
   "cell_type": "code",
   "execution_count": 130,
   "id": "municipal-piano",
   "metadata": {},
   "outputs": [
    {
     "data": {
      "application/vnd.plotly.v1+json": {
       "config": {
        "plotlyServerURL": "https://plot.ly"
       },
       "data": [
        {
         "mode": "lines+markers",
         "text": [
          "TCGA-DA-A1I1",
          "TCGA-EE-A3JH",
          "TCGA-EE-A2GO",
          "TCGA-EE-A3AA",
          "TCGA-EE-A2GJ",
          "TCGA-D3-A8GM",
          "TCGA-D3-A1QA",
          "TCGA-D3-A2JC",
          "TCGA-D9-A6EC",
          "TCGA-EE-A2GM",
          "TCGA-EE-A2GC",
          "TCGA-3N-A9WC",
          "TCGA-DA-A1IA",
          "TCGA-W3-A825",
          "TCGA-YD-A9TA",
          "TCGA-FS-A1ZB",
          "TCGA-EE-A2A0",
          "TCGA-EE-A2MQ",
          "TCGA-W3-AA1V",
          "TCGA-D3-A2JH",
          "TCGA-YG-AA3O",
          "TCGA-FW-A3R5",
          "TCGA-EE-A181",
          "TCGA-ER-A193",
          "TCGA-EE-A3JD",
          "TCGA-DA-A1IB",
          "TCGA-FS-A1ZZ",
          "TCGA-D3-A51T",
          "TCGA-FS-A1ZU",
          "TCGA-ER-A19F",
          "TCGA-EE-A29N",
          "TCGA-D9-A4Z6",
          "TCGA-3N-A9WB",
          "TCGA-DA-A95Y",
          "TCGA-DA-A95Z",
          "TCGA-W3-AA1O",
          "TCGA-D9-A1JW"
         ],
         "type": "scatter",
         "x": [
          222.5071563720703,
          134.33277893066406,
          126.80409240722656,
          124.30548858642578,
          107.3741683959961,
          107.14402770996094,
          90.90311431884766,
          86.76069641113281,
          77.55531311035156,
          75.4841079711914,
          67.42939758300781,
          66.47598266601562,
          65.91708374023438,
          63.02396774291992,
          49.183021545410156,
          48.8542594909668,
          46.81592559814453,
          43.23240280151367,
          42.081729888916016,
          42.081729888916016,
          37.93931198120117,
          36.95301818847656,
          33.731136322021484,
          31.396915435791016,
          27.353124618530273,
          27.122989654541016,
          27.02436065673828,
          26.89285659790039,
          26.5640926361084,
          26.36683464050293,
          18.608015060424805,
          18.443634033203125,
          17.029951095581055,
          14.136831283569336,
          13.019035339355469,
          4.0109148025512695,
          3.649275064468384
         ],
         "y": [
          0,
          0,
          0.0277777777777779,
          0.0277777777777779,
          0.05637254901960809,
          0.08496732026143816,
          0.11356209150326813,
          0.1421568627450982,
          0.17075163398692816,
          0.19934640522875846,
          0.19934640522875846,
          0.22900024207213776,
          0.22900024207213776,
          0.259840232389252,
          0.2906802227063666,
          0.321520213023481,
          0.321520213023481,
          0.35382877430807724,
          0.3861373355926734,
          0.4202408169486358,
          0.45434429830459855,
          0.4884477796605611,
          0.4884477796605611,
          0.5249872239705209,
          0.5615266682804808,
          0.5615266682804808,
          0.5615266682804808,
          0.5615266682804808,
          0.5615266682804808,
          0.5615266682804808,
          0.5615266682804808,
          0.6346055569004007,
          0.7076844455203205,
          0.7076844455203205,
          0.7076844455203205,
          0.7076844455203205,
          0.7076844455203205
         ]
        }
       ],
       "layout": {
        "template": {
         "data": {
          "bar": [
           {
            "error_x": {
             "color": "#2a3f5f"
            },
            "error_y": {
             "color": "#2a3f5f"
            },
            "marker": {
             "line": {
              "color": "#E5ECF6",
              "width": 0.5
             }
            },
            "type": "bar"
           }
          ],
          "barpolar": [
           {
            "marker": {
             "line": {
              "color": "#E5ECF6",
              "width": 0.5
             }
            },
            "type": "barpolar"
           }
          ],
          "carpet": [
           {
            "aaxis": {
             "endlinecolor": "#2a3f5f",
             "gridcolor": "white",
             "linecolor": "white",
             "minorgridcolor": "white",
             "startlinecolor": "#2a3f5f"
            },
            "baxis": {
             "endlinecolor": "#2a3f5f",
             "gridcolor": "white",
             "linecolor": "white",
             "minorgridcolor": "white",
             "startlinecolor": "#2a3f5f"
            },
            "type": "carpet"
           }
          ],
          "choropleth": [
           {
            "colorbar": {
             "outlinewidth": 0,
             "ticks": ""
            },
            "type": "choropleth"
           }
          ],
          "contour": [
           {
            "colorbar": {
             "outlinewidth": 0,
             "ticks": ""
            },
            "colorscale": [
             [
              0,
              "#0d0887"
             ],
             [
              0.1111111111111111,
              "#46039f"
             ],
             [
              0.2222222222222222,
              "#7201a8"
             ],
             [
              0.3333333333333333,
              "#9c179e"
             ],
             [
              0.4444444444444444,
              "#bd3786"
             ],
             [
              0.5555555555555556,
              "#d8576b"
             ],
             [
              0.6666666666666666,
              "#ed7953"
             ],
             [
              0.7777777777777778,
              "#fb9f3a"
             ],
             [
              0.8888888888888888,
              "#fdca26"
             ],
             [
              1,
              "#f0f921"
             ]
            ],
            "type": "contour"
           }
          ],
          "contourcarpet": [
           {
            "colorbar": {
             "outlinewidth": 0,
             "ticks": ""
            },
            "type": "contourcarpet"
           }
          ],
          "heatmap": [
           {
            "colorbar": {
             "outlinewidth": 0,
             "ticks": ""
            },
            "colorscale": [
             [
              0,
              "#0d0887"
             ],
             [
              0.1111111111111111,
              "#46039f"
             ],
             [
              0.2222222222222222,
              "#7201a8"
             ],
             [
              0.3333333333333333,
              "#9c179e"
             ],
             [
              0.4444444444444444,
              "#bd3786"
             ],
             [
              0.5555555555555556,
              "#d8576b"
             ],
             [
              0.6666666666666666,
              "#ed7953"
             ],
             [
              0.7777777777777778,
              "#fb9f3a"
             ],
             [
              0.8888888888888888,
              "#fdca26"
             ],
             [
              1,
              "#f0f921"
             ]
            ],
            "type": "heatmap"
           }
          ],
          "heatmapgl": [
           {
            "colorbar": {
             "outlinewidth": 0,
             "ticks": ""
            },
            "colorscale": [
             [
              0,
              "#0d0887"
             ],
             [
              0.1111111111111111,
              "#46039f"
             ],
             [
              0.2222222222222222,
              "#7201a8"
             ],
             [
              0.3333333333333333,
              "#9c179e"
             ],
             [
              0.4444444444444444,
              "#bd3786"
             ],
             [
              0.5555555555555556,
              "#d8576b"
             ],
             [
              0.6666666666666666,
              "#ed7953"
             ],
             [
              0.7777777777777778,
              "#fb9f3a"
             ],
             [
              0.8888888888888888,
              "#fdca26"
             ],
             [
              1,
              "#f0f921"
             ]
            ],
            "type": "heatmapgl"
           }
          ],
          "histogram": [
           {
            "marker": {
             "colorbar": {
              "outlinewidth": 0,
              "ticks": ""
             }
            },
            "type": "histogram"
           }
          ],
          "histogram2d": [
           {
            "colorbar": {
             "outlinewidth": 0,
             "ticks": ""
            },
            "colorscale": [
             [
              0,
              "#0d0887"
             ],
             [
              0.1111111111111111,
              "#46039f"
             ],
             [
              0.2222222222222222,
              "#7201a8"
             ],
             [
              0.3333333333333333,
              "#9c179e"
             ],
             [
              0.4444444444444444,
              "#bd3786"
             ],
             [
              0.5555555555555556,
              "#d8576b"
             ],
             [
              0.6666666666666666,
              "#ed7953"
             ],
             [
              0.7777777777777778,
              "#fb9f3a"
             ],
             [
              0.8888888888888888,
              "#fdca26"
             ],
             [
              1,
              "#f0f921"
             ]
            ],
            "type": "histogram2d"
           }
          ],
          "histogram2dcontour": [
           {
            "colorbar": {
             "outlinewidth": 0,
             "ticks": ""
            },
            "colorscale": [
             [
              0,
              "#0d0887"
             ],
             [
              0.1111111111111111,
              "#46039f"
             ],
             [
              0.2222222222222222,
              "#7201a8"
             ],
             [
              0.3333333333333333,
              "#9c179e"
             ],
             [
              0.4444444444444444,
              "#bd3786"
             ],
             [
              0.5555555555555556,
              "#d8576b"
             ],
             [
              0.6666666666666666,
              "#ed7953"
             ],
             [
              0.7777777777777778,
              "#fb9f3a"
             ],
             [
              0.8888888888888888,
              "#fdca26"
             ],
             [
              1,
              "#f0f921"
             ]
            ],
            "type": "histogram2dcontour"
           }
          ],
          "mesh3d": [
           {
            "colorbar": {
             "outlinewidth": 0,
             "ticks": ""
            },
            "type": "mesh3d"
           }
          ],
          "parcoords": [
           {
            "line": {
             "colorbar": {
              "outlinewidth": 0,
              "ticks": ""
             }
            },
            "type": "parcoords"
           }
          ],
          "pie": [
           {
            "automargin": true,
            "type": "pie"
           }
          ],
          "scatter": [
           {
            "marker": {
             "colorbar": {
              "outlinewidth": 0,
              "ticks": ""
             }
            },
            "type": "scatter"
           }
          ],
          "scatter3d": [
           {
            "line": {
             "colorbar": {
              "outlinewidth": 0,
              "ticks": ""
             }
            },
            "marker": {
             "colorbar": {
              "outlinewidth": 0,
              "ticks": ""
             }
            },
            "type": "scatter3d"
           }
          ],
          "scattercarpet": [
           {
            "marker": {
             "colorbar": {
              "outlinewidth": 0,
              "ticks": ""
             }
            },
            "type": "scattercarpet"
           }
          ],
          "scattergeo": [
           {
            "marker": {
             "colorbar": {
              "outlinewidth": 0,
              "ticks": ""
             }
            },
            "type": "scattergeo"
           }
          ],
          "scattergl": [
           {
            "marker": {
             "colorbar": {
              "outlinewidth": 0,
              "ticks": ""
             }
            },
            "type": "scattergl"
           }
          ],
          "scattermapbox": [
           {
            "marker": {
             "colorbar": {
              "outlinewidth": 0,
              "ticks": ""
             }
            },
            "type": "scattermapbox"
           }
          ],
          "scatterpolar": [
           {
            "marker": {
             "colorbar": {
              "outlinewidth": 0,
              "ticks": ""
             }
            },
            "type": "scatterpolar"
           }
          ],
          "scatterpolargl": [
           {
            "marker": {
             "colorbar": {
              "outlinewidth": 0,
              "ticks": ""
             }
            },
            "type": "scatterpolargl"
           }
          ],
          "scatterternary": [
           {
            "marker": {
             "colorbar": {
              "outlinewidth": 0,
              "ticks": ""
             }
            },
            "type": "scatterternary"
           }
          ],
          "surface": [
           {
            "colorbar": {
             "outlinewidth": 0,
             "ticks": ""
            },
            "colorscale": [
             [
              0,
              "#0d0887"
             ],
             [
              0.1111111111111111,
              "#46039f"
             ],
             [
              0.2222222222222222,
              "#7201a8"
             ],
             [
              0.3333333333333333,
              "#9c179e"
             ],
             [
              0.4444444444444444,
              "#bd3786"
             ],
             [
              0.5555555555555556,
              "#d8576b"
             ],
             [
              0.6666666666666666,
              "#ed7953"
             ],
             [
              0.7777777777777778,
              "#fb9f3a"
             ],
             [
              0.8888888888888888,
              "#fdca26"
             ],
             [
              1,
              "#f0f921"
             ]
            ],
            "type": "surface"
           }
          ],
          "table": [
           {
            "cells": {
             "fill": {
              "color": "#EBF0F8"
             },
             "line": {
              "color": "white"
             }
            },
            "header": {
             "fill": {
              "color": "#C8D4E3"
             },
             "line": {
              "color": "white"
             }
            },
            "type": "table"
           }
          ]
         },
         "layout": {
          "annotationdefaults": {
           "arrowcolor": "#2a3f5f",
           "arrowhead": 0,
           "arrowwidth": 1
          },
          "autotypenumbers": "strict",
          "coloraxis": {
           "colorbar": {
            "outlinewidth": 0,
            "ticks": ""
           }
          },
          "colorscale": {
           "diverging": [
            [
             0,
             "#8e0152"
            ],
            [
             0.1,
             "#c51b7d"
            ],
            [
             0.2,
             "#de77ae"
            ],
            [
             0.3,
             "#f1b6da"
            ],
            [
             0.4,
             "#fde0ef"
            ],
            [
             0.5,
             "#f7f7f7"
            ],
            [
             0.6,
             "#e6f5d0"
            ],
            [
             0.7,
             "#b8e186"
            ],
            [
             0.8,
             "#7fbc41"
            ],
            [
             0.9,
             "#4d9221"
            ],
            [
             1,
             "#276419"
            ]
           ],
           "sequential": [
            [
             0,
             "#0d0887"
            ],
            [
             0.1111111111111111,
             "#46039f"
            ],
            [
             0.2222222222222222,
             "#7201a8"
            ],
            [
             0.3333333333333333,
             "#9c179e"
            ],
            [
             0.4444444444444444,
             "#bd3786"
            ],
            [
             0.5555555555555556,
             "#d8576b"
            ],
            [
             0.6666666666666666,
             "#ed7953"
            ],
            [
             0.7777777777777778,
             "#fb9f3a"
            ],
            [
             0.8888888888888888,
             "#fdca26"
            ],
            [
             1,
             "#f0f921"
            ]
           ],
           "sequentialminus": [
            [
             0,
             "#0d0887"
            ],
            [
             0.1111111111111111,
             "#46039f"
            ],
            [
             0.2222222222222222,
             "#7201a8"
            ],
            [
             0.3333333333333333,
             "#9c179e"
            ],
            [
             0.4444444444444444,
             "#bd3786"
            ],
            [
             0.5555555555555556,
             "#d8576b"
            ],
            [
             0.6666666666666666,
             "#ed7953"
            ],
            [
             0.7777777777777778,
             "#fb9f3a"
            ],
            [
             0.8888888888888888,
             "#fdca26"
            ],
            [
             1,
             "#f0f921"
            ]
           ]
          },
          "colorway": [
           "#636efa",
           "#EF553B",
           "#00cc96",
           "#ab63fa",
           "#FFA15A",
           "#19d3f3",
           "#FF6692",
           "#B6E880",
           "#FF97FF",
           "#FECB52"
          ],
          "font": {
           "color": "#2a3f5f"
          },
          "geo": {
           "bgcolor": "white",
           "lakecolor": "white",
           "landcolor": "#E5ECF6",
           "showlakes": true,
           "showland": true,
           "subunitcolor": "white"
          },
          "hoverlabel": {
           "align": "left"
          },
          "hovermode": "closest",
          "mapbox": {
           "style": "light"
          },
          "paper_bgcolor": "white",
          "plot_bgcolor": "#E5ECF6",
          "polar": {
           "angularaxis": {
            "gridcolor": "white",
            "linecolor": "white",
            "ticks": ""
           },
           "bgcolor": "#E5ECF6",
           "radialaxis": {
            "gridcolor": "white",
            "linecolor": "white",
            "ticks": ""
           }
          },
          "scene": {
           "xaxis": {
            "backgroundcolor": "#E5ECF6",
            "gridcolor": "white",
            "gridwidth": 2,
            "linecolor": "white",
            "showbackground": true,
            "ticks": "",
            "zerolinecolor": "white"
           },
           "yaxis": {
            "backgroundcolor": "#E5ECF6",
            "gridcolor": "white",
            "gridwidth": 2,
            "linecolor": "white",
            "showbackground": true,
            "ticks": "",
            "zerolinecolor": "white"
           },
           "zaxis": {
            "backgroundcolor": "#E5ECF6",
            "gridcolor": "white",
            "gridwidth": 2,
            "linecolor": "white",
            "showbackground": true,
            "ticks": "",
            "zerolinecolor": "white"
           }
          },
          "shapedefaults": {
           "line": {
            "color": "#2a3f5f"
           }
          },
          "ternary": {
           "aaxis": {
            "gridcolor": "white",
            "linecolor": "white",
            "ticks": ""
           },
           "baxis": {
            "gridcolor": "white",
            "linecolor": "white",
            "ticks": ""
           },
           "bgcolor": "#E5ECF6",
           "caxis": {
            "gridcolor": "white",
            "linecolor": "white",
            "ticks": ""
           }
          },
          "title": {
           "x": 0.05
          },
          "xaxis": {
           "automargin": true,
           "gridcolor": "white",
           "linecolor": "white",
           "ticks": "",
           "title": {
            "standoff": 15
           },
           "zerolinecolor": "white",
           "zerolinewidth": 2
          },
          "yaxis": {
           "automargin": true,
           "gridcolor": "white",
           "linecolor": "white",
           "ticks": "",
           "title": {
            "standoff": 15
           },
           "zerolinecolor": "white",
           "zerolinewidth": 2
          }
         }
        }
       }
      },
      "text/html": [
       "<div>                            <div id=\"2b98a5af-935c-4ff1-966e-1ac5c53bdc30\" class=\"plotly-graph-div\" style=\"height:525px; width:100%;\"></div>            <script type=\"text/javascript\">                require([\"plotly\"], function(Plotly) {                    window.PLOTLYENV=window.PLOTLYENV || {};                                    if (document.getElementById(\"2b98a5af-935c-4ff1-966e-1ac5c53bdc30\")) {                    Plotly.newPlot(                        \"2b98a5af-935c-4ff1-966e-1ac5c53bdc30\",                        [{\"mode\": \"lines+markers\", \"text\": [\"TCGA-DA-A1I1\", \"TCGA-EE-A3JH\", \"TCGA-EE-A2GO\", \"TCGA-EE-A3AA\", \"TCGA-EE-A2GJ\", \"TCGA-D3-A8GM\", \"TCGA-D3-A1QA\", \"TCGA-D3-A2JC\", \"TCGA-D9-A6EC\", \"TCGA-EE-A2GM\", \"TCGA-EE-A2GC\", \"TCGA-3N-A9WC\", \"TCGA-DA-A1IA\", \"TCGA-W3-A825\", \"TCGA-YD-A9TA\", \"TCGA-FS-A1ZB\", \"TCGA-EE-A2A0\", \"TCGA-EE-A2MQ\", \"TCGA-W3-AA1V\", \"TCGA-D3-A2JH\", \"TCGA-YG-AA3O\", \"TCGA-FW-A3R5\", \"TCGA-EE-A181\", \"TCGA-ER-A193\", \"TCGA-EE-A3JD\", \"TCGA-DA-A1IB\", \"TCGA-FS-A1ZZ\", \"TCGA-D3-A51T\", \"TCGA-FS-A1ZU\", \"TCGA-ER-A19F\", \"TCGA-EE-A29N\", \"TCGA-D9-A4Z6\", \"TCGA-3N-A9WB\", \"TCGA-DA-A95Y\", \"TCGA-DA-A95Z\", \"TCGA-W3-AA1O\", \"TCGA-D9-A1JW\"], \"type\": \"scatter\", \"x\": [222.5071563720703, 134.33277893066406, 126.80409240722656, 124.30548858642578, 107.3741683959961, 107.14402770996094, 90.90311431884766, 86.76069641113281, 77.55531311035156, 75.4841079711914, 67.42939758300781, 66.47598266601562, 65.91708374023438, 63.02396774291992, 49.183021545410156, 48.8542594909668, 46.81592559814453, 43.23240280151367, 42.081729888916016, 42.081729888916016, 37.93931198120117, 36.95301818847656, 33.731136322021484, 31.396915435791016, 27.353124618530273, 27.122989654541016, 27.02436065673828, 26.89285659790039, 26.5640926361084, 26.36683464050293, 18.608015060424805, 18.443634033203125, 17.029951095581055, 14.136831283569336, 13.019035339355469, 4.0109148025512695, 3.649275064468384], \"y\": [0.0, 0.0, 0.0277777777777779, 0.0277777777777779, 0.05637254901960809, 0.08496732026143816, 0.11356209150326813, 0.1421568627450982, 0.17075163398692816, 0.19934640522875846, 0.19934640522875846, 0.22900024207213776, 0.22900024207213776, 0.259840232389252, 0.2906802227063666, 0.321520213023481, 0.321520213023481, 0.35382877430807724, 0.3861373355926734, 0.4202408169486358, 0.45434429830459855, 0.4884477796605611, 0.4884477796605611, 0.5249872239705209, 0.5615266682804808, 0.5615266682804808, 0.5615266682804808, 0.5615266682804808, 0.5615266682804808, 0.5615266682804808, 0.5615266682804808, 0.6346055569004007, 0.7076844455203205, 0.7076844455203205, 0.7076844455203205, 0.7076844455203205, 0.7076844455203205]}],                        {\"template\": {\"data\": {\"bar\": [{\"error_x\": {\"color\": \"#2a3f5f\"}, \"error_y\": {\"color\": \"#2a3f5f\"}, \"marker\": {\"line\": {\"color\": \"#E5ECF6\", \"width\": 0.5}}, \"type\": \"bar\"}], \"barpolar\": [{\"marker\": {\"line\": {\"color\": \"#E5ECF6\", \"width\": 0.5}}, \"type\": \"barpolar\"}], \"carpet\": [{\"aaxis\": {\"endlinecolor\": \"#2a3f5f\", \"gridcolor\": \"white\", \"linecolor\": \"white\", \"minorgridcolor\": \"white\", \"startlinecolor\": \"#2a3f5f\"}, \"baxis\": {\"endlinecolor\": \"#2a3f5f\", \"gridcolor\": \"white\", \"linecolor\": \"white\", \"minorgridcolor\": \"white\", \"startlinecolor\": \"#2a3f5f\"}, \"type\": \"carpet\"}], \"choropleth\": [{\"colorbar\": {\"outlinewidth\": 0, \"ticks\": \"\"}, \"type\": \"choropleth\"}], \"contour\": [{\"colorbar\": {\"outlinewidth\": 0, \"ticks\": \"\"}, \"colorscale\": [[0.0, \"#0d0887\"], [0.1111111111111111, \"#46039f\"], [0.2222222222222222, \"#7201a8\"], [0.3333333333333333, \"#9c179e\"], [0.4444444444444444, \"#bd3786\"], [0.5555555555555556, \"#d8576b\"], [0.6666666666666666, \"#ed7953\"], [0.7777777777777778, \"#fb9f3a\"], [0.8888888888888888, \"#fdca26\"], [1.0, \"#f0f921\"]], \"type\": \"contour\"}], \"contourcarpet\": [{\"colorbar\": {\"outlinewidth\": 0, \"ticks\": \"\"}, \"type\": \"contourcarpet\"}], \"heatmap\": [{\"colorbar\": {\"outlinewidth\": 0, \"ticks\": \"\"}, \"colorscale\": [[0.0, \"#0d0887\"], [0.1111111111111111, \"#46039f\"], [0.2222222222222222, \"#7201a8\"], [0.3333333333333333, \"#9c179e\"], [0.4444444444444444, \"#bd3786\"], [0.5555555555555556, \"#d8576b\"], [0.6666666666666666, \"#ed7953\"], [0.7777777777777778, \"#fb9f3a\"], [0.8888888888888888, \"#fdca26\"], [1.0, \"#f0f921\"]], \"type\": \"heatmap\"}], \"heatmapgl\": [{\"colorbar\": {\"outlinewidth\": 0, \"ticks\": \"\"}, \"colorscale\": [[0.0, \"#0d0887\"], [0.1111111111111111, \"#46039f\"], [0.2222222222222222, \"#7201a8\"], [0.3333333333333333, \"#9c179e\"], [0.4444444444444444, \"#bd3786\"], [0.5555555555555556, \"#d8576b\"], [0.6666666666666666, \"#ed7953\"], [0.7777777777777778, \"#fb9f3a\"], [0.8888888888888888, \"#fdca26\"], [1.0, \"#f0f921\"]], \"type\": \"heatmapgl\"}], \"histogram\": [{\"marker\": {\"colorbar\": {\"outlinewidth\": 0, \"ticks\": \"\"}}, \"type\": \"histogram\"}], \"histogram2d\": [{\"colorbar\": {\"outlinewidth\": 0, \"ticks\": \"\"}, \"colorscale\": [[0.0, \"#0d0887\"], [0.1111111111111111, \"#46039f\"], [0.2222222222222222, \"#7201a8\"], [0.3333333333333333, \"#9c179e\"], [0.4444444444444444, \"#bd3786\"], [0.5555555555555556, \"#d8576b\"], [0.6666666666666666, \"#ed7953\"], [0.7777777777777778, \"#fb9f3a\"], [0.8888888888888888, \"#fdca26\"], [1.0, \"#f0f921\"]], \"type\": \"histogram2d\"}], \"histogram2dcontour\": [{\"colorbar\": {\"outlinewidth\": 0, \"ticks\": \"\"}, \"colorscale\": [[0.0, \"#0d0887\"], [0.1111111111111111, \"#46039f\"], [0.2222222222222222, \"#7201a8\"], [0.3333333333333333, \"#9c179e\"], [0.4444444444444444, \"#bd3786\"], [0.5555555555555556, \"#d8576b\"], [0.6666666666666666, \"#ed7953\"], [0.7777777777777778, \"#fb9f3a\"], [0.8888888888888888, \"#fdca26\"], [1.0, \"#f0f921\"]], \"type\": \"histogram2dcontour\"}], \"mesh3d\": [{\"colorbar\": {\"outlinewidth\": 0, \"ticks\": \"\"}, \"type\": \"mesh3d\"}], \"parcoords\": [{\"line\": {\"colorbar\": {\"outlinewidth\": 0, \"ticks\": \"\"}}, \"type\": \"parcoords\"}], \"pie\": [{\"automargin\": true, \"type\": \"pie\"}], \"scatter\": [{\"marker\": {\"colorbar\": {\"outlinewidth\": 0, \"ticks\": \"\"}}, \"type\": \"scatter\"}], \"scatter3d\": [{\"line\": {\"colorbar\": {\"outlinewidth\": 0, \"ticks\": \"\"}}, \"marker\": {\"colorbar\": {\"outlinewidth\": 0, \"ticks\": \"\"}}, \"type\": \"scatter3d\"}], \"scattercarpet\": [{\"marker\": {\"colorbar\": {\"outlinewidth\": 0, \"ticks\": \"\"}}, \"type\": \"scattercarpet\"}], \"scattergeo\": [{\"marker\": {\"colorbar\": {\"outlinewidth\": 0, \"ticks\": \"\"}}, \"type\": \"scattergeo\"}], \"scattergl\": [{\"marker\": {\"colorbar\": {\"outlinewidth\": 0, \"ticks\": \"\"}}, \"type\": \"scattergl\"}], \"scattermapbox\": [{\"marker\": {\"colorbar\": {\"outlinewidth\": 0, \"ticks\": \"\"}}, \"type\": \"scattermapbox\"}], \"scatterpolar\": [{\"marker\": {\"colorbar\": {\"outlinewidth\": 0, \"ticks\": \"\"}}, \"type\": \"scatterpolar\"}], \"scatterpolargl\": [{\"marker\": {\"colorbar\": {\"outlinewidth\": 0, \"ticks\": \"\"}}, \"type\": \"scatterpolargl\"}], \"scatterternary\": [{\"marker\": {\"colorbar\": {\"outlinewidth\": 0, \"ticks\": \"\"}}, \"type\": \"scatterternary\"}], \"surface\": [{\"colorbar\": {\"outlinewidth\": 0, \"ticks\": \"\"}, \"colorscale\": [[0.0, \"#0d0887\"], [0.1111111111111111, \"#46039f\"], [0.2222222222222222, \"#7201a8\"], [0.3333333333333333, \"#9c179e\"], [0.4444444444444444, \"#bd3786\"], [0.5555555555555556, \"#d8576b\"], [0.6666666666666666, \"#ed7953\"], [0.7777777777777778, \"#fb9f3a\"], [0.8888888888888888, \"#fdca26\"], [1.0, \"#f0f921\"]], \"type\": \"surface\"}], \"table\": [{\"cells\": {\"fill\": {\"color\": \"#EBF0F8\"}, \"line\": {\"color\": \"white\"}}, \"header\": {\"fill\": {\"color\": \"#C8D4E3\"}, \"line\": {\"color\": \"white\"}}, \"type\": \"table\"}]}, \"layout\": {\"annotationdefaults\": {\"arrowcolor\": \"#2a3f5f\", \"arrowhead\": 0, \"arrowwidth\": 1}, \"autotypenumbers\": \"strict\", \"coloraxis\": {\"colorbar\": {\"outlinewidth\": 0, \"ticks\": \"\"}}, \"colorscale\": {\"diverging\": [[0, \"#8e0152\"], [0.1, \"#c51b7d\"], [0.2, \"#de77ae\"], [0.3, \"#f1b6da\"], [0.4, \"#fde0ef\"], [0.5, \"#f7f7f7\"], [0.6, \"#e6f5d0\"], [0.7, \"#b8e186\"], [0.8, \"#7fbc41\"], [0.9, \"#4d9221\"], [1, \"#276419\"]], \"sequential\": [[0.0, \"#0d0887\"], [0.1111111111111111, \"#46039f\"], [0.2222222222222222, \"#7201a8\"], [0.3333333333333333, \"#9c179e\"], [0.4444444444444444, \"#bd3786\"], [0.5555555555555556, \"#d8576b\"], [0.6666666666666666, \"#ed7953\"], [0.7777777777777778, \"#fb9f3a\"], [0.8888888888888888, \"#fdca26\"], [1.0, \"#f0f921\"]], \"sequentialminus\": [[0.0, \"#0d0887\"], [0.1111111111111111, \"#46039f\"], [0.2222222222222222, \"#7201a8\"], [0.3333333333333333, \"#9c179e\"], [0.4444444444444444, \"#bd3786\"], [0.5555555555555556, \"#d8576b\"], [0.6666666666666666, \"#ed7953\"], [0.7777777777777778, \"#fb9f3a\"], [0.8888888888888888, \"#fdca26\"], [1.0, \"#f0f921\"]]}, \"colorway\": [\"#636efa\", \"#EF553B\", \"#00cc96\", \"#ab63fa\", \"#FFA15A\", \"#19d3f3\", \"#FF6692\", \"#B6E880\", \"#FF97FF\", \"#FECB52\"], \"font\": {\"color\": \"#2a3f5f\"}, \"geo\": {\"bgcolor\": \"white\", \"lakecolor\": \"white\", \"landcolor\": \"#E5ECF6\", \"showlakes\": true, \"showland\": true, \"subunitcolor\": \"white\"}, \"hoverlabel\": {\"align\": \"left\"}, \"hovermode\": \"closest\", \"mapbox\": {\"style\": \"light\"}, \"paper_bgcolor\": \"white\", \"plot_bgcolor\": \"#E5ECF6\", \"polar\": {\"angularaxis\": {\"gridcolor\": \"white\", \"linecolor\": \"white\", \"ticks\": \"\"}, \"bgcolor\": \"#E5ECF6\", \"radialaxis\": {\"gridcolor\": \"white\", \"linecolor\": \"white\", \"ticks\": \"\"}}, \"scene\": {\"xaxis\": {\"backgroundcolor\": \"#E5ECF6\", \"gridcolor\": \"white\", \"gridwidth\": 2, \"linecolor\": \"white\", \"showbackground\": true, \"ticks\": \"\", \"zerolinecolor\": \"white\"}, \"yaxis\": {\"backgroundcolor\": \"#E5ECF6\", \"gridcolor\": \"white\", \"gridwidth\": 2, \"linecolor\": \"white\", \"showbackground\": true, \"ticks\": \"\", \"zerolinecolor\": \"white\"}, \"zaxis\": {\"backgroundcolor\": \"#E5ECF6\", \"gridcolor\": \"white\", \"gridwidth\": 2, \"linecolor\": \"white\", \"showbackground\": true, \"ticks\": \"\", \"zerolinecolor\": \"white\"}}, \"shapedefaults\": {\"line\": {\"color\": \"#2a3f5f\"}}, \"ternary\": {\"aaxis\": {\"gridcolor\": \"white\", \"linecolor\": \"white\", \"ticks\": \"\"}, \"baxis\": {\"gridcolor\": \"white\", \"linecolor\": \"white\", \"ticks\": \"\"}, \"bgcolor\": \"#E5ECF6\", \"caxis\": {\"gridcolor\": \"white\", \"linecolor\": \"white\", \"ticks\": \"\"}}, \"title\": {\"x\": 0.05}, \"xaxis\": {\"automargin\": true, \"gridcolor\": \"white\", \"linecolor\": \"white\", \"ticks\": \"\", \"title\": {\"standoff\": 15}, \"zerolinecolor\": \"white\", \"zerolinewidth\": 2}, \"yaxis\": {\"automargin\": true, \"gridcolor\": \"white\", \"linecolor\": \"white\", \"ticks\": \"\", \"title\": {\"standoff\": 15}, \"zerolinecolor\": \"white\", \"zerolinewidth\": 2}}}},                        {\"responsive\": true}                    ).then(function(){\n",
       "                            \n",
       "var gd = document.getElementById('2b98a5af-935c-4ff1-966e-1ac5c53bdc30');\n",
       "var x = new MutationObserver(function (mutations, observer) {{\n",
       "        var display = window.getComputedStyle(gd).display;\n",
       "        if (!display || display === 'none') {{\n",
       "            console.log([gd, 'removed!']);\n",
       "            Plotly.purge(gd);\n",
       "            observer.disconnect();\n",
       "        }}\n",
       "}});\n",
       "\n",
       "// Listen for the removal of the full notebook cells\n",
       "var notebookContainer = gd.closest('#notebook-container');\n",
       "if (notebookContainer) {{\n",
       "    x.observe(notebookContainer, {childList: true});\n",
       "}}\n",
       "\n",
       "// Listen for the clearing of the current output cell\n",
       "var outputEl = gd.closest('.output');\n",
       "if (outputEl) {{\n",
       "    x.observe(outputEl, {childList: true});\n",
       "}}\n",
       "\n",
       "                        })                };                });            </script>        </div>"
      ]
     },
     "metadata": {},
     "output_type": "display_data"
    }
   ],
   "source": [
    "import plotly.graph_objects as go\n",
    "\n",
    "fig = go.Figure(data=go.Scatter(\n",
    "    x=uos.value_month,\n",
    "    y=kme['Kaplan Meier Estimate'],\n",
    "    mode='lines+markers',\n",
    "    text=uos.patientId\n",
    "))\n",
    "\n",
    "fig.show()\n"
   ]
  },
  {
   "cell_type": "code",
   "execution_count": null,
   "id": "latest-kelly",
   "metadata": {},
   "outputs": [],
   "source": []
  }
 ],
 "metadata": {
  "kernelspec": {
   "display_name": "Python 3",
   "language": "python",
   "name": "python3"
  },
  "language_info": {
   "codemirror_mode": {
    "name": "ipython",
    "version": 3
   },
   "file_extension": ".py",
   "mimetype": "text/x-python",
   "name": "python",
   "nbconvert_exporter": "python",
   "pygments_lexer": "ipython3",
   "version": "3.7.3"
  }
 },
 "nbformat": 4,
 "nbformat_minor": 5
}
